{
 "cells": [
  {
   "cell_type": "code",
   "execution_count": 1,
   "metadata": {
    "collapsed": true
   },
   "outputs": [],
   "source": [
    "def find_max_subarray(a, low, high):\n",
    "    if high == low:\n",
    "        print(\"I get to if statement\")\n",
    "        print(low)\n",
    "        print(high)\n",
    "        return (low, high, a[low])\n",
    "    else:\n",
    "        print(\"I get to else statement\")\n",
    "        mid = (low + high)//2\n",
    "        print(\"mid is\", mid)\n",
    "        print(\"low is\", low)\n",
    "        print(\"high is\", high)\n",
    "        \n",
    "        print(\"doing the left array\")\n",
    "        (left_low, left_high, left_sum) = find_max_subarray(a, low, mid)\n",
    "        \n",
    "        print(\"doing the right array\")\n",
    "        (right_low, right_high, right_sum) = find_max_subarray(a, mid + 1, high)\n",
    "    \n",
    "    return (right_low, right_high, right_sum)"
   ]
  },
  {
   "cell_type": "code",
   "execution_count": 2,
   "metadata": {
    "collapsed": true
   },
   "outputs": [],
   "source": [
    "A = [1,2,3,4,5]"
   ]
  },
  {
   "cell_type": "code",
   "execution_count": 3,
   "metadata": {
    "collapsed": false
   },
   "outputs": [
    {
     "name": "stdout",
     "output_type": "stream",
     "text": [
      "I get to else statement\n",
      "mid is 2\n",
      "low is 0\n",
      "high is 4\n",
      "doing the left array\n",
      "I get to else statement\n",
      "mid is 1\n",
      "low is 0\n",
      "high is 2\n",
      "doing the left array\n",
      "I get to else statement\n",
      "mid is 0\n",
      "low is 0\n",
      "high is 1\n",
      "doing the left array\n",
      "I get to if statement\n",
      "0\n",
      "0\n",
      "doing the right array\n",
      "I get to if statement\n",
      "1\n",
      "1\n",
      "doing the right array\n",
      "I get to if statement\n",
      "2\n",
      "2\n",
      "doing the right array\n",
      "I get to else statement\n",
      "mid is 3\n",
      "low is 3\n",
      "high is 4\n",
      "doing the left array\n",
      "I get to if statement\n",
      "3\n",
      "3\n",
      "doing the right array\n",
      "I get to if statement\n",
      "4\n",
      "4\n"
     ]
    },
    {
     "data": {
      "text/plain": [
       "(4, 4, 5)"
      ]
     },
     "execution_count": 3,
     "metadata": {},
     "output_type": "execute_result"
    }
   ],
   "source": [
    "find_max_subarray(a=A, low=0, high=len(A) - 1)"
   ]
  },
  {
   "cell_type": "code",
   "execution_count": null,
   "metadata": {
    "collapsed": true
   },
   "outputs": [],
   "source": []
  }
 ],
 "metadata": {
  "kernelspec": {
   "display_name": "Python 3",
   "language": "python",
   "name": "python3"
  },
  "language_info": {
   "codemirror_mode": {
    "name": "ipython",
    "version": 3
   },
   "file_extension": ".py",
   "mimetype": "text/x-python",
   "name": "python",
   "nbconvert_exporter": "python",
   "pygments_lexer": "ipython3",
   "version": "3.5.1"
  }
 },
 "nbformat": 4,
 "nbformat_minor": 0
}
