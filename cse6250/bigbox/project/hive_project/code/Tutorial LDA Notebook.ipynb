{
 "cells": [
  {
   "cell_type": "code",
   "execution_count": 1,
   "metadata": {},
   "outputs": [
    {
     "name": "stderr",
     "output_type": "stream",
     "text": [
      "/Users/VincentLa/anaconda3/envs/cse6250-project/lib/python3.6/site-packages/psycopg2/__init__.py:144: UserWarning: The psycopg2 wheel package will be renamed from release 2.8; in order to keep installing from binary please use \"pip install psycopg2-binary\" instead. For details see: <http://initd.org/psycopg/docs/install.html#binary-install-from-pypi>.\n",
      "  \"\"\")\n"
     ]
    }
   ],
   "source": [
    "import datetime as dt\n",
    "import os\n",
    "import sys\n",
    "\n",
    "import numpy as np\n",
    "import pandas as pd\n",
    "from scipy import interp\n",
    "import scipy.stats as stats\n",
    "from sklearn.model_selection import train_test_split\n",
    "from sklearn.ensemble import RandomForestClassifier\n",
    "from sklearn.metrics import accuracy_score, auc, confusion_matrix, roc_curve, average_precision_score, precision_recall_curve\n",
    "from sklearn.model_selection import StratifiedKFold\n",
    "import sqlalchemy as sa\n",
    "from sqlalchemy import create_engine\n",
    "import matplotlib.pyplot as plt\n",
    "%matplotlib inline\n",
    "\n",
    "sys.path.append('../')\n",
    "from utilities import sql_utils as su\n",
    "from utilities import model_eval_utils as meu\n",
    "\n",
    "DWH = os.getenv('MIMIC_DWH')\n",
    "engine = create_engine(DWH)\n",
    "\n",
    "pd.options.display.max_columns = 1000\n",
    "pd.options.display.max_rows = 1000\n",
    "pd.set_option('display.float_format', lambda x: '%.3f' % x)"
   ]
  },
  {
   "cell_type": "markdown",
   "metadata": {},
   "source": [
    "LDA Implementation Tutorial: https://towardsdatascience.com/topic-modeling-and-latent-dirichlet-allocation-in-python-9bf156893c24\n",
    "\n",
    "LDA Intuition Guide: https://towardsdatascience.com/light-on-math-machine-learning-intuitive-guide-to-latent-dirichlet-allocation-437c81220158\n",
    "\n",
    "LDA Description: http://blog.echen.me/2011/08/22/introduction-to-latent-dirichlet-allocation/"
   ]
  },
  {
   "cell_type": "code",
   "execution_count": 7,
   "metadata": {
    "collapsed": true
   },
   "outputs": [],
   "source": [
    "df = pd.read_csv('~/git/GeorgiaTech/cse6250/bigbox/project/data/tutorial/abcnews-date-text.csv', error_bad_lines=False);"
   ]
  },
  {
   "cell_type": "code",
   "execution_count": 8,
   "metadata": {},
   "outputs": [
    {
     "data": {
      "text/html": [
       "<div>\n",
       "<style scoped>\n",
       "    .dataframe tbody tr th:only-of-type {\n",
       "        vertical-align: middle;\n",
       "    }\n",
       "\n",
       "    .dataframe tbody tr th {\n",
       "        vertical-align: top;\n",
       "    }\n",
       "\n",
       "    .dataframe thead th {\n",
       "        text-align: right;\n",
       "    }\n",
       "</style>\n",
       "<table border=\"1\" class=\"dataframe\">\n",
       "  <thead>\n",
       "    <tr style=\"text-align: right;\">\n",
       "      <th></th>\n",
       "      <th>publish_date</th>\n",
       "      <th>headline_text</th>\n",
       "    </tr>\n",
       "  </thead>\n",
       "  <tbody>\n",
       "    <tr>\n",
       "      <th>0</th>\n",
       "      <td>20030219</td>\n",
       "      <td>aba decides against community broadcasting lic...</td>\n",
       "    </tr>\n",
       "    <tr>\n",
       "      <th>1</th>\n",
       "      <td>20030219</td>\n",
       "      <td>act fire witnesses must be aware of defamation</td>\n",
       "    </tr>\n",
       "    <tr>\n",
       "      <th>2</th>\n",
       "      <td>20030219</td>\n",
       "      <td>a g calls for infrastructure protection summit</td>\n",
       "    </tr>\n",
       "    <tr>\n",
       "      <th>3</th>\n",
       "      <td>20030219</td>\n",
       "      <td>air nz staff in aust strike for pay rise</td>\n",
       "    </tr>\n",
       "    <tr>\n",
       "      <th>4</th>\n",
       "      <td>20030219</td>\n",
       "      <td>air nz strike to affect australian travellers</td>\n",
       "    </tr>\n",
       "  </tbody>\n",
       "</table>\n",
       "</div>"
      ],
      "text/plain": [
       "   publish_date                                      headline_text\n",
       "0      20030219  aba decides against community broadcasting lic...\n",
       "1      20030219     act fire witnesses must be aware of defamation\n",
       "2      20030219     a g calls for infrastructure protection summit\n",
       "3      20030219           air nz staff in aust strike for pay rise\n",
       "4      20030219      air nz strike to affect australian travellers"
      ]
     },
     "execution_count": 8,
     "metadata": {},
     "output_type": "execute_result"
    }
   ],
   "source": [
    "df.head()"
   ]
  },
  {
   "cell_type": "code",
   "execution_count": 11,
   "metadata": {
    "collapsed": true
   },
   "outputs": [],
   "source": [
    "data_text = df[['headline_text']]\n",
    "data_text['index'] = data_text.index"
   ]
  },
  {
   "cell_type": "code",
   "execution_count": 12,
   "metadata": {
    "scrolled": true
   },
   "outputs": [
    {
     "data": {
      "text/html": [
       "<div>\n",
       "<style scoped>\n",
       "    .dataframe tbody tr th:only-of-type {\n",
       "        vertical-align: middle;\n",
       "    }\n",
       "\n",
       "    .dataframe tbody tr th {\n",
       "        vertical-align: top;\n",
       "    }\n",
       "\n",
       "    .dataframe thead th {\n",
       "        text-align: right;\n",
       "    }\n",
       "</style>\n",
       "<table border=\"1\" class=\"dataframe\">\n",
       "  <thead>\n",
       "    <tr style=\"text-align: right;\">\n",
       "      <th></th>\n",
       "      <th>headline_text</th>\n",
       "      <th>index</th>\n",
       "    </tr>\n",
       "  </thead>\n",
       "  <tbody>\n",
       "    <tr>\n",
       "      <th>0</th>\n",
       "      <td>aba decides against community broadcasting lic...</td>\n",
       "      <td>0</td>\n",
       "    </tr>\n",
       "    <tr>\n",
       "      <th>1</th>\n",
       "      <td>act fire witnesses must be aware of defamation</td>\n",
       "      <td>1</td>\n",
       "    </tr>\n",
       "    <tr>\n",
       "      <th>2</th>\n",
       "      <td>a g calls for infrastructure protection summit</td>\n",
       "      <td>2</td>\n",
       "    </tr>\n",
       "    <tr>\n",
       "      <th>3</th>\n",
       "      <td>air nz staff in aust strike for pay rise</td>\n",
       "      <td>3</td>\n",
       "    </tr>\n",
       "    <tr>\n",
       "      <th>4</th>\n",
       "      <td>air nz strike to affect australian travellers</td>\n",
       "      <td>4</td>\n",
       "    </tr>\n",
       "  </tbody>\n",
       "</table>\n",
       "</div>"
      ],
      "text/plain": [
       "                                       headline_text  index\n",
       "0  aba decides against community broadcasting lic...      0\n",
       "1     act fire witnesses must be aware of defamation      1\n",
       "2     a g calls for infrastructure protection summit      2\n",
       "3           air nz staff in aust strike for pay rise      3\n",
       "4      air nz strike to affect australian travellers      4"
      ]
     },
     "execution_count": 12,
     "metadata": {},
     "output_type": "execute_result"
    }
   ],
   "source": [
    "data_text.head()"
   ]
  },
  {
   "cell_type": "code",
   "execution_count": 13,
   "metadata": {
    "collapsed": true
   },
   "outputs": [],
   "source": [
    "documents = data_text"
   ]
  },
  {
   "cell_type": "code",
   "execution_count": 14,
   "metadata": {},
   "outputs": [
    {
     "data": {
      "text/html": [
       "<div>\n",
       "<style scoped>\n",
       "    .dataframe tbody tr th:only-of-type {\n",
       "        vertical-align: middle;\n",
       "    }\n",
       "\n",
       "    .dataframe tbody tr th {\n",
       "        vertical-align: top;\n",
       "    }\n",
       "\n",
       "    .dataframe thead th {\n",
       "        text-align: right;\n",
       "    }\n",
       "</style>\n",
       "<table border=\"1\" class=\"dataframe\">\n",
       "  <thead>\n",
       "    <tr style=\"text-align: right;\">\n",
       "      <th></th>\n",
       "      <th>headline_text</th>\n",
       "      <th>index</th>\n",
       "    </tr>\n",
       "  </thead>\n",
       "  <tbody>\n",
       "    <tr>\n",
       "      <th>0</th>\n",
       "      <td>aba decides against community broadcasting lic...</td>\n",
       "      <td>0</td>\n",
       "    </tr>\n",
       "    <tr>\n",
       "      <th>1</th>\n",
       "      <td>act fire witnesses must be aware of defamation</td>\n",
       "      <td>1</td>\n",
       "    </tr>\n",
       "    <tr>\n",
       "      <th>2</th>\n",
       "      <td>a g calls for infrastructure protection summit</td>\n",
       "      <td>2</td>\n",
       "    </tr>\n",
       "    <tr>\n",
       "      <th>3</th>\n",
       "      <td>air nz staff in aust strike for pay rise</td>\n",
       "      <td>3</td>\n",
       "    </tr>\n",
       "    <tr>\n",
       "      <th>4</th>\n",
       "      <td>air nz strike to affect australian travellers</td>\n",
       "      <td>4</td>\n",
       "    </tr>\n",
       "  </tbody>\n",
       "</table>\n",
       "</div>"
      ],
      "text/plain": [
       "                                       headline_text  index\n",
       "0  aba decides against community broadcasting lic...      0\n",
       "1     act fire witnesses must be aware of defamation      1\n",
       "2     a g calls for infrastructure protection summit      2\n",
       "3           air nz staff in aust strike for pay rise      3\n",
       "4      air nz strike to affect australian travellers      4"
      ]
     },
     "execution_count": 14,
     "metadata": {},
     "output_type": "execute_result"
    }
   ],
   "source": [
    "documents.head()"
   ]
  },
  {
   "cell_type": "code",
   "execution_count": 15,
   "metadata": {},
   "outputs": [
    {
     "name": "stdout",
     "output_type": "stream",
     "text": [
      "1103665\n",
      "                                       headline_text  index\n",
      "0  aba decides against community broadcasting lic...      0\n",
      "1     act fire witnesses must be aware of defamation      1\n",
      "2     a g calls for infrastructure protection summit      2\n",
      "3           air nz staff in aust strike for pay rise      3\n",
      "4      air nz strike to affect australian travellers      4\n"
     ]
    }
   ],
   "source": [
    "print(len(documents))\n",
    "print(documents[:5])"
   ]
  },
  {
   "cell_type": "markdown",
   "metadata": {},
   "source": [
    "## Data Preprocessing"
   ]
  },
  {
   "cell_type": "markdown",
   "metadata": {},
   "source": [
    "1. Tokenization: Split the text into sentences and the sentences into words. Lowercase the words and remove punctuation.\n",
    "2. Words that have fewer than 3 characters are removed.\n",
    "3. All stopwords are removed.\n",
    "4. Words are lemmatized — words in third person are changed to first person and verbs in past and future tenses are changed into present.\n",
    "5. Words are stemmed — words are reduced to their root form."
   ]
  },
  {
   "cell_type": "markdown",
   "metadata": {},
   "source": [
    "### Loading gensim and nltk libraries"
   ]
  },
  {
   "cell_type": "code",
   "execution_count": 39,
   "metadata": {},
   "outputs": [
    {
     "name": "stdout",
     "output_type": "stream",
     "text": [
      "[nltk_data] Downloading package wordnet to\n",
      "[nltk_data]     /Users/VincentLa/nltk_data...\n",
      "[nltk_data]   Package wordnet is already up-to-date!\n"
     ]
    }
   ],
   "source": [
    "import gensim\n",
    "from gensim.utils import simple_preprocess\n",
    "from gensim.parsing.preprocessing import STOPWORDS\n",
    "from nltk.stem import WordNetLemmatizer, SnowballStemmer\n",
    "from nltk.stem.porter import *\n",
    "# import nltk.stem as stemmer\n",
    "import numpy as np\n",
    "np.random.seed(2018)\n",
    "import nltk\n",
    "nltk.download('wordnet')\n",
    "\n",
    "stemmer = SnowballStemmer('english')"
   ]
  },
  {
   "cell_type": "code",
   "execution_count": 40,
   "metadata": {
    "collapsed": true
   },
   "outputs": [],
   "source": [
    "def lemmatize_stemming(text):\n",
    "    \"\"\"\n",
    "    Lemmatize: lemmatized — words in third person are changed to first person\n",
    "    \n",
    "    Verbs in past and future tenses are changed into present.\n",
    "    \"\"\"\n",
    "    return stemmer.stem(WordNetLemmatizer().lemmatize(text, pos='v'))"
   ]
  },
  {
   "cell_type": "code",
   "execution_count": 41,
   "metadata": {
    "collapsed": true
   },
   "outputs": [],
   "source": [
    "def preprocess(text):\n",
    "    \"\"\"\n",
    "    Preprocess Text:\n",
    "    \n",
    "    Remove words in \"STOPWORDS\" and remove words 3 letters or less\n",
    "    \"\"\"\n",
    "    result = []\n",
    "    for token in gensim.utils.simple_preprocess(text):\n",
    "        if token not in gensim.parsing.preprocessing.STOPWORDS and len(token) > 3:\n",
    "            result.append(lemmatize_stemming(token))\n",
    "    return result"
   ]
  },
  {
   "cell_type": "code",
   "execution_count": 42,
   "metadata": {},
   "outputs": [
    {
     "name": "stdout",
     "output_type": "stream",
     "text": [
      "original document: \n",
      "['rain', 'helps', 'dampen', 'bushfires']\n",
      "\n",
      "\n",
      " tokenized and lemmatized document: \n",
      "['rain', 'help', 'dampen', 'bushfir']\n"
     ]
    }
   ],
   "source": [
    "doc_sample = documents[documents['index'] == 4310].values[0][0]\n",
    "print('original document: ')\n",
    "\n",
    "words = []\n",
    "for word in doc_sample.split(' '):\n",
    "    words.append(word)\n",
    "print(words)\n",
    "print('\\n\\n tokenized and lemmatized document: ')\n",
    "print(preprocess(doc_sample))"
   ]
  },
  {
   "cell_type": "markdown",
   "metadata": {},
   "source": [
    "Preprocess the headline text, saving the results as 'processed_docs'"
   ]
  },
  {
   "cell_type": "code",
   "execution_count": 43,
   "metadata": {},
   "outputs": [
    {
     "data": {
      "text/plain": [
       "0            [decid, communiti, broadcast, licenc]\n",
       "1                               [wit, awar, defam]\n",
       "2           [call, infrastructur, protect, summit]\n",
       "3                      [staff, aust, strike, rise]\n",
       "4             [strike, affect, australian, travel]\n",
       "5               [ambiti, olsson, win, tripl, jump]\n",
       "6           [antic, delight, record, break, barca]\n",
       "7    [aussi, qualifi, stosur, wast, memphi, match]\n",
       "8            [aust, address, secur, council, iraq]\n",
       "9                         [australia, lock, timet]\n",
       "Name: headline_text, dtype: object"
      ]
     },
     "execution_count": 43,
     "metadata": {},
     "output_type": "execute_result"
    }
   ],
   "source": [
    "processed_docs = documents['headline_text'].map(preprocess)\n",
    "processed_docs[:10]"
   ]
  },
  {
   "cell_type": "markdown",
   "metadata": {},
   "source": [
    "## Bag of Words on the Data set\n",
    "Create a dictionary from ‘processed_docs’ containing the number of times a word appears in the training set."
   ]
  },
  {
   "cell_type": "code",
   "execution_count": 44,
   "metadata": {},
   "outputs": [
    {
     "name": "stdout",
     "output_type": "stream",
     "text": [
      "0 broadcast\n",
      "1 communiti\n",
      "2 decid\n",
      "3 licenc\n",
      "4 awar\n",
      "5 defam\n",
      "6 wit\n",
      "7 call\n",
      "8 infrastructur\n",
      "9 protect\n",
      "10 summit\n"
     ]
    }
   ],
   "source": [
    "dictionary = gensim.corpora.Dictionary(processed_docs)\n",
    "count = 0\n",
    "for k, v in dictionary.iteritems():\n",
    "    print(k, v)\n",
    "    count += 1\n",
    "    if count > 10:\n",
    "        break"
   ]
  },
  {
   "cell_type": "markdown",
   "metadata": {},
   "source": [
    "### Gensim filter_extremes\n",
    "Filter out tokens that appear in\n",
    "\n",
    "1. less than 15 documents (absolute number) or\n",
    "2. more than 0.5 documents (fraction of total corpus size, not absolute number).\n",
    "3. after the above two steps, keep only the first 100000 most frequent tokens."
   ]
  },
  {
   "cell_type": "code",
   "execution_count": 46,
   "metadata": {
    "collapsed": true
   },
   "outputs": [],
   "source": [
    "dictionary.filter_extremes(no_below=15, no_above=0.5, keep_n=100000)"
   ]
  },
  {
   "cell_type": "markdown",
   "metadata": {},
   "source": [
    "## Gensim doc2bow (Bag of Words)\n",
    "For each document we create a dictionary reporting how many\n",
    "words and how many times those words appear. Save this to ‘bow_corpus’, then check our selected document earlier."
   ]
  },
  {
   "cell_type": "code",
   "execution_count": 47,
   "metadata": {},
   "outputs": [
    {
     "data": {
      "text/plain": [
       "[(76, 1), (112, 1), (483, 1), (4014, 1)]"
      ]
     },
     "execution_count": 47,
     "metadata": {},
     "output_type": "execute_result"
    }
   ],
   "source": [
    "bow_corpus = [dictionary.doc2bow(doc) for doc in processed_docs]\n",
    "bow_corpus[4310]"
   ]
  },
  {
   "cell_type": "code",
   "execution_count": 48,
   "metadata": {},
   "outputs": [
    {
     "name": "stdout",
     "output_type": "stream",
     "text": [
      "Word 76 (\"bushfir\") appears 1 time.\n",
      "Word 112 (\"help\") appears 1 time.\n",
      "Word 483 (\"rain\") appears 1 time.\n",
      "Word 4014 (\"dampen\") appears 1 time.\n"
     ]
    }
   ],
   "source": [
    "bow_doc_4310 = bow_corpus[4310]\n",
    "for i in range(len(bow_doc_4310)):\n",
    "    print(\"Word {} (\\\"{}\\\") appears {} time.\".format(bow_doc_4310[i][0], \n",
    "                                               dictionary[bow_doc_4310[i][0]], \n",
    "bow_doc_4310[i][1]))"
   ]
  },
  {
   "cell_type": "markdown",
   "metadata": {},
   "source": [
    "## TF IDF \n",
    "Create tf-idf model object using models.TfidfModel on ‘bow_corpus’ and save it to ‘tfidf’, then apply transformation to the entire corpus and call it ‘corpus_tfidf’. Finally we preview TF-IDF scores for our first document."
   ]
  },
  {
   "cell_type": "code",
   "execution_count": 49,
   "metadata": {},
   "outputs": [
    {
     "name": "stdout",
     "output_type": "stream",
     "text": [
      "[(0, 0.5892908644709983),\n",
      " (1, 0.38929657403503015),\n",
      " (2, 0.4964985198530063),\n",
      " (3, 0.5046520328695662)]\n"
     ]
    }
   ],
   "source": [
    "from gensim import corpora, models\n",
    "tfidf = models.TfidfModel(bow_corpus)\n",
    "corpus_tfidf = tfidf[bow_corpus]\n",
    "from pprint import pprint\n",
    "for doc in corpus_tfidf:\n",
    "    pprint(doc)\n",
    "    break"
   ]
  },
  {
   "cell_type": "markdown",
   "metadata": {},
   "source": [
    "## Running LDA using Bag of Words\n",
    "Train our lda model using gensim.models.LdaMulticore and save it to ‘lda_model’"
   ]
  },
  {
   "cell_type": "code",
   "execution_count": 51,
   "metadata": {
    "collapsed": true
   },
   "outputs": [],
   "source": [
    "lda_model = gensim.models.LdaMulticore(bow_corpus,\n",
    "                                       num_topics=10,\n",
    "                                       id2word=dictionary,\n",
    "                                       passes=2,\n",
    "                                       workers=2)"
   ]
  },
  {
   "cell_type": "code",
   "execution_count": 58,
   "metadata": {},
   "outputs": [
    {
     "data": {
      "text/plain": [
       "gensim.models.ldamulticore.LdaMulticore"
      ]
     },
     "execution_count": 58,
     "metadata": {},
     "output_type": "execute_result"
    }
   ],
   "source": [
    "type(lda_model)"
   ]
  },
  {
   "cell_type": "markdown",
   "metadata": {},
   "source": [
    "For each topic, we will explore the words occuring in that topic and its relative weight."
   ]
  },
  {
   "cell_type": "code",
   "execution_count": 52,
   "metadata": {},
   "outputs": [
    {
     "name": "stdout",
     "output_type": "stream",
     "text": [
      "Topic: 0 \n",
      "Words: 0.035*\"charg\" + 0.033*\"court\" + 0.025*\"murder\" + 0.021*\"face\" + 0.017*\"accus\" + 0.016*\"tasmania\" + 0.015*\"alleg\" + 0.014*\"claim\" + 0.014*\"trial\" + 0.012*\"drug\"\n",
      "Topic: 1 \n",
      "Words: 0.026*\"elect\" + 0.022*\"australia\" + 0.022*\"south\" + 0.012*\"break\" + 0.012*\"deal\" + 0.012*\"leagu\" + 0.011*\"take\" + 0.010*\"win\" + 0.010*\"west\" + 0.010*\"vote\"\n",
      "Topic: 2 \n",
      "Words: 0.023*\"govern\" + 0.023*\"canberra\" + 0.022*\"test\" + 0.016*\"water\" + 0.015*\"price\" + 0.012*\"guilti\" + 0.011*\"find\" + 0.010*\"drum\" + 0.009*\"river\" + 0.009*\"shark\"\n",
      "Topic: 3 \n",
      "Words: 0.021*\"chang\" + 0.020*\"open\" + 0.019*\"market\" + 0.016*\"australian\" + 0.015*\"school\" + 0.013*\"peopl\" + 0.013*\"share\" + 0.012*\"final\" + 0.011*\"flood\" + 0.011*\"bank\"\n",
      "Topic: 4 \n",
      "Words: 0.021*\"north\" + 0.019*\"coast\" + 0.019*\"warn\" + 0.016*\"live\" + 0.015*\"rural\" + 0.013*\"health\" + 0.012*\"gold\" + 0.012*\"concern\" + 0.011*\"govern\" + 0.011*\"worker\"\n",
      "Topic: 5 \n",
      "Words: 0.036*\"year\" + 0.018*\"adelaid\" + 0.017*\"famili\" + 0.015*\"child\" + 0.014*\"turnbul\" + 0.012*\"sentenc\" + 0.011*\"week\" + 0.010*\"prison\" + 0.010*\"john\" + 0.010*\"say\"\n",
      "Topic: 6 \n",
      "Words: 0.020*\"plan\" + 0.015*\"council\" + 0.015*\"countri\" + 0.015*\"state\" + 0.013*\"perth\" + 0.012*\"hour\" + 0.012*\"indigen\" + 0.010*\"communiti\" + 0.010*\"fund\" + 0.010*\"busi\"\n",
      "Topic: 7 \n",
      "Words: 0.023*\"kill\" + 0.022*\"nation\" + 0.022*\"australian\" + 0.019*\"attack\" + 0.015*\"dead\" + 0.013*\"island\" + 0.013*\"china\" + 0.013*\"children\" + 0.011*\"park\" + 0.009*\"australia\"\n",
      "Topic: 8 \n",
      "Words: 0.036*\"trump\" + 0.028*\"queensland\" + 0.021*\"crash\" + 0.018*\"die\" + 0.018*\"women\" + 0.016*\"donald\" + 0.015*\"world\" + 0.012*\"road\" + 0.012*\"fall\" + 0.011*\"driver\"\n",
      "Topic: 9 \n",
      "Words: 0.056*\"polic\" + 0.033*\"sydney\" + 0.017*\"interview\" + 0.016*\"tasmanian\" + 0.015*\"power\" + 0.014*\"arrest\" + 0.013*\"investig\" + 0.012*\"melbourn\" + 0.012*\"miss\" + 0.012*\"protest\"\n"
     ]
    }
   ],
   "source": [
    "for idx, topic in lda_model.print_topics(-1):\n",
    "    print('Topic: {} \\nWords: {}'.format(idx, topic))"
   ]
  },
  {
   "cell_type": "markdown",
   "metadata": {},
   "source": [
    "## Running LDA using TF-IDF\n"
   ]
  },
  {
   "cell_type": "code",
   "execution_count": 53,
   "metadata": {},
   "outputs": [
    {
     "name": "stdout",
     "output_type": "stream",
     "text": [
      "Topic: 0 Word: 0.014*\"interview\" + 0.009*\"leagu\" + 0.008*\"final\" + 0.007*\"world\" + 0.007*\"australia\" + 0.006*\"john\" + 0.005*\"beat\" + 0.005*\"domest\" + 0.005*\"coach\" + 0.005*\"cricket\"\n",
      "Topic: 1 Word: 0.015*\"crash\" + 0.009*\"die\" + 0.008*\"miss\" + 0.008*\"search\" + 0.008*\"polic\" + 0.008*\"dead\" + 0.006*\"kill\" + 0.006*\"truck\" + 0.006*\"peter\" + 0.006*\"malcolm\"\n",
      "Topic: 2 Word: 0.020*\"charg\" + 0.016*\"murder\" + 0.015*\"polic\" + 0.013*\"court\" + 0.011*\"alleg\" + 0.011*\"jail\" + 0.010*\"woman\" + 0.009*\"arrest\" + 0.009*\"death\" + 0.009*\"assault\"\n",
      "Topic: 3 Word: 0.022*\"countri\" + 0.020*\"trump\" + 0.020*\"hour\" + 0.010*\"donald\" + 0.010*\"podcast\" + 0.009*\"sport\" + 0.007*\"ash\" + 0.006*\"sexual\" + 0.005*\"univers\" + 0.004*\"farm\"\n",
      "Topic: 4 Word: 0.007*\"dollar\" + 0.007*\"michael\" + 0.006*\"stori\" + 0.006*\"decemb\" + 0.005*\"export\" + 0.005*\"andrew\" + 0.005*\"australian\" + 0.005*\"drive\" + 0.005*\"drought\" + 0.004*\"coal\"\n",
      "Topic: 5 Word: 0.013*\"coast\" + 0.010*\"queensland\" + 0.008*\"gold\" + 0.007*\"tasmania\" + 0.006*\"juli\" + 0.006*\"wednesday\" + 0.006*\"asylum\" + 0.005*\"seeker\" + 0.005*\"legal\" + 0.005*\"price\"\n",
      "Topic: 6 Word: 0.015*\"news\" + 0.015*\"market\" + 0.014*\"rural\" + 0.010*\"christma\" + 0.008*\"grandstand\" + 0.007*\"share\" + 0.007*\"marriag\" + 0.007*\"street\" + 0.007*\"climat\" + 0.007*\"busi\"\n",
      "Topic: 7 Word: 0.013*\"govern\" + 0.008*\"health\" + 0.008*\"drum\" + 0.008*\"turnbul\" + 0.008*\"elect\" + 0.007*\"fund\" + 0.006*\"labor\" + 0.006*\"say\" + 0.006*\"plan\" + 0.006*\"council\"\n",
      "Topic: 8 Word: 0.008*\"korea\" + 0.007*\"commiss\" + 0.007*\"royal\" + 0.007*\"kill\" + 0.007*\"abbott\" + 0.006*\"octob\" + 0.006*\"monday\" + 0.006*\"say\" + 0.006*\"syria\" + 0.005*\"refuge\"\n",
      "Topic: 9 Word: 0.011*\"weather\" + 0.008*\"flood\" + 0.007*\"friday\" + 0.007*\"australia\" + 0.006*\"outback\" + 0.006*\"zealand\" + 0.005*\"wrap\" + 0.005*\"mark\" + 0.005*\"rain\" + 0.005*\"march\"\n"
     ]
    }
   ],
   "source": [
    "lda_model_tfidf = gensim.models.LdaMulticore(corpus_tfidf, num_topics=10, id2word=dictionary, passes=2, workers=4)\n",
    "for idx, topic in lda_model_tfidf.print_topics(-1):\n",
    "    print('Topic: {} Word: {}'.format(idx, topic))"
   ]
  },
  {
   "cell_type": "markdown",
   "metadata": {},
   "source": [
    "## Performance evaluation by classifying sample document using LDA Bag of Words model"
   ]
  },
  {
   "cell_type": "code",
   "execution_count": 54,
   "metadata": {},
   "outputs": [
    {
     "data": {
      "text/plain": [
       "['rain', 'help', 'dampen', 'bushfir']"
      ]
     },
     "execution_count": 54,
     "metadata": {},
     "output_type": "execute_result"
    }
   ],
   "source": [
    "processed_docs[4310]"
   ]
  },
  {
   "cell_type": "code",
   "execution_count": 55,
   "metadata": {},
   "outputs": [
    {
     "name": "stdout",
     "output_type": "stream",
     "text": [
      "\n",
      "Score: 0.6192572712898254\t \n",
      "Topic: 0.023*\"govern\" + 0.023*\"canberra\" + 0.022*\"test\" + 0.016*\"water\" + 0.015*\"price\" + 0.012*\"guilti\" + 0.011*\"find\" + 0.010*\"drum\" + 0.009*\"river\" + 0.009*\"shark\"\n",
      "\n",
      "Score: 0.2207210510969162\t \n",
      "Topic: 0.021*\"chang\" + 0.020*\"open\" + 0.019*\"market\" + 0.016*\"australian\" + 0.015*\"school\" + 0.013*\"peopl\" + 0.013*\"share\" + 0.012*\"final\" + 0.011*\"flood\" + 0.011*\"bank\"\n",
      "\n",
      "Score: 0.02000955119729042\t \n",
      "Topic: 0.036*\"year\" + 0.018*\"adelaid\" + 0.017*\"famili\" + 0.015*\"child\" + 0.014*\"turnbul\" + 0.012*\"sentenc\" + 0.011*\"week\" + 0.010*\"prison\" + 0.010*\"john\" + 0.010*\"say\"\n",
      "\n",
      "Score: 0.02000592276453972\t \n",
      "Topic: 0.026*\"elect\" + 0.022*\"australia\" + 0.022*\"south\" + 0.012*\"break\" + 0.012*\"deal\" + 0.012*\"leagu\" + 0.011*\"take\" + 0.010*\"win\" + 0.010*\"west\" + 0.010*\"vote\"\n",
      "\n",
      "Score: 0.020003166049718857\t \n",
      "Topic: 0.020*\"plan\" + 0.015*\"council\" + 0.015*\"countri\" + 0.015*\"state\" + 0.013*\"perth\" + 0.012*\"hour\" + 0.012*\"indigen\" + 0.010*\"communiti\" + 0.010*\"fund\" + 0.010*\"busi\"\n",
      "\n",
      "Score: 0.02000204101204872\t \n",
      "Topic: 0.021*\"north\" + 0.019*\"coast\" + 0.019*\"warn\" + 0.016*\"live\" + 0.015*\"rural\" + 0.013*\"health\" + 0.012*\"gold\" + 0.012*\"concern\" + 0.011*\"govern\" + 0.011*\"worker\"\n",
      "\n",
      "Score: 0.02000098116695881\t \n",
      "Topic: 0.036*\"trump\" + 0.028*\"queensland\" + 0.021*\"crash\" + 0.018*\"die\" + 0.018*\"women\" + 0.016*\"donald\" + 0.015*\"world\" + 0.012*\"road\" + 0.012*\"fall\" + 0.011*\"driver\"\n",
      "\n",
      "Score: 0.019999999552965164\t \n",
      "Topic: 0.035*\"charg\" + 0.033*\"court\" + 0.025*\"murder\" + 0.021*\"face\" + 0.017*\"accus\" + 0.016*\"tasmania\" + 0.015*\"alleg\" + 0.014*\"claim\" + 0.014*\"trial\" + 0.012*\"drug\"\n",
      "\n",
      "Score: 0.019999999552965164\t \n",
      "Topic: 0.023*\"kill\" + 0.022*\"nation\" + 0.022*\"australian\" + 0.019*\"attack\" + 0.015*\"dead\" + 0.013*\"island\" + 0.013*\"china\" + 0.013*\"children\" + 0.011*\"park\" + 0.009*\"australia\"\n",
      "\n",
      "Score: 0.019999999552965164\t \n",
      "Topic: 0.056*\"polic\" + 0.033*\"sydney\" + 0.017*\"interview\" + 0.016*\"tasmanian\" + 0.015*\"power\" + 0.014*\"arrest\" + 0.013*\"investig\" + 0.012*\"melbourn\" + 0.012*\"miss\" + 0.012*\"protest\"\n"
     ]
    }
   ],
   "source": [
    "for index, score in sorted(lda_model[bow_corpus[4310]], key=lambda tup: -1*tup[1]):\n",
    "    print(\"\\nScore: {}\\t \\nTopic: {}\".format(score, lda_model.print_topic(index, 10)))"
   ]
  },
  {
   "cell_type": "markdown",
   "metadata": {},
   "source": [
    "Our test document has the highest probability to be part of the topic that our model assigned, which is the accurate classification."
   ]
  },
  {
   "cell_type": "markdown",
   "metadata": {},
   "source": [
    "## Performance evaluation by classifying sample document using LDA TF-IDF model."
   ]
  },
  {
   "cell_type": "code",
   "execution_count": 56,
   "metadata": {},
   "outputs": [
    {
     "name": "stdout",
     "output_type": "stream",
     "text": [
      "\n",
      "Score: 0.6069387197494507\t \n",
      "Topic: 0.011*\"weather\" + 0.008*\"flood\" + 0.007*\"friday\" + 0.007*\"australia\" + 0.006*\"outback\" + 0.006*\"zealand\" + 0.005*\"wrap\" + 0.005*\"mark\" + 0.005*\"rain\" + 0.005*\"march\"\n",
      "\n",
      "Score: 0.23303067684173584\t \n",
      "Topic: 0.014*\"interview\" + 0.009*\"leagu\" + 0.008*\"final\" + 0.007*\"world\" + 0.007*\"australia\" + 0.006*\"john\" + 0.005*\"beat\" + 0.005*\"domest\" + 0.005*\"coach\" + 0.005*\"cricket\"\n",
      "\n",
      "Score: 0.02000514045357704\t \n",
      "Topic: 0.022*\"countri\" + 0.020*\"trump\" + 0.020*\"hour\" + 0.010*\"donald\" + 0.010*\"podcast\" + 0.009*\"sport\" + 0.007*\"ash\" + 0.006*\"sexual\" + 0.005*\"univers\" + 0.004*\"farm\"\n",
      "\n",
      "Score: 0.020004868507385254\t \n",
      "Topic: 0.015*\"crash\" + 0.009*\"die\" + 0.008*\"miss\" + 0.008*\"search\" + 0.008*\"polic\" + 0.008*\"dead\" + 0.006*\"kill\" + 0.006*\"truck\" + 0.006*\"peter\" + 0.006*\"malcolm\"\n",
      "\n",
      "Score: 0.020004410296678543\t \n",
      "Topic: 0.007*\"dollar\" + 0.007*\"michael\" + 0.006*\"stori\" + 0.006*\"decemb\" + 0.005*\"export\" + 0.005*\"andrew\" + 0.005*\"australian\" + 0.005*\"drive\" + 0.005*\"drought\" + 0.004*\"coal\"\n",
      "\n",
      "Score: 0.02000437304377556\t \n",
      "Topic: 0.013*\"coast\" + 0.010*\"queensland\" + 0.008*\"gold\" + 0.007*\"tasmania\" + 0.006*\"juli\" + 0.006*\"wednesday\" + 0.006*\"asylum\" + 0.005*\"seeker\" + 0.005*\"legal\" + 0.005*\"price\"\n",
      "\n",
      "Score: 0.020003769546747208\t \n",
      "Topic: 0.013*\"govern\" + 0.008*\"health\" + 0.008*\"drum\" + 0.008*\"turnbul\" + 0.008*\"elect\" + 0.007*\"fund\" + 0.006*\"labor\" + 0.006*\"say\" + 0.006*\"plan\" + 0.006*\"council\"\n",
      "\n",
      "Score: 0.020003294572234154\t \n",
      "Topic: 0.015*\"news\" + 0.015*\"market\" + 0.014*\"rural\" + 0.010*\"christma\" + 0.008*\"grandstand\" + 0.007*\"share\" + 0.007*\"marriag\" + 0.007*\"street\" + 0.007*\"climat\" + 0.007*\"busi\"\n",
      "\n",
      "Score: 0.02000276744365692\t \n",
      "Topic: 0.020*\"charg\" + 0.016*\"murder\" + 0.015*\"polic\" + 0.013*\"court\" + 0.011*\"alleg\" + 0.011*\"jail\" + 0.010*\"woman\" + 0.009*\"arrest\" + 0.009*\"death\" + 0.009*\"assault\"\n",
      "\n",
      "Score: 0.02000202238559723\t \n",
      "Topic: 0.008*\"korea\" + 0.007*\"commiss\" + 0.007*\"royal\" + 0.007*\"kill\" + 0.007*\"abbott\" + 0.006*\"octob\" + 0.006*\"monday\" + 0.006*\"say\" + 0.006*\"syria\" + 0.005*\"refuge\"\n"
     ]
    }
   ],
   "source": [
    "for index, score in sorted(lda_model_tfidf[bow_corpus[4310]], key=lambda tup: -1*tup[1]):\n",
    "    print(\"\\nScore: {}\\t \\nTopic: {}\".format(score, lda_model_tfidf.print_topic(index, 10)))"
   ]
  },
  {
   "cell_type": "markdown",
   "metadata": {},
   "source": [
    "## Testing model on unseen document\n"
   ]
  },
  {
   "cell_type": "code",
   "execution_count": 57,
   "metadata": {},
   "outputs": [
    {
     "name": "stdout",
     "output_type": "stream",
     "text": [
      "Score: 0.3500000536441803\t Topic: 0.026*\"elect\" + 0.022*\"australia\" + 0.022*\"south\" + 0.012*\"break\" + 0.012*\"deal\"\n",
      "Score: 0.1833333820104599\t Topic: 0.021*\"north\" + 0.019*\"coast\" + 0.019*\"warn\" + 0.016*\"live\" + 0.015*\"rural\"\n",
      "Score: 0.1833333522081375\t Topic: 0.021*\"chang\" + 0.020*\"open\" + 0.019*\"market\" + 0.016*\"australian\" + 0.015*\"school\"\n",
      "Score: 0.18333320319652557\t Topic: 0.023*\"kill\" + 0.022*\"nation\" + 0.022*\"australian\" + 0.019*\"attack\" + 0.015*\"dead\"\n",
      "Score: 0.01666666753590107\t Topic: 0.035*\"charg\" + 0.033*\"court\" + 0.025*\"murder\" + 0.021*\"face\" + 0.017*\"accus\"\n",
      "Score: 0.01666666753590107\t Topic: 0.023*\"govern\" + 0.023*\"canberra\" + 0.022*\"test\" + 0.016*\"water\" + 0.015*\"price\"\n",
      "Score: 0.01666666753590107\t Topic: 0.036*\"year\" + 0.018*\"adelaid\" + 0.017*\"famili\" + 0.015*\"child\" + 0.014*\"turnbul\"\n",
      "Score: 0.01666666753590107\t Topic: 0.020*\"plan\" + 0.015*\"council\" + 0.015*\"countri\" + 0.015*\"state\" + 0.013*\"perth\"\n",
      "Score: 0.01666666753590107\t Topic: 0.036*\"trump\" + 0.028*\"queensland\" + 0.021*\"crash\" + 0.018*\"die\" + 0.018*\"women\"\n",
      "Score: 0.01666666753590107\t Topic: 0.056*\"polic\" + 0.033*\"sydney\" + 0.017*\"interview\" + 0.016*\"tasmanian\" + 0.015*\"power\"\n"
     ]
    }
   ],
   "source": [
    "unseen_document = 'How a Pentagon deal became an identity crisis for Google'\n",
    "bow_vector = dictionary.doc2bow(preprocess(unseen_document))\n",
    "for index, score in sorted(lda_model[bow_vector], key=lambda tup: -1*tup[1]):\n",
    "    print(\"Score: {}\\t Topic: {}\".format(score, lda_model.print_topic(index, 5)))"
   ]
  },
  {
   "cell_type": "code",
   "execution_count": null,
   "metadata": {
    "collapsed": true
   },
   "outputs": [],
   "source": []
  }
 ],
 "metadata": {
  "kernelspec": {
   "display_name": "Python (cse6250-project)",
   "language": "python",
   "name": "cse6250-project"
  },
  "language_info": {
   "codemirror_mode": {
    "name": "ipython",
    "version": 3
   },
   "file_extension": ".py",
   "mimetype": "text/x-python",
   "name": "python",
   "nbconvert_exporter": "python",
   "pygments_lexer": "ipython3",
   "version": "3.6.5"
  }
 },
 "nbformat": 4,
 "nbformat_minor": 2
}
