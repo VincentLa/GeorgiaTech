{
 "cells": [
  {
   "cell_type": "code",
   "execution_count": 1,
   "metadata": {},
   "outputs": [
    {
     "name": "stderr",
     "output_type": "stream",
     "text": [
      "/Users/VincentLa/anaconda3/envs/cse6250-project/lib/python3.6/site-packages/psycopg2/__init__.py:144: UserWarning: The psycopg2 wheel package will be renamed from release 2.8; in order to keep installing from binary please use \"pip install psycopg2-binary\" instead. For details see: <http://initd.org/psycopg/docs/install.html#binary-install-from-pypi>.\n",
      "  \"\"\")\n"
     ]
    }
   ],
   "source": [
    "import datetime as dt\n",
    "import os\n",
    "import sys\n",
    "\n",
    "import numpy as np\n",
    "import pandas as pd\n",
    "from scipy import interp\n",
    "import scipy.stats as stats\n",
    "from sklearn.model_selection import train_test_split\n",
    "from sklearn.ensemble import RandomForestClassifier\n",
    "from sklearn.metrics import accuracy_score, auc, confusion_matrix, roc_curve, average_precision_score, precision_recall_curve\n",
    "from sklearn.model_selection import StratifiedKFold\n",
    "import sqlalchemy as sa\n",
    "from sqlalchemy import create_engine\n",
    "import matplotlib.pyplot as plt\n",
    "%matplotlib inline\n",
    "\n",
    "sys.path.append('../')\n",
    "from utilities import sql_utils as su\n",
    "from utilities import model_eval_utils as meu\n",
    "\n",
    "DWH = os.getenv('MIMIC_DWH')\n",
    "engine = create_engine(DWH)\n",
    "\n",
    "pd.options.display.max_columns = 1000\n",
    "pd.options.display.max_rows = 1000\n",
    "pd.set_option('display.float_format', lambda x: '%.3f' % x)"
   ]
  },
  {
   "cell_type": "code",
   "execution_count": 2,
   "metadata": {},
   "outputs": [],
   "source": [
    "QUERY = \"\"\"\n",
    "select\n",
    "  subject_id,\n",
    "  hadm_id,\n",
    "  chartdate,\n",
    "  text\n",
    "from mimiciii.noteevents\n",
    "limit 200000\n",
    "\"\"\"\n",
    "with engine.connect() as conn:\n",
    "    df = pd.read_sql(QUERY, conn)"
   ]
  },
  {
   "cell_type": "code",
   "execution_count": 3,
   "metadata": {},
   "outputs": [
    {
     "data": {
      "text/plain": [
       "(200000, 4)"
      ]
     },
     "execution_count": 3,
     "metadata": {},
     "output_type": "execute_result"
    }
   ],
   "source": [
    "df.shape"
   ]
  },
  {
   "cell_type": "code",
   "execution_count": 4,
   "metadata": {},
   "outputs": [
    {
     "data": {
      "text/html": [
       "<div>\n",
       "<style scoped>\n",
       "    .dataframe tbody tr th:only-of-type {\n",
       "        vertical-align: middle;\n",
       "    }\n",
       "\n",
       "    .dataframe tbody tr th {\n",
       "        vertical-align: top;\n",
       "    }\n",
       "\n",
       "    .dataframe thead th {\n",
       "        text-align: right;\n",
       "    }\n",
       "</style>\n",
       "<table border=\"1\" class=\"dataframe\">\n",
       "  <thead>\n",
       "    <tr style=\"text-align: right;\">\n",
       "      <th></th>\n",
       "      <th>subject_id</th>\n",
       "      <th>hadm_id</th>\n",
       "      <th>chartdate</th>\n",
       "      <th>text</th>\n",
       "    </tr>\n",
       "  </thead>\n",
       "  <tbody>\n",
       "    <tr>\n",
       "      <th>0</th>\n",
       "      <td>14139</td>\n",
       "      <td>114588.000</td>\n",
       "      <td>2198-06-06</td>\n",
       "      <td>[**2198-6-6**] 4:00 PM\\n CHEST (PORTABLE AP); ...</td>\n",
       "    </tr>\n",
       "    <tr>\n",
       "      <th>1</th>\n",
       "      <td>1563</td>\n",
       "      <td>nan</td>\n",
       "      <td>2172-03-18</td>\n",
       "      <td>[**2172-3-18**] 4:00 PM\\n CHEST (PA &amp; LAT)    ...</td>\n",
       "    </tr>\n",
       "    <tr>\n",
       "      <th>2</th>\n",
       "      <td>8182</td>\n",
       "      <td>nan</td>\n",
       "      <td>2194-04-16</td>\n",
       "      <td>[**2194-4-16**] 12:04 PM\\n ART DUP EXT LO UNI;...</td>\n",
       "    </tr>\n",
       "    <tr>\n",
       "      <th>3</th>\n",
       "      <td>8297</td>\n",
       "      <td>113537.000</td>\n",
       "      <td>2115-05-01</td>\n",
       "      <td>[**2115-5-1**] 12:54 PM\\n RENAL TRANSPLANT U.S...</td>\n",
       "    </tr>\n",
       "    <tr>\n",
       "      <th>4</th>\n",
       "      <td>20473</td>\n",
       "      <td>nan</td>\n",
       "      <td>2126-05-29</td>\n",
       "      <td>[**2126-5-29**] 12:56 PM\\n CT HEAD W/ &amp; W/O CO...</td>\n",
       "    </tr>\n",
       "  </tbody>\n",
       "</table>\n",
       "</div>"
      ],
      "text/plain": [
       "   subject_id    hadm_id  chartdate  \\\n",
       "0       14139 114588.000 2198-06-06   \n",
       "1        1563        nan 2172-03-18   \n",
       "2        8182        nan 2194-04-16   \n",
       "3        8297 113537.000 2115-05-01   \n",
       "4       20473        nan 2126-05-29   \n",
       "\n",
       "                                                text  \n",
       "0  [**2198-6-6**] 4:00 PM\\n CHEST (PORTABLE AP); ...  \n",
       "1  [**2172-3-18**] 4:00 PM\\n CHEST (PA & LAT)    ...  \n",
       "2  [**2194-4-16**] 12:04 PM\\n ART DUP EXT LO UNI;...  \n",
       "3  [**2115-5-1**] 12:54 PM\\n RENAL TRANSPLANT U.S...  \n",
       "4  [**2126-5-29**] 12:56 PM\\n CT HEAD W/ & W/O CO...  "
      ]
     },
     "execution_count": 4,
     "metadata": {},
     "output_type": "execute_result"
    }
   ],
   "source": [
    "df.head()"
   ]
  },
  {
   "cell_type": "code",
   "execution_count": 5,
   "metadata": {},
   "outputs": [
    {
     "name": "stderr",
     "output_type": "stream",
     "text": [
      "/Users/VincentLa/anaconda3/envs/cse6250-project/lib/python3.6/site-packages/ipykernel_launcher.py:2: SettingWithCopyWarning: \n",
      "A value is trying to be set on a copy of a slice from a DataFrame.\n",
      "Try using .loc[row_indexer,col_indexer] = value instead\n",
      "\n",
      "See the caveats in the documentation: http://pandas.pydata.org/pandas-docs/stable/indexing.html#indexing-view-versus-copy\n",
      "  \n"
     ]
    }
   ],
   "source": [
    "data_text = df[['text']]\n",
    "data_text['index'] = data_text.index"
   ]
  },
  {
   "cell_type": "code",
   "execution_count": 6,
   "metadata": {},
   "outputs": [
    {
     "data": {
      "text/html": [
       "<div>\n",
       "<style scoped>\n",
       "    .dataframe tbody tr th:only-of-type {\n",
       "        vertical-align: middle;\n",
       "    }\n",
       "\n",
       "    .dataframe tbody tr th {\n",
       "        vertical-align: top;\n",
       "    }\n",
       "\n",
       "    .dataframe thead th {\n",
       "        text-align: right;\n",
       "    }\n",
       "</style>\n",
       "<table border=\"1\" class=\"dataframe\">\n",
       "  <thead>\n",
       "    <tr style=\"text-align: right;\">\n",
       "      <th></th>\n",
       "      <th>text</th>\n",
       "      <th>index</th>\n",
       "    </tr>\n",
       "  </thead>\n",
       "  <tbody>\n",
       "    <tr>\n",
       "      <th>0</th>\n",
       "      <td>[**2198-6-6**] 4:00 PM\\n CHEST (PORTABLE AP); ...</td>\n",
       "      <td>0</td>\n",
       "    </tr>\n",
       "    <tr>\n",
       "      <th>1</th>\n",
       "      <td>[**2172-3-18**] 4:00 PM\\n CHEST (PA &amp; LAT)    ...</td>\n",
       "      <td>1</td>\n",
       "    </tr>\n",
       "    <tr>\n",
       "      <th>2</th>\n",
       "      <td>[**2194-4-16**] 12:04 PM\\n ART DUP EXT LO UNI;...</td>\n",
       "      <td>2</td>\n",
       "    </tr>\n",
       "    <tr>\n",
       "      <th>3</th>\n",
       "      <td>[**2115-5-1**] 12:54 PM\\n RENAL TRANSPLANT U.S...</td>\n",
       "      <td>3</td>\n",
       "    </tr>\n",
       "    <tr>\n",
       "      <th>4</th>\n",
       "      <td>[**2126-5-29**] 12:56 PM\\n CT HEAD W/ &amp; W/O CO...</td>\n",
       "      <td>4</td>\n",
       "    </tr>\n",
       "  </tbody>\n",
       "</table>\n",
       "</div>"
      ],
      "text/plain": [
       "                                                text  index\n",
       "0  [**2198-6-6**] 4:00 PM\\n CHEST (PORTABLE AP); ...      0\n",
       "1  [**2172-3-18**] 4:00 PM\\n CHEST (PA & LAT)    ...      1\n",
       "2  [**2194-4-16**] 12:04 PM\\n ART DUP EXT LO UNI;...      2\n",
       "3  [**2115-5-1**] 12:54 PM\\n RENAL TRANSPLANT U.S...      3\n",
       "4  [**2126-5-29**] 12:56 PM\\n CT HEAD W/ & W/O CO...      4"
      ]
     },
     "execution_count": 6,
     "metadata": {},
     "output_type": "execute_result"
    }
   ],
   "source": [
    "data_text.head()"
   ]
  },
  {
   "cell_type": "code",
   "execution_count": 7,
   "metadata": {
    "collapsed": true
   },
   "outputs": [],
   "source": [
    "documents = data_text"
   ]
  },
  {
   "cell_type": "code",
   "execution_count": 8,
   "metadata": {},
   "outputs": [
    {
     "data": {
      "text/html": [
       "<div>\n",
       "<style scoped>\n",
       "    .dataframe tbody tr th:only-of-type {\n",
       "        vertical-align: middle;\n",
       "    }\n",
       "\n",
       "    .dataframe tbody tr th {\n",
       "        vertical-align: top;\n",
       "    }\n",
       "\n",
       "    .dataframe thead th {\n",
       "        text-align: right;\n",
       "    }\n",
       "</style>\n",
       "<table border=\"1\" class=\"dataframe\">\n",
       "  <thead>\n",
       "    <tr style=\"text-align: right;\">\n",
       "      <th></th>\n",
       "      <th>text</th>\n",
       "      <th>index</th>\n",
       "    </tr>\n",
       "  </thead>\n",
       "  <tbody>\n",
       "    <tr>\n",
       "      <th>0</th>\n",
       "      <td>[**2198-6-6**] 4:00 PM\\n CHEST (PORTABLE AP); ...</td>\n",
       "      <td>0</td>\n",
       "    </tr>\n",
       "    <tr>\n",
       "      <th>1</th>\n",
       "      <td>[**2172-3-18**] 4:00 PM\\n CHEST (PA &amp; LAT)    ...</td>\n",
       "      <td>1</td>\n",
       "    </tr>\n",
       "    <tr>\n",
       "      <th>2</th>\n",
       "      <td>[**2194-4-16**] 12:04 PM\\n ART DUP EXT LO UNI;...</td>\n",
       "      <td>2</td>\n",
       "    </tr>\n",
       "    <tr>\n",
       "      <th>3</th>\n",
       "      <td>[**2115-5-1**] 12:54 PM\\n RENAL TRANSPLANT U.S...</td>\n",
       "      <td>3</td>\n",
       "    </tr>\n",
       "    <tr>\n",
       "      <th>4</th>\n",
       "      <td>[**2126-5-29**] 12:56 PM\\n CT HEAD W/ &amp; W/O CO...</td>\n",
       "      <td>4</td>\n",
       "    </tr>\n",
       "  </tbody>\n",
       "</table>\n",
       "</div>"
      ],
      "text/plain": [
       "                                                text  index\n",
       "0  [**2198-6-6**] 4:00 PM\\n CHEST (PORTABLE AP); ...      0\n",
       "1  [**2172-3-18**] 4:00 PM\\n CHEST (PA & LAT)    ...      1\n",
       "2  [**2194-4-16**] 12:04 PM\\n ART DUP EXT LO UNI;...      2\n",
       "3  [**2115-5-1**] 12:54 PM\\n RENAL TRANSPLANT U.S...      3\n",
       "4  [**2126-5-29**] 12:56 PM\\n CT HEAD W/ & W/O CO...      4"
      ]
     },
     "execution_count": 8,
     "metadata": {},
     "output_type": "execute_result"
    }
   ],
   "source": [
    "documents.head()"
   ]
  },
  {
   "cell_type": "code",
   "execution_count": 9,
   "metadata": {},
   "outputs": [
    {
     "name": "stdout",
     "output_type": "stream",
     "text": [
      "200000\n",
      "                                                text  index\n",
      "0  [**2198-6-6**] 4:00 PM\\n CHEST (PORTABLE AP); ...      0\n",
      "1  [**2172-3-18**] 4:00 PM\\n CHEST (PA & LAT)    ...      1\n",
      "2  [**2194-4-16**] 12:04 PM\\n ART DUP EXT LO UNI;...      2\n",
      "3  [**2115-5-1**] 12:54 PM\\n RENAL TRANSPLANT U.S...      3\n",
      "4  [**2126-5-29**] 12:56 PM\\n CT HEAD W/ & W/O CO...      4\n"
     ]
    }
   ],
   "source": [
    "print(len(documents))\n",
    "print(documents[:5])"
   ]
  },
  {
   "cell_type": "markdown",
   "metadata": {},
   "source": [
    "## Data Preprocessing"
   ]
  },
  {
   "cell_type": "markdown",
   "metadata": {},
   "source": [
    "1. Tokenization: Split the text into sentences and the sentences into words. Lowercase the words and remove punctuation.\n",
    "2. Words that have fewer than 3 characters are removed.\n",
    "3. All stopwords are removed.\n",
    "4. Words are lemmatized — words in third person are changed to first person and verbs in past and future tenses are changed into present.\n",
    "5. Words are stemmed — words are reduced to their root form."
   ]
  },
  {
   "cell_type": "markdown",
   "metadata": {},
   "source": [
    "### Loading gensim and nltk libraries"
   ]
  },
  {
   "cell_type": "code",
   "execution_count": 10,
   "metadata": {},
   "outputs": [
    {
     "name": "stdout",
     "output_type": "stream",
     "text": [
      "[nltk_data] Downloading package wordnet to\n",
      "[nltk_data]     /Users/VincentLa/nltk_data...\n",
      "[nltk_data]   Package wordnet is already up-to-date!\n"
     ]
    }
   ],
   "source": [
    "import gensim\n",
    "from gensim.utils import simple_preprocess\n",
    "from gensim.parsing.preprocessing import STOPWORDS\n",
    "from nltk.stem import WordNetLemmatizer, SnowballStemmer\n",
    "from nltk.stem.porter import *\n",
    "# import nltk.stem as stemmer\n",
    "import numpy as np\n",
    "np.random.seed(2018)\n",
    "import nltk\n",
    "nltk.download('wordnet')\n",
    "\n",
    "stemmer = SnowballStemmer('english')"
   ]
  },
  {
   "cell_type": "code",
   "execution_count": 11,
   "metadata": {
    "collapsed": true
   },
   "outputs": [],
   "source": [
    "def lemmatize_stemming(text):\n",
    "    \"\"\"\n",
    "    Lemmatize: lemmatized — words in third person are changed to first person\n",
    "    \n",
    "    Verbs in past and future tenses are changed into present.\n",
    "    \"\"\"\n",
    "    return stemmer.stem(WordNetLemmatizer().lemmatize(text, pos='v'))"
   ]
  },
  {
   "cell_type": "code",
   "execution_count": 12,
   "metadata": {
    "collapsed": true
   },
   "outputs": [],
   "source": [
    "def preprocess(text):\n",
    "    \"\"\"\n",
    "    Preprocess Text:\n",
    "    \n",
    "    Remove words in \"STOPWORDS\" and remove words 3 letters or less\n",
    "    \"\"\"\n",
    "    result = []\n",
    "    for token in gensim.utils.simple_preprocess(text):\n",
    "        if token not in gensim.parsing.preprocessing.STOPWORDS and len(token) > 3:\n",
    "            result.append(lemmatize_stemming(token))\n",
    "    return result"
   ]
  },
  {
   "cell_type": "code",
   "execution_count": 13,
   "metadata": {},
   "outputs": [
    {
     "name": "stdout",
     "output_type": "stream",
     "text": [
      "original document: \n",
      "['[**2163-9-22**]', '4:41', 'PM\\n', 'CT', 'C-SPINE', 'W/CONTRAST;', 'CT', '100CC', 'NON', 'IONIC', 'CONTRAST', '', '', '', '', '', '', '', '', '', '', '', '', '', 'Clip', '#', '[**Clip', 'Number', '(Radiology)', '56611**]\\n', 'CT', 'RECONSTRUCTION\\n', 'Reason:', '?fluid', 'collection\\n', '', 'Contrast:', 'OPTIRAY', 'Amt:', '100\\n', '______________________________________________________________________________\\n', '[**Hospital', '2**]', 'MEDICAL', 'CONDITION:\\n', '', '52', 'year', 'old', 'man', 'with', 'cervical', 'fx/meningitis', 'now', 'w/AMS\\n', 'REASON', 'FOR', 'THIS', 'EXAMINATION:\\n', '', '?fluid', 'collection\\n', 'No', 'contraindications', 'for', 'IV', 'contrast\\n', '______________________________________________________________________________\\n', '', '', '', '', '', '', '', '', '', '', '', '', '', '', '', '', '', '', '', '', '', '', '', '', '', '', '', '', '', '', '', '', 'FINAL', 'REPORT\\n', 'HISTORY:', '', 'Status', 'post', 'cervical', 'spine', 'fractures', 'and', 'meningitis.', '', 'Evaluate', 'fluid\\n', 'collection.\\n\\n', 'COMPARISON:', '', 'Cervical', 'spine', 'MRI', 'of', '[**2163-9-18**]', 'and', 'cervical', 'spine', 'CT', 'of\\n', '[**2163-9-8**].\\n\\n', 'TECHNIQUE:', '', 'Axial', 'multidetector', 'CT', 'images', 'of', 'the', 'cervical', 'spine', 'were', 'obtained\\n', 'with', '100', 'cc', 'of', 'intravenous', 'Optiray.', '', 'Sagittal', 'and', 'coronal', 'reformatted', 'images\\n', 'were', 'performed.\\n\\n', '[**Year', '(4', 'digits)', '**]:', '', 'There', 'is', 'evidence', 'of', 'laminectomies', 'and', 'anterior', 'fusion', 'at', 'C4\\n', 'through', 'C6.', '', 'Anatomic', 'alignment', 'is', 'present.', '', 'Fracture', 'of', 'T1', 'spinous', 'process', 'is\\n', 'again', 'visualized.', '', 'There', 'is', 'persistent', 'swelling', 'in', 'the', 'prevertebral', 'soft\\n', 'tissues', 'at', 'the', 'level', 'of', 'the', 'fusion,', 'slightly', 'decreased', 'since', '[**9-8**].', '', 'There\\n', 'is', 'no', 'definite', 'fluid', 'collection', 'in', 'this', 'region.', '', 'There', 'is', 'a', 'fluid', 'collection\\n', 'in', 'the', 'posterior', 'paraspinal', 'soft', 'tissues', 'at', 'and', 'below', 'the', 'level', 'of', 'the', 'fusion,\\n', 'as', 'noted', 'on', 'the', '[**9-18**]', 'MRI.', '', 'There', 'is', 'no', 'rim', 'enhancement', 'of', 'the', 'fluid\\n', 'collection', 'to', 'suggest', 'an', 'abscess.', '', 'This', 'collection', 'is', 'likely', 'postsurgical', 'in\\n', 'nature,', 'such', 'as', 'a', 'seroma.', '', 'The', 'patient', 'is', 'intubated.', '', 'A', 'nasogastric', 'tube', 'is', 'in\\n', 'place.', '', 'There', 'is', 'mild', 'opacification', 'of', 'the', 'mastoid', 'air', 'cells', 'bilaterally', 'and\\n', 'moderate', 'mucosal', 'thickening', 'in', 'the', 'maxillary', 'sinuses', 'bilaterally.\\n\\n', 'IMPRESSION:\\n\\n', '1.', '', 'Status', 'post', 'C4', 'through', 'C6', 'anterior', 'fusion', 'and', 'laminectomies,', 'with', 'a', 'fluid\\n', 'collection', 'in', 'the', 'posterior', 'paraspinal', 'soft', 'tissues,', 'which', 'appears\\n', 'nonspecific,', 'but', 'is', 'likely', 'postsurgical.', '', 'No', 'evidence', 'of', 'an', 'abscess.\\n\\n', '2.', '', 'Slight', 'decrease', 'swelling', 'in', 'the', 'prevertebral', 'soft', 'tissues', 'with', 'no', 'definite\\n', 'fluid', 'collection.\\n\\n\\n']\n",
      "\n",
      "\n",
      " tokenized and lemmatized document: \n",
      "['spine', 'contrast', 'ionic', 'contrast', 'clip', 'clip', 'number', 'radiolog', 'reconstruct', 'reason', 'fluid', 'collect', 'contrast', 'optiray', 'hospit', 'medic', 'condit', 'year', 'cervic', 'mening', 'reason', 'examin', 'fluid', 'collect', 'contrast', 'final', 'report', 'histori', 'status', 'post', 'cervic', 'spine', 'fractur', 'mening', 'evalu', 'fluid', 'collect', 'comparison', 'cervic', 'spine', 'cervic', 'spine', 'techniqu', 'axial', 'multidetector', 'imag', 'cervic', 'spine', 'obtain', 'intraven', 'optiray', 'sagitt', 'coron', 'reformat', 'imag', 'perform', 'year', 'digit', 'evid', 'laminectomi', 'anterior', 'fusion', 'anatom', 'align', 'present', 'fractur', 'spinous', 'process', 'visual', 'persist', 'swell', 'prevertebr', 'soft', 'tissu', 'level', 'fusion', 'slight', 'decreas', 'definit', 'fluid', 'collect', 'region', 'fluid', 'collect', 'posterior', 'paraspin', 'soft', 'tissu', 'level', 'fusion', 'note', 'enhanc', 'fluid', 'collect', 'suggest', 'abscess', 'collect', 'like', 'postsurg', 'natur', 'seroma', 'patient', 'intub', 'nasogastr', 'tube', 'place', 'mild', 'opacif', 'mastoid', 'cell', 'bilater', 'moder', 'mucos', 'thicken', 'maxillari', 'sinus', 'bilater', 'impress', 'status', 'post', 'anterior', 'fusion', 'laminectomi', 'fluid', 'collect', 'posterior', 'paraspin', 'soft', 'tissu', 'appear', 'nonspecif', 'like', 'postsurg', 'evid', 'abscess', 'slight', 'decreas', 'swell', 'prevertebr', 'soft', 'tissu', 'definit', 'fluid', 'collect']\n"
     ]
    }
   ],
   "source": [
    "doc_sample = documents[documents['index'] == 4310].values[0][0]\n",
    "print('original document: ')\n",
    "\n",
    "words = []\n",
    "for word in doc_sample.split(' '):\n",
    "    words.append(word)\n",
    "print(words)\n",
    "print('\\n\\n tokenized and lemmatized document: ')\n",
    "print(preprocess(doc_sample))"
   ]
  },
  {
   "cell_type": "code",
   "execution_count": 15,
   "metadata": {},
   "outputs": [
    {
     "data": {
      "text/plain": [
       "0    [chest, portabl, differ, physician, initi, cli...\n",
       "1    [chest, clip, clip, number, radiolog, reason, ...\n",
       "2    [clip, clip, number, radiolog, reason, arterio...\n",
       "3    [renal, transplant, right, clip, clip, number,...\n",
       "4    [head, contrast, ionic, contrast, clip, clip, ...\n",
       "5    [chest, portabl, clip, clip, number, radiolog,...\n",
       "6    [chest, portabl, clip, clip, number, radiolog,...\n",
       "7    [chest, recon, nonion, contrast, clip, clip, n...\n",
       "8    [chest, portabl, clip, clip, number, radiolog,...\n",
       "9    [head, recon, neck, recon, clip, clip, number,...\n",
       "Name: text, dtype: object"
      ]
     },
     "execution_count": 15,
     "metadata": {},
     "output_type": "execute_result"
    }
   ],
   "source": [
    "processed_docs = documents['text'].map(preprocess)\n",
    "processed_docs[:10]"
   ]
  },
  {
   "cell_type": "markdown",
   "metadata": {},
   "source": [
    "## Bag of Words on the Data set\n",
    "Create a dictionary from ‘processed_docs’ containing the number of times a word appears in the training set."
   ]
  },
  {
   "cell_type": "code",
   "execution_count": 16,
   "metadata": {},
   "outputs": [
    {
     "name": "stdout",
     "output_type": "stream",
     "text": [
      "0 accid\n",
      "1 admit\n",
      "2 aspect\n",
      "3 bilater\n",
      "4 brachiocephal\n",
      "5 cardiomegali\n",
      "6 cathet\n",
      "7 central\n",
      "8 chang\n",
      "9 chest\n",
      "10 clip\n"
     ]
    }
   ],
   "source": [
    "dictionary = gensim.corpora.Dictionary(processed_docs)\n",
    "count = 0\n",
    "for k, v in dictionary.iteritems():\n",
    "    print(k, v)\n",
    "    count += 1\n",
    "    if count > 10:\n",
    "        break"
   ]
  },
  {
   "cell_type": "markdown",
   "metadata": {},
   "source": [
    "### Gensim filter_extremes\n",
    "Filter out tokens that appear in\n",
    "\n",
    "1. less than 15 documents (absolute number) or\n",
    "2. more than 0.5 documents (fraction of total corpus size, not absolute number).\n",
    "3. after the above two steps, keep only the first 100000 most frequent tokens."
   ]
  },
  {
   "cell_type": "code",
   "execution_count": 17,
   "metadata": {
    "collapsed": true
   },
   "outputs": [],
   "source": [
    "dictionary.filter_extremes(no_below=15, no_above=0.5, keep_n=100000)"
   ]
  },
  {
   "cell_type": "markdown",
   "metadata": {},
   "source": [
    "## Gensim doc2bow (Bag of Words)\n",
    "For each document we create a dictionary reporting how many\n",
    "words and how many times those words appear. Save this to ‘bow_corpus’, then check our selected document earlier."
   ]
  },
  {
   "cell_type": "code",
   "execution_count": 18,
   "metadata": {},
   "outputs": [
    {
     "data": {
      "text/plain": [
       "[(2, 2),\n",
       " (26, 1),\n",
       " (28, 1),\n",
       " (30, 1),\n",
       " (36, 2),\n",
       " (37, 1),\n",
       " (46, 2),\n",
       " (49, 1),\n",
       " (53, 1),\n",
       " (60, 1),\n",
       " (61, 2),\n",
       " (66, 1),\n",
       " (78, 4),\n",
       " (81, 4),\n",
       " (86, 1),\n",
       " (101, 1),\n",
       " (103, 1),\n",
       " (113, 9),\n",
       " (122, 8),\n",
       " (129, 2),\n",
       " (138, 1),\n",
       " (142, 1),\n",
       " (154, 2),\n",
       " (157, 1),\n",
       " (182, 1),\n",
       " (193, 4),\n",
       " (194, 2),\n",
       " (197, 1),\n",
       " (211, 1),\n",
       " (212, 1),\n",
       " (215, 2),\n",
       " (224, 1),\n",
       " (226, 1),\n",
       " (229, 2),\n",
       " (233, 1),\n",
       " (238, 1),\n",
       " (241, 1),\n",
       " (293, 1),\n",
       " (306, 2),\n",
       " (322, 1),\n",
       " (326, 1),\n",
       " (335, 1),\n",
       " (336, 1),\n",
       " (338, 1),\n",
       " (367, 2),\n",
       " (395, 1),\n",
       " (397, 1),\n",
       " (401, 2),\n",
       " (438, 2),\n",
       " (481, 2),\n",
       " (512, 1),\n",
       " (520, 2),\n",
       " (592, 1),\n",
       " (613, 5),\n",
       " (677, 1),\n",
       " (687, 5),\n",
       " (689, 2),\n",
       " (730, 1),\n",
       " (744, 1),\n",
       " (750, 1),\n",
       " (759, 2),\n",
       " (893, 1),\n",
       " (900, 4),\n",
       " (909, 2),\n",
       " (985, 1),\n",
       " (1252, 1),\n",
       " (1460, 1),\n",
       " (1704, 1),\n",
       " (2008, 1),\n",
       " (2641, 2),\n",
       " (2992, 2),\n",
       " (3331, 2)]"
      ]
     },
     "execution_count": 18,
     "metadata": {},
     "output_type": "execute_result"
    }
   ],
   "source": [
    "bow_corpus = [dictionary.doc2bow(doc) for doc in processed_docs]\n",
    "bow_corpus[4310]"
   ]
  },
  {
   "cell_type": "code",
   "execution_count": 19,
   "metadata": {},
   "outputs": [
    {
     "name": "stdout",
     "output_type": "stream",
     "text": [
      "Word 2 (\"bilater\") appears 2 time.\n",
      "Word 26 (\"obtain\") appears 1 time.\n",
      "Word 28 (\"persist\") appears 1 time.\n",
      "Word 30 (\"place\") appears 1 time.\n",
      "Word 36 (\"post\") appears 2 time.\n",
      "Word 37 (\"present\") appears 1 time.\n",
      "Word 46 (\"status\") appears 2 time.\n",
      "Word 49 (\"techniqu\") appears 1 time.\n",
      "Word 53 (\"tube\") appears 1 time.\n",
      "Word 60 (\"evalu\") appears 1 time.\n",
      "Word 61 (\"evid\") appears 2 time.\n",
      "Word 66 (\"histori\") appears 1 time.\n",
      "Word 78 (\"soft\") appears 4 time.\n",
      "Word 81 (\"tissu\") appears 4 time.\n",
      "Word 86 (\"appear\") appears 1 time.\n",
      "Word 101 (\"perform\") appears 1 time.\n",
      "Word 103 (\"region\") appears 1 time.\n",
      "Word 113 (\"collect\") appears 9 time.\n",
      "Word 122 (\"fluid\") appears 8 time.\n",
      "Word 129 (\"imag\") appears 2 time.\n",
      "Word 138 (\"note\") appears 1 time.\n",
      "Word 142 (\"patient\") appears 1 time.\n",
      "Word 154 (\"slight\") appears 2 time.\n",
      "Word 157 (\"suggest\") appears 1 time.\n",
      "Word 182 (\"axial\") appears 1 time.\n",
      "Word 193 (\"contrast\") appears 4 time.\n",
      "Word 194 (\"decreas\") appears 2 time.\n",
      "Word 197 (\"enhanc\") appears 1 time.\n",
      "Word 211 (\"intraven\") appears 1 time.\n",
      "Word 212 (\"ionic\") appears 1 time.\n",
      "Word 215 (\"like\") appears 2 time.\n",
      "Word 224 (\"moder\") appears 1 time.\n",
      "Word 226 (\"mucos\") appears 1 time.\n",
      "Word 229 (\"optiray\") appears 2 time.\n",
      "Word 233 (\"process\") appears 1 time.\n",
      "Word 238 (\"sinus\") appears 1 time.\n",
      "Word 241 (\"thicken\") appears 1 time.\n",
      "Word 293 (\"coron\") appears 1 time.\n",
      "Word 306 (\"fractur\") appears 2 time.\n",
      "Word 322 (\"mild\") appears 1 time.\n",
      "Word 326 (\"opacif\") appears 1 time.\n",
      "Word 335 (\"reconstruct\") appears 1 time.\n",
      "Word 336 (\"reformat\") appears 1 time.\n",
      "Word 338 (\"sagitt\") appears 1 time.\n",
      "Word 367 (\"anterior\") appears 2 time.\n",
      "Word 395 (\"multidetector\") appears 1 time.\n",
      "Word 397 (\"nasogastr\") appears 1 time.\n",
      "Word 401 (\"postsurg\") appears 2 time.\n",
      "Word 438 (\"swell\") appears 2 time.\n",
      "Word 481 (\"definit\") appears 2 time.\n",
      "Word 512 (\"intub\") appears 1 time.\n",
      "Word 520 (\"abscess\") appears 2 time.\n",
      "Word 592 (\"digit\") appears 1 time.\n",
      "Word 613 (\"spine\") appears 5 time.\n",
      "Word 677 (\"visual\") appears 1 time.\n",
      "Word 687 (\"cervic\") appears 5 time.\n",
      "Word 689 (\"level\") appears 2 time.\n",
      "Word 730 (\"seroma\") appears 1 time.\n",
      "Word 744 (\"natur\") appears 1 time.\n",
      "Word 750 (\"cell\") appears 1 time.\n",
      "Word 759 (\"posterior\") appears 2 time.\n",
      "Word 893 (\"align\") appears 1 time.\n",
      "Word 900 (\"fusion\") appears 4 time.\n",
      "Word 909 (\"prevertebr\") appears 2 time.\n",
      "Word 985 (\"maxillari\") appears 1 time.\n",
      "Word 1252 (\"mastoid\") appears 1 time.\n",
      "Word 1460 (\"nonspecif\") appears 1 time.\n",
      "Word 1704 (\"anatom\") appears 1 time.\n",
      "Word 2008 (\"spinous\") appears 1 time.\n",
      "Word 2641 (\"mening\") appears 2 time.\n",
      "Word 2992 (\"paraspin\") appears 2 time.\n",
      "Word 3331 (\"laminectomi\") appears 2 time.\n"
     ]
    }
   ],
   "source": [
    "bow_doc_4310 = bow_corpus[4310]\n",
    "for i in range(len(bow_doc_4310)):\n",
    "    print(\"Word {} (\\\"{}\\\") appears {} time.\".format(bow_doc_4310[i][0], \n",
    "                                               dictionary[bow_doc_4310[i][0]], \n",
    "bow_doc_4310[i][1]))"
   ]
  },
  {
   "cell_type": "markdown",
   "metadata": {},
   "source": [
    "## TF IDF \n",
    "Create tf-idf model object using models.TfidfModel on ‘bow_corpus’ and save it to ‘tfidf’, then apply transformation to the entire corpus and call it ‘corpus_tfidf’. Finally we preview TF-IDF scores for our first document."
   ]
  },
  {
   "cell_type": "code",
   "execution_count": 20,
   "metadata": {},
   "outputs": [
    {
     "name": "stdout",
     "output_type": "stream",
     "text": [
      "[(0, 0.11030306282395226),\n",
      " (1, 0.08673954089788365),\n",
      " (2, 0.03700529163661585),\n",
      " (3, 0.11046351873995343),\n",
      " (4, 0.07731225353127807),\n",
      " (5, 0.045467672917461115),\n",
      " (6, 0.06242559423081927),\n",
      " (7, 0.057182843407501814),\n",
      " (8, 0.09500468637945848),\n",
      " (9, 0.04024977223114698),\n",
      " (10, 0.05607448307304172),\n",
      " (11, 0.10770107514461968),\n",
      " (12, 0.283436484636098),\n",
      " (13, 0.13704235129763967),\n",
      " (14, 0.07337142875145794),\n",
      " (15, 0.023844263991027976),\n",
      " (16, 0.11749752866354181),\n",
      " (17, 0.08271062345748974),\n",
      " (18, 0.07559844341156134),\n",
      " (19, 0.10444690814593954),\n",
      " (20, 0.019691007529958768),\n",
      " (21, 0.08173775294278883),\n",
      " (22, 0.053918566816367836),\n",
      " (23, 0.04234181468510944),\n",
      " (24, 0.10331468548377692),\n",
      " (25, 0.1674829093348646),\n",
      " (26, 0.042258577768104946),\n",
      " (27, 0.04831118488674307),\n",
      " (28, 0.06317412621916588),\n",
      " (29, 0.061908829542932614),\n",
      " (30, 0.0556960325621494),\n",
      " (31, 0.1767185083071269),\n",
      " (32, 0.026659550435654534),\n",
      " (33, 0.03827841279468709),\n",
      " (34, 0.025232773775803883),\n",
      " (35, 0.092943573431235),\n",
      " (36, 0.03294603432597296),\n",
      " (37, 0.04556535963259717),\n",
      " (38, 0.06564090596669347),\n",
      " (39, 0.05404702621528434),\n",
      " (40, 0.0826565083602274),\n",
      " (41, 0.03133324488106927),\n",
      " (42, 0.057693620273597264),\n",
      " (43, 0.10689687935747777),\n",
      " (44, 0.05483444097465324),\n",
      " (45, 0.03195511061308616),\n",
      " (46, 0.03508183318103897),\n",
      " (47, 0.060801845385607386),\n",
      " (48, 0.06980978130209062),\n",
      " (49, 0.0391846742202731),\n",
      " (50, 0.352776233546688),\n",
      " (51, 0.6928430648353646),\n",
      " (52, 0.098108825420907),\n",
      " (53, 0.06644276476878982),\n",
      " (54, 0.05886183677681323),\n",
      " (55, 0.06253824223826661),\n",
      " (56, 0.036798467014349565)]\n"
     ]
    }
   ],
   "source": [
    "from gensim import corpora, models\n",
    "tfidf = models.TfidfModel(bow_corpus)\n",
    "corpus_tfidf = tfidf[bow_corpus]\n",
    "from pprint import pprint\n",
    "for doc in corpus_tfidf:\n",
    "    pprint(doc)\n",
    "    break"
   ]
  },
  {
   "cell_type": "markdown",
   "metadata": {},
   "source": [
    "## Running LDA using Bag of Words\n",
    "Train our lda model using gensim.models.LdaMulticore and save it to ‘lda_model’"
   ]
  },
  {
   "cell_type": "code",
   "execution_count": 21,
   "metadata": {
    "collapsed": true
   },
   "outputs": [],
   "source": [
    "lda_model = gensim.models.LdaMulticore(bow_corpus,\n",
    "                                       num_topics=10,\n",
    "                                       id2word=dictionary,\n",
    "                                       passes=2,\n",
    "                                       workers=2)"
   ]
  },
  {
   "cell_type": "code",
   "execution_count": 22,
   "metadata": {},
   "outputs": [
    {
     "data": {
      "text/plain": [
       "gensim.models.ldamulticore.LdaMulticore"
      ]
     },
     "execution_count": 22,
     "metadata": {},
     "output_type": "execute_result"
    }
   ],
   "source": [
    "type(lda_model)"
   ]
  },
  {
   "cell_type": "markdown",
   "metadata": {},
   "source": [
    "For each topic, we will explore the words occuring in that topic and its relative weight."
   ]
  },
  {
   "cell_type": "code",
   "execution_count": 23,
   "metadata": {},
   "outputs": [
    {
     "name": "stdout",
     "output_type": "stream",
     "text": [
      "Topic: 0 \n",
      "Words: 0.041*\"vein\" + 0.028*\"liver\" + 0.018*\"hepat\" + 0.017*\"flow\" + 0.015*\"lower\" + 0.014*\"portal\" + 0.014*\"normal\" + 0.013*\"evalu\" + 0.013*\"extrem\" + 0.012*\"ascit\"\n",
      "Topic: 1 \n",
      "Words: 0.047*\"contrast\" + 0.016*\"pelvi\" + 0.015*\"abdomen\" + 0.013*\"small\" + 0.011*\"imag\" + 0.011*\"fluid\" + 0.010*\"lesion\" + 0.009*\"note\" + 0.008*\"appear\" + 0.008*\"see\"\n",
      "Topic: 2 \n",
      "Words: 0.031*\"procedur\" + 0.022*\"cathet\" + 0.021*\"identifi\" + 0.020*\"numer\" + 0.020*\"patient\" + 0.019*\"place\" + 0.012*\"remov\" + 0.012*\"picc\" + 0.011*\"perform\" + 0.011*\"wire\"\n",
      "Topic: 3 \n",
      "Words: 0.032*\"contrast\" + 0.017*\"mass\" + 0.017*\"head\" + 0.015*\"imag\" + 0.014*\"brain\" + 0.011*\"lesion\" + 0.010*\"enhanc\" + 0.010*\"evid\" + 0.009*\"infarct\" + 0.009*\"arteri\"\n",
      "Topic: 4 \n",
      "Words: 0.031*\"spine\" + 0.025*\"arteri\" + 0.020*\"carotid\" + 0.020*\"imag\" + 0.015*\"cervic\" + 0.015*\"vertebr\" + 0.014*\"stenosi\" + 0.012*\"namepattern\" + 0.011*\"level\" + 0.010*\"mild\"\n",
      "Topic: 5 \n",
      "Words: 0.034*\"bowel\" + 0.031*\"abdomen\" + 0.027*\"obstruct\" + 0.020*\"abdomin\" + 0.018*\"free\" + 0.017*\"evid\" + 0.015*\"evalu\" + 0.014*\"small\" + 0.014*\"pain\" + 0.013*\"see\"\n",
      "Topic: 6 \n",
      "Words: 0.036*\"effus\" + 0.029*\"pleural\" + 0.023*\"lung\" + 0.021*\"chang\" + 0.019*\"portabl\" + 0.017*\"pulmonari\" + 0.017*\"interv\" + 0.014*\"pneumonia\" + 0.013*\"atelectasi\" + 0.013*\"opac\"\n",
      "Topic: 7 \n",
      "Words: 0.030*\"fractur\" + 0.024*\"hemorrhag\" + 0.023*\"contrast\" + 0.019*\"head\" + 0.015*\"chang\" + 0.011*\"acut\" + 0.010*\"sinus\" + 0.010*\"hematoma\" + 0.009*\"evid\" + 0.008*\"intracrani\"\n",
      "Topic: 8 \n",
      "Words: 0.057*\"line\" + 0.037*\"placement\" + 0.033*\"picc\" + 0.015*\"central\" + 0.014*\"cathet\" + 0.013*\"subclavian\" + 0.013*\"portabl\" + 0.012*\"failur\" + 0.011*\"port\" + 0.011*\"pneumothorax\"\n",
      "Topic: 9 \n",
      "Words: 0.090*\"tube\" + 0.031*\"placement\" + 0.022*\"portabl\" + 0.021*\"pneumothorax\" + 0.020*\"posit\" + 0.013*\"endotrach\" + 0.013*\"post\" + 0.012*\"remov\" + 0.012*\"cathet\" + 0.012*\"stomach\"\n"
     ]
    }
   ],
   "source": [
    "for idx, topic in lda_model.print_topics(-1):\n",
    "    print('Topic: {} \\nWords: {}'.format(idx, topic))"
   ]
  },
  {
   "cell_type": "markdown",
   "metadata": {},
   "source": [
    "## Running LDA using TF-IDF\n"
   ]
  },
  {
   "cell_type": "code",
   "execution_count": 24,
   "metadata": {
    "scrolled": true
   },
   "outputs": [
    {
     "name": "stdout",
     "output_type": "stream",
     "text": [
      "Topic: 0 Word: 0.020*\"dobhoff\" + 0.016*\"dobbhoff\" + 0.013*\"ercp\" + 0.013*\"tube\" + 0.012*\"paracentesi\" + 0.011*\"sicu\" + 0.011*\"placement\" + 0.010*\"biliari\" + 0.010*\"feed\" + 0.009*\"duct\"\n",
      "Topic: 1 Word: 0.023*\"fractur\" + 0.014*\"knee\" + 0.012*\"joint\" + 0.010*\"femur\" + 0.010*\"shoulder\" + 0.010*\"foot\" + 0.009*\"ankl\" + 0.008*\"babygram\" + 0.008*\"view\" + 0.008*\"disloc\"\n",
      "Topic: 2 Word: 0.017*\"liver\" + 0.015*\"hepat\" + 0.014*\"portal\" + 0.011*\"flow\" + 0.011*\"vein\" + 0.010*\"ascit\" + 0.009*\"transplant\" + 0.009*\"doppler\" + 0.008*\"swallow\" + 0.008*\"cirrhosi\"\n",
      "Topic: 3 Word: 0.035*\"picc\" + 0.020*\"line\" + 0.015*\"placement\" + 0.011*\"procedur\" + 0.011*\"numer\" + 0.010*\"place\" + 0.010*\"cathet\" + 0.007*\"sheath\" + 0.007*\"access\" + 0.007*\"port\"\n",
      "Topic: 4 Word: 0.012*\"tube\" + 0.010*\"interv\" + 0.009*\"portabl\" + 0.009*\"effus\" + 0.009*\"pneumonia\" + 0.009*\"placement\" + 0.009*\"chang\" + 0.008*\"pleural\" + 0.008*\"pneumothorax\" + 0.008*\"lung\"\n",
      "Topic: 5 Word: 0.023*\"bowel\" + 0.020*\"obstruct\" + 0.018*\"abdomen\" + 0.015*\"free\" + 0.014*\"ileus\" + 0.012*\"abdomin\" + 0.011*\"loop\" + 0.011*\"colon\" + 0.010*\"supin\" + 0.008*\"dilat\"\n",
      "Topic: 6 Word: 0.025*\"spine\" + 0.022*\"fractur\" + 0.014*\"cervic\" + 0.010*\"trauma\" + 0.010*\"spinal\" + 0.009*\"lumbar\" + 0.009*\"fusion\" + 0.009*\"disc\" + 0.008*\"injuri\" + 0.008*\"cord\"\n",
      "Topic: 7 Word: 0.019*\"hemorrhag\" + 0.017*\"head\" + 0.017*\"contrast\" + 0.011*\"intracrani\" + 0.009*\"sinus\" + 0.009*\"frontal\" + 0.009*\"brain\" + 0.009*\"carotid\" + 0.009*\"mass\" + 0.008*\"infarct\"\n",
      "Topic: 8 Word: 0.018*\"vein\" + 0.017*\"cabg\" + 0.015*\"extrem\" + 0.013*\"coronari\" + 0.012*\"arteri\" + 0.011*\"valv\" + 0.011*\"femor\" + 0.011*\"aortic\" + 0.009*\"lower\" + 0.009*\"replac\"\n",
      "Topic: 9 Word: 0.017*\"contrast\" + 0.010*\"pelvi\" + 0.008*\"abdomen\" + 0.006*\"kidney\" + 0.006*\"lesion\" + 0.006*\"renal\" + 0.006*\"fluid\" + 0.006*\"measur\" + 0.005*\"liver\" + 0.005*\"imag\"\n"
     ]
    }
   ],
   "source": [
    "lda_model_tfidf = gensim.models.LdaMulticore(corpus_tfidf, num_topics=10, id2word=dictionary, passes=2, workers=4)\n",
    "for idx, topic in lda_model_tfidf.print_topics(-1):\n",
    "    print('Topic: {} Word: {}'.format(idx, topic))"
   ]
  },
  {
   "cell_type": "markdown",
   "metadata": {},
   "source": [
    "## Performance evaluation by classifying sample document using LDA Bag of Words model"
   ]
  },
  {
   "cell_type": "code",
   "execution_count": 26,
   "metadata": {},
   "outputs": [
    {
     "data": {
      "text/plain": [
       "['spine',\n",
       " 'contrast',\n",
       " 'ionic',\n",
       " 'contrast',\n",
       " 'clip',\n",
       " 'clip',\n",
       " 'number',\n",
       " 'radiolog',\n",
       " 'reconstruct',\n",
       " 'reason',\n",
       " 'fluid',\n",
       " 'collect',\n",
       " 'contrast',\n",
       " 'optiray',\n",
       " 'hospit',\n",
       " 'medic',\n",
       " 'condit',\n",
       " 'year',\n",
       " 'cervic',\n",
       " 'mening',\n",
       " 'reason',\n",
       " 'examin',\n",
       " 'fluid',\n",
       " 'collect',\n",
       " 'contrast',\n",
       " 'final',\n",
       " 'report',\n",
       " 'histori',\n",
       " 'status',\n",
       " 'post',\n",
       " 'cervic',\n",
       " 'spine',\n",
       " 'fractur',\n",
       " 'mening',\n",
       " 'evalu',\n",
       " 'fluid',\n",
       " 'collect',\n",
       " 'comparison',\n",
       " 'cervic',\n",
       " 'spine',\n",
       " 'cervic',\n",
       " 'spine',\n",
       " 'techniqu',\n",
       " 'axial',\n",
       " 'multidetector',\n",
       " 'imag',\n",
       " 'cervic',\n",
       " 'spine',\n",
       " 'obtain',\n",
       " 'intraven',\n",
       " 'optiray',\n",
       " 'sagitt',\n",
       " 'coron',\n",
       " 'reformat',\n",
       " 'imag',\n",
       " 'perform',\n",
       " 'year',\n",
       " 'digit',\n",
       " 'evid',\n",
       " 'laminectomi',\n",
       " 'anterior',\n",
       " 'fusion',\n",
       " 'anatom',\n",
       " 'align',\n",
       " 'present',\n",
       " 'fractur',\n",
       " 'spinous',\n",
       " 'process',\n",
       " 'visual',\n",
       " 'persist',\n",
       " 'swell',\n",
       " 'prevertebr',\n",
       " 'soft',\n",
       " 'tissu',\n",
       " 'level',\n",
       " 'fusion',\n",
       " 'slight',\n",
       " 'decreas',\n",
       " 'definit',\n",
       " 'fluid',\n",
       " 'collect',\n",
       " 'region',\n",
       " 'fluid',\n",
       " 'collect',\n",
       " 'posterior',\n",
       " 'paraspin',\n",
       " 'soft',\n",
       " 'tissu',\n",
       " 'level',\n",
       " 'fusion',\n",
       " 'note',\n",
       " 'enhanc',\n",
       " 'fluid',\n",
       " 'collect',\n",
       " 'suggest',\n",
       " 'abscess',\n",
       " 'collect',\n",
       " 'like',\n",
       " 'postsurg',\n",
       " 'natur',\n",
       " 'seroma',\n",
       " 'patient',\n",
       " 'intub',\n",
       " 'nasogastr',\n",
       " 'tube',\n",
       " 'place',\n",
       " 'mild',\n",
       " 'opacif',\n",
       " 'mastoid',\n",
       " 'cell',\n",
       " 'bilater',\n",
       " 'moder',\n",
       " 'mucos',\n",
       " 'thicken',\n",
       " 'maxillari',\n",
       " 'sinus',\n",
       " 'bilater',\n",
       " 'impress',\n",
       " 'status',\n",
       " 'post',\n",
       " 'anterior',\n",
       " 'fusion',\n",
       " 'laminectomi',\n",
       " 'fluid',\n",
       " 'collect',\n",
       " 'posterior',\n",
       " 'paraspin',\n",
       " 'soft',\n",
       " 'tissu',\n",
       " 'appear',\n",
       " 'nonspecif',\n",
       " 'like',\n",
       " 'postsurg',\n",
       " 'evid',\n",
       " 'abscess',\n",
       " 'slight',\n",
       " 'decreas',\n",
       " 'swell',\n",
       " 'prevertebr',\n",
       " 'soft',\n",
       " 'tissu',\n",
       " 'definit',\n",
       " 'fluid',\n",
       " 'collect']"
      ]
     },
     "execution_count": 26,
     "metadata": {},
     "output_type": "execute_result"
    }
   ],
   "source": [
    "processed_docs[4310]"
   ]
  },
  {
   "cell_type": "code",
   "execution_count": 27,
   "metadata": {},
   "outputs": [
    {
     "name": "stdout",
     "output_type": "stream",
     "text": [
      "\n",
      "Score: 0.36354631185531616\t \n",
      "Topic: 0.047*\"contrast\" + 0.016*\"pelvi\" + 0.015*\"abdomen\" + 0.013*\"small\" + 0.011*\"imag\" + 0.011*\"fluid\" + 0.010*\"lesion\" + 0.009*\"note\" + 0.008*\"appear\" + 0.008*\"see\"\n",
      "\n",
      "Score: 0.30859193205833435\t \n",
      "Topic: 0.031*\"spine\" + 0.025*\"arteri\" + 0.020*\"carotid\" + 0.020*\"imag\" + 0.015*\"cervic\" + 0.015*\"vertebr\" + 0.014*\"stenosi\" + 0.012*\"namepattern\" + 0.011*\"level\" + 0.010*\"mild\"\n",
      "\n",
      "Score: 0.23450230062007904\t \n",
      "Topic: 0.030*\"fractur\" + 0.024*\"hemorrhag\" + 0.023*\"contrast\" + 0.019*\"head\" + 0.015*\"chang\" + 0.011*\"acut\" + 0.010*\"sinus\" + 0.010*\"hematoma\" + 0.009*\"evid\" + 0.008*\"intracrani\"\n",
      "\n",
      "Score: 0.05471209064126015\t \n",
      "Topic: 0.032*\"contrast\" + 0.017*\"mass\" + 0.017*\"head\" + 0.015*\"imag\" + 0.014*\"brain\" + 0.011*\"lesion\" + 0.010*\"enhanc\" + 0.010*\"evid\" + 0.009*\"infarct\" + 0.009*\"arteri\"\n",
      "\n",
      "Score: 0.03477079048752785\t \n",
      "Topic: 0.090*\"tube\" + 0.031*\"placement\" + 0.022*\"portabl\" + 0.021*\"pneumothorax\" + 0.020*\"posit\" + 0.013*\"endotrach\" + 0.013*\"post\" + 0.012*\"remov\" + 0.012*\"cathet\" + 0.012*\"stomach\"\n"
     ]
    }
   ],
   "source": [
    "for index, score in sorted(lda_model[bow_corpus[4310]], key=lambda tup: -1*tup[1]):\n",
    "    print(\"\\nScore: {}\\t \\nTopic: {}\".format(score, lda_model.print_topic(index, 10)))"
   ]
  },
  {
   "cell_type": "markdown",
   "metadata": {},
   "source": [
    "## Performance evaluation by classifying sample document using LDA TF-IDF model."
   ]
  },
  {
   "cell_type": "code",
   "execution_count": 28,
   "metadata": {},
   "outputs": [
    {
     "name": "stdout",
     "output_type": "stream",
     "text": [
      "\n",
      "Score: 0.5306692719459534\t \n",
      "Topic: 0.025*\"spine\" + 0.022*\"fractur\" + 0.014*\"cervic\" + 0.010*\"trauma\" + 0.010*\"spinal\" + 0.009*\"lumbar\" + 0.009*\"fusion\" + 0.009*\"disc\" + 0.008*\"injuri\" + 0.008*\"cord\"\n",
      "\n",
      "Score: 0.27951470017433167\t \n",
      "Topic: 0.017*\"contrast\" + 0.010*\"pelvi\" + 0.008*\"abdomen\" + 0.006*\"kidney\" + 0.006*\"lesion\" + 0.006*\"renal\" + 0.006*\"fluid\" + 0.006*\"measur\" + 0.005*\"liver\" + 0.005*\"imag\"\n",
      "\n",
      "Score: 0.1843886524438858\t \n",
      "Topic: 0.019*\"hemorrhag\" + 0.017*\"head\" + 0.017*\"contrast\" + 0.011*\"intracrani\" + 0.009*\"sinus\" + 0.009*\"frontal\" + 0.009*\"brain\" + 0.009*\"carotid\" + 0.009*\"mass\" + 0.008*\"infarct\"\n"
     ]
    }
   ],
   "source": [
    "for index, score in sorted(lda_model_tfidf[bow_corpus[4310]], key=lambda tup: -1*tup[1]):\n",
    "    print(\"\\nScore: {}\\t \\nTopic: {}\".format(score, lda_model_tfidf.print_topic(index, 10)))"
   ]
  },
  {
   "cell_type": "markdown",
   "metadata": {},
   "source": [
    "## Testing model on unseen document\n"
   ]
  },
  {
   "cell_type": "code",
   "execution_count": 34,
   "metadata": {},
   "outputs": [
    {
     "name": "stdout",
     "output_type": "stream",
     "text": [
      "Score: 0.4775536060333252\t Topic: 0.032*\"contrast\" + 0.017*\"mass\" + 0.017*\"head\" + 0.015*\"imag\" + 0.014*\"brain\"\n",
      "Score: 0.22977572679519653\t Topic: 0.036*\"effus\" + 0.029*\"pleural\" + 0.023*\"lung\" + 0.021*\"chang\" + 0.019*\"portabl\"\n",
      "Score: 0.16698352992534637\t Topic: 0.031*\"spine\" + 0.025*\"arteri\" + 0.020*\"carotid\" + 0.020*\"imag\" + 0.015*\"cervic\"\n",
      "Score: 0.11368417739868164\t Topic: 0.034*\"bowel\" + 0.031*\"abdomen\" + 0.027*\"obstruct\" + 0.020*\"abdomin\" + 0.018*\"free\"\n"
     ]
    }
   ],
   "source": [
    "unseen_document = \"\"\"\n",
    "Admission Date:  [**2151-7-16**]       Discharge Date:  [**2151-8-4**]\n",
    "\n",
    "\n",
    "Service:\n",
    "ADDENDUM:\n",
    "\n",
    "RADIOLOGIC STUDIES:  Radiologic studies also included a chest\n",
    "CT, which confirmed cavitary lesions in the left lung apex\n",
    "consistent with infectious process/tuberculosis.  This also\n",
    "moderate-sized left pleural effusion.\n",
    "\n",
    "HEAD CT:  Head CT showed no intracranial hemorrhage or mass\n",
    "effect, but old infarction consistent with past medical\n",
    "history.\n",
    "\n",
    "ABDOMINAL CT:  Abdominal CT showed lesions of\n",
    "T10 and sacrum most likely secondary to osteoporosis. These can\n",
    "be followed by repeat imaging as an outpatient.\n",
    "\n",
    "\n",
    "\n",
    "                            [**First Name8 (NamePattern2) **] [**First Name4 (NamePattern1) 1775**] [**Last Name (NamePattern1) **], M.D.  [**MD Number(1) 1776**]\n",
    "\n",
    "Dictated By:[**Hospital 1807**]\n",
    "MEDQUIST36\n",
    "\n",
    "D:  [**2151-8-5**]  12:11\n",
    "T:  [**2151-8-5**]  12:21\n",
    "JOB#:  [**Job Number 1808**]\n",
    "\n",
    "\"\"\"\n",
    "bow_vector = dictionary.doc2bow(preprocess(unseen_document))\n",
    "for index, score in sorted(lda_model[bow_vector], key=lambda tup: -1*tup[1]):\n",
    "    print(\"Score: {}\\t Topic: {}\".format(score, lda_model.print_topic(index, 5)))"
   ]
  },
  {
   "cell_type": "code",
   "execution_count": null,
   "metadata": {
    "collapsed": true
   },
   "outputs": [],
   "source": []
  }
 ],
 "metadata": {
  "kernelspec": {
   "display_name": "Python (cse6250-project)",
   "language": "python",
   "name": "cse6250-project"
  },
  "language_info": {
   "codemirror_mode": {
    "name": "ipython",
    "version": 3
   },
   "file_extension": ".py",
   "mimetype": "text/x-python",
   "name": "python",
   "nbconvert_exporter": "python",
   "pygments_lexer": "ipython3",
   "version": "3.6.5"
  }
 },
 "nbformat": 4,
 "nbformat_minor": 2
}
