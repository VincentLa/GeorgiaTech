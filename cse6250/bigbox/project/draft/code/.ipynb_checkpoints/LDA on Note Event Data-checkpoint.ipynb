{
 "cells": [
  {
   "cell_type": "code",
   "execution_count": 1,
   "metadata": {},
   "outputs": [
    {
     "name": "stderr",
     "output_type": "stream",
     "text": [
      "/Users/VincentLa/anaconda3/envs/cse6250-project/lib/python3.6/site-packages/psycopg2/__init__.py:144: UserWarning: The psycopg2 wheel package will be renamed from release 2.8; in order to keep installing from binary please use \"pip install psycopg2-binary\" instead. For details see: <http://initd.org/psycopg/docs/install.html#binary-install-from-pypi>.\n",
      "  \"\"\")\n"
     ]
    }
   ],
   "source": [
    "import datetime as dt\n",
    "import os\n",
    "import sys\n",
    "\n",
    "import numpy as np\n",
    "import pandas as pd\n",
    "from scipy import interp\n",
    "import scipy.stats as stats\n",
    "from sklearn.model_selection import train_test_split\n",
    "from sklearn.ensemble import RandomForestClassifier\n",
    "from sklearn.metrics import accuracy_score, auc, confusion_matrix, roc_curve, average_precision_score, precision_recall_curve\n",
    "from sklearn.model_selection import StratifiedKFold\n",
    "import sqlalchemy as sa\n",
    "from sqlalchemy import create_engine\n",
    "import matplotlib.pyplot as plt\n",
    "%matplotlib inline\n",
    "\n",
    "sys.path.append('../')\n",
    "from utilities import sql_utils as su\n",
    "from utilities import model_eval_utils as meu\n",
    "\n",
    "DWH = os.getenv('MIMIC_DWH')\n",
    "engine = create_engine(DWH)\n",
    "\n",
    "pd.options.display.max_columns = 1000\n",
    "pd.options.display.max_rows = 1000\n",
    "pd.set_option('display.float_format', lambda x: '%.3f' % x)"
   ]
  },
  {
   "cell_type": "code",
   "execution_count": 2,
   "metadata": {},
   "outputs": [],
   "source": [
    "QUERY = \"\"\"\n",
    "select\n",
    "  subject_id,\n",
    "  hadm_id,\n",
    "  chartdate,\n",
    "  text\n",
    "from mimiciii.noteevents\n",
    "limit 200000\n",
    "\"\"\"\n",
    "with engine.connect() as conn:\n",
    "    df = pd.read_sql(QUERY, conn)"
   ]
  },
  {
   "cell_type": "code",
   "execution_count": 3,
   "metadata": {},
   "outputs": [
    {
     "data": {
      "text/plain": [
       "(200000, 4)"
      ]
     },
     "execution_count": 3,
     "metadata": {},
     "output_type": "execute_result"
    }
   ],
   "source": [
    "df.shape"
   ]
  },
  {
   "cell_type": "code",
   "execution_count": 4,
   "metadata": {},
   "outputs": [
    {
     "data": {
      "text/html": [
       "<div>\n",
       "<style scoped>\n",
       "    .dataframe tbody tr th:only-of-type {\n",
       "        vertical-align: middle;\n",
       "    }\n",
       "\n",
       "    .dataframe tbody tr th {\n",
       "        vertical-align: top;\n",
       "    }\n",
       "\n",
       "    .dataframe thead th {\n",
       "        text-align: right;\n",
       "    }\n",
       "</style>\n",
       "<table border=\"1\" class=\"dataframe\">\n",
       "  <thead>\n",
       "    <tr style=\"text-align: right;\">\n",
       "      <th></th>\n",
       "      <th>subject_id</th>\n",
       "      <th>hadm_id</th>\n",
       "      <th>chartdate</th>\n",
       "      <th>text</th>\n",
       "    </tr>\n",
       "  </thead>\n",
       "  <tbody>\n",
       "    <tr>\n",
       "      <th>0</th>\n",
       "      <td>14139</td>\n",
       "      <td>114588.000</td>\n",
       "      <td>2198-06-06</td>\n",
       "      <td>[**2198-6-6**] 4:00 PM\\n CHEST (PORTABLE AP); ...</td>\n",
       "    </tr>\n",
       "    <tr>\n",
       "      <th>1</th>\n",
       "      <td>1563</td>\n",
       "      <td>nan</td>\n",
       "      <td>2172-03-18</td>\n",
       "      <td>[**2172-3-18**] 4:00 PM\\n CHEST (PA &amp; LAT)    ...</td>\n",
       "    </tr>\n",
       "    <tr>\n",
       "      <th>2</th>\n",
       "      <td>8182</td>\n",
       "      <td>nan</td>\n",
       "      <td>2194-04-16</td>\n",
       "      <td>[**2194-4-16**] 12:04 PM\\n ART DUP EXT LO UNI;...</td>\n",
       "    </tr>\n",
       "    <tr>\n",
       "      <th>3</th>\n",
       "      <td>8297</td>\n",
       "      <td>113537.000</td>\n",
       "      <td>2115-05-01</td>\n",
       "      <td>[**2115-5-1**] 12:54 PM\\n RENAL TRANSPLANT U.S...</td>\n",
       "    </tr>\n",
       "    <tr>\n",
       "      <th>4</th>\n",
       "      <td>20473</td>\n",
       "      <td>nan</td>\n",
       "      <td>2126-05-29</td>\n",
       "      <td>[**2126-5-29**] 12:56 PM\\n CT HEAD W/ &amp; W/O CO...</td>\n",
       "    </tr>\n",
       "  </tbody>\n",
       "</table>\n",
       "</div>"
      ],
      "text/plain": [
       "   subject_id    hadm_id  chartdate  \\\n",
       "0       14139 114588.000 2198-06-06   \n",
       "1        1563        nan 2172-03-18   \n",
       "2        8182        nan 2194-04-16   \n",
       "3        8297 113537.000 2115-05-01   \n",
       "4       20473        nan 2126-05-29   \n",
       "\n",
       "                                                text  \n",
       "0  [**2198-6-6**] 4:00 PM\\n CHEST (PORTABLE AP); ...  \n",
       "1  [**2172-3-18**] 4:00 PM\\n CHEST (PA & LAT)    ...  \n",
       "2  [**2194-4-16**] 12:04 PM\\n ART DUP EXT LO UNI;...  \n",
       "3  [**2115-5-1**] 12:54 PM\\n RENAL TRANSPLANT U.S...  \n",
       "4  [**2126-5-29**] 12:56 PM\\n CT HEAD W/ & W/O CO...  "
      ]
     },
     "execution_count": 4,
     "metadata": {},
     "output_type": "execute_result"
    }
   ],
   "source": [
    "df.head()"
   ]
  },
  {
   "cell_type": "code",
   "execution_count": 5,
   "metadata": {},
   "outputs": [
    {
     "name": "stderr",
     "output_type": "stream",
     "text": [
      "/Users/VincentLa/anaconda3/envs/cse6250-project/lib/python3.6/site-packages/ipykernel_launcher.py:2: SettingWithCopyWarning: \n",
      "A value is trying to be set on a copy of a slice from a DataFrame.\n",
      "Try using .loc[row_indexer,col_indexer] = value instead\n",
      "\n",
      "See the caveats in the documentation: http://pandas.pydata.org/pandas-docs/stable/indexing.html#indexing-view-versus-copy\n",
      "  \n"
     ]
    }
   ],
   "source": [
    "data_text = df[['text']]\n",
    "data_text['index'] = data_text.index"
   ]
  },
  {
   "cell_type": "code",
   "execution_count": 6,
   "metadata": {},
   "outputs": [
    {
     "data": {
      "text/html": [
       "<div>\n",
       "<style scoped>\n",
       "    .dataframe tbody tr th:only-of-type {\n",
       "        vertical-align: middle;\n",
       "    }\n",
       "\n",
       "    .dataframe tbody tr th {\n",
       "        vertical-align: top;\n",
       "    }\n",
       "\n",
       "    .dataframe thead th {\n",
       "        text-align: right;\n",
       "    }\n",
       "</style>\n",
       "<table border=\"1\" class=\"dataframe\">\n",
       "  <thead>\n",
       "    <tr style=\"text-align: right;\">\n",
       "      <th></th>\n",
       "      <th>text</th>\n",
       "      <th>index</th>\n",
       "    </tr>\n",
       "  </thead>\n",
       "  <tbody>\n",
       "    <tr>\n",
       "      <th>0</th>\n",
       "      <td>[**2198-6-6**] 4:00 PM\\n CHEST (PORTABLE AP); ...</td>\n",
       "      <td>0</td>\n",
       "    </tr>\n",
       "    <tr>\n",
       "      <th>1</th>\n",
       "      <td>[**2172-3-18**] 4:00 PM\\n CHEST (PA &amp; LAT)    ...</td>\n",
       "      <td>1</td>\n",
       "    </tr>\n",
       "    <tr>\n",
       "      <th>2</th>\n",
       "      <td>[**2194-4-16**] 12:04 PM\\n ART DUP EXT LO UNI;...</td>\n",
       "      <td>2</td>\n",
       "    </tr>\n",
       "    <tr>\n",
       "      <th>3</th>\n",
       "      <td>[**2115-5-1**] 12:54 PM\\n RENAL TRANSPLANT U.S...</td>\n",
       "      <td>3</td>\n",
       "    </tr>\n",
       "    <tr>\n",
       "      <th>4</th>\n",
       "      <td>[**2126-5-29**] 12:56 PM\\n CT HEAD W/ &amp; W/O CO...</td>\n",
       "      <td>4</td>\n",
       "    </tr>\n",
       "  </tbody>\n",
       "</table>\n",
       "</div>"
      ],
      "text/plain": [
       "                                                text  index\n",
       "0  [**2198-6-6**] 4:00 PM\\n CHEST (PORTABLE AP); ...      0\n",
       "1  [**2172-3-18**] 4:00 PM\\n CHEST (PA & LAT)    ...      1\n",
       "2  [**2194-4-16**] 12:04 PM\\n ART DUP EXT LO UNI;...      2\n",
       "3  [**2115-5-1**] 12:54 PM\\n RENAL TRANSPLANT U.S...      3\n",
       "4  [**2126-5-29**] 12:56 PM\\n CT HEAD W/ & W/O CO...      4"
      ]
     },
     "execution_count": 6,
     "metadata": {},
     "output_type": "execute_result"
    }
   ],
   "source": [
    "data_text.head()"
   ]
  },
  {
   "cell_type": "code",
   "execution_count": 7,
   "metadata": {
    "collapsed": true
   },
   "outputs": [],
   "source": [
    "documents = data_text"
   ]
  },
  {
   "cell_type": "code",
   "execution_count": 8,
   "metadata": {},
   "outputs": [
    {
     "data": {
      "text/html": [
       "<div>\n",
       "<style scoped>\n",
       "    .dataframe tbody tr th:only-of-type {\n",
       "        vertical-align: middle;\n",
       "    }\n",
       "\n",
       "    .dataframe tbody tr th {\n",
       "        vertical-align: top;\n",
       "    }\n",
       "\n",
       "    .dataframe thead th {\n",
       "        text-align: right;\n",
       "    }\n",
       "</style>\n",
       "<table border=\"1\" class=\"dataframe\">\n",
       "  <thead>\n",
       "    <tr style=\"text-align: right;\">\n",
       "      <th></th>\n",
       "      <th>text</th>\n",
       "      <th>index</th>\n",
       "    </tr>\n",
       "  </thead>\n",
       "  <tbody>\n",
       "    <tr>\n",
       "      <th>0</th>\n",
       "      <td>[**2198-6-6**] 4:00 PM\\n CHEST (PORTABLE AP); ...</td>\n",
       "      <td>0</td>\n",
       "    </tr>\n",
       "    <tr>\n",
       "      <th>1</th>\n",
       "      <td>[**2172-3-18**] 4:00 PM\\n CHEST (PA &amp; LAT)    ...</td>\n",
       "      <td>1</td>\n",
       "    </tr>\n",
       "    <tr>\n",
       "      <th>2</th>\n",
       "      <td>[**2194-4-16**] 12:04 PM\\n ART DUP EXT LO UNI;...</td>\n",
       "      <td>2</td>\n",
       "    </tr>\n",
       "    <tr>\n",
       "      <th>3</th>\n",
       "      <td>[**2115-5-1**] 12:54 PM\\n RENAL TRANSPLANT U.S...</td>\n",
       "      <td>3</td>\n",
       "    </tr>\n",
       "    <tr>\n",
       "      <th>4</th>\n",
       "      <td>[**2126-5-29**] 12:56 PM\\n CT HEAD W/ &amp; W/O CO...</td>\n",
       "      <td>4</td>\n",
       "    </tr>\n",
       "  </tbody>\n",
       "</table>\n",
       "</div>"
      ],
      "text/plain": [
       "                                                text  index\n",
       "0  [**2198-6-6**] 4:00 PM\\n CHEST (PORTABLE AP); ...      0\n",
       "1  [**2172-3-18**] 4:00 PM\\n CHEST (PA & LAT)    ...      1\n",
       "2  [**2194-4-16**] 12:04 PM\\n ART DUP EXT LO UNI;...      2\n",
       "3  [**2115-5-1**] 12:54 PM\\n RENAL TRANSPLANT U.S...      3\n",
       "4  [**2126-5-29**] 12:56 PM\\n CT HEAD W/ & W/O CO...      4"
      ]
     },
     "execution_count": 8,
     "metadata": {},
     "output_type": "execute_result"
    }
   ],
   "source": [
    "documents.head()"
   ]
  },
  {
   "cell_type": "code",
   "execution_count": 9,
   "metadata": {},
   "outputs": [
    {
     "name": "stdout",
     "output_type": "stream",
     "text": [
      "200000\n",
      "                                                text  index\n",
      "0  [**2198-6-6**] 4:00 PM\\n CHEST (PORTABLE AP); ...      0\n",
      "1  [**2172-3-18**] 4:00 PM\\n CHEST (PA & LAT)    ...      1\n",
      "2  [**2194-4-16**] 12:04 PM\\n ART DUP EXT LO UNI;...      2\n",
      "3  [**2115-5-1**] 12:54 PM\\n RENAL TRANSPLANT U.S...      3\n",
      "4  [**2126-5-29**] 12:56 PM\\n CT HEAD W/ & W/O CO...      4\n"
     ]
    }
   ],
   "source": [
    "print(len(documents))\n",
    "print(documents[:5])"
   ]
  },
  {
   "cell_type": "markdown",
   "metadata": {},
   "source": [
    "## Data Preprocessing"
   ]
  },
  {
   "cell_type": "markdown",
   "metadata": {},
   "source": [
    "1. Tokenization: Split the text into sentences and the sentences into words. Lowercase the words and remove punctuation.\n",
    "2. Words that have fewer than 3 characters are removed.\n",
    "3. All stopwords are removed.\n",
    "4. Words are lemmatized — words in third person are changed to first person and verbs in past and future tenses are changed into present.\n",
    "5. Words are stemmed — words are reduced to their root form."
   ]
  },
  {
   "cell_type": "markdown",
   "metadata": {},
   "source": [
    "### Loading gensim and nltk libraries"
   ]
  },
  {
   "cell_type": "code",
   "execution_count": 10,
   "metadata": {},
   "outputs": [
    {
     "name": "stdout",
     "output_type": "stream",
     "text": [
      "[nltk_data] Downloading package wordnet to\n",
      "[nltk_data]     /Users/VincentLa/nltk_data...\n",
      "[nltk_data]   Package wordnet is already up-to-date!\n"
     ]
    }
   ],
   "source": [
    "import gensim\n",
    "from gensim.utils import simple_preprocess\n",
    "from gensim.parsing.preprocessing import STOPWORDS\n",
    "from nltk.stem import WordNetLemmatizer, SnowballStemmer\n",
    "from nltk.stem.porter import *\n",
    "# import nltk.stem as stemmer\n",
    "import numpy as np\n",
    "np.random.seed(2018)\n",
    "import nltk\n",
    "nltk.download('wordnet')\n",
    "\n",
    "stemmer = SnowballStemmer('english')"
   ]
  },
  {
   "cell_type": "code",
   "execution_count": 11,
   "metadata": {
    "collapsed": true
   },
   "outputs": [],
   "source": [
    "def lemmatize_stemming(text):\n",
    "    \"\"\"\n",
    "    Lemmatize: lemmatized — words in third person are changed to first person\n",
    "    \n",
    "    Verbs in past and future tenses are changed into present.\n",
    "    \"\"\"\n",
    "    return stemmer.stem(WordNetLemmatizer().lemmatize(text, pos='v'))"
   ]
  },
  {
   "cell_type": "code",
   "execution_count": 12,
   "metadata": {
    "collapsed": true
   },
   "outputs": [],
   "source": [
    "def preprocess(text):\n",
    "    \"\"\"\n",
    "    Preprocess Text:\n",
    "    \n",
    "    Remove words in \"STOPWORDS\" and remove words 3 letters or less\n",
    "    \"\"\"\n",
    "    result = []\n",
    "    for token in gensim.utils.simple_preprocess(text):\n",
    "        if token not in gensim.parsing.preprocessing.STOPWORDS and len(token) > 3:\n",
    "            result.append(lemmatize_stemming(token))\n",
    "    return result"
   ]
  },
  {
   "cell_type": "code",
   "execution_count": 13,
   "metadata": {},
   "outputs": [
    {
     "name": "stdout",
     "output_type": "stream",
     "text": [
      "original document: \n",
      "['[**2163-9-22**]', '4:41', 'PM\\n', 'CT', 'C-SPINE', 'W/CONTRAST;', 'CT', '100CC', 'NON', 'IONIC', 'CONTRAST', '', '', '', '', '', '', '', '', '', '', '', '', '', 'Clip', '#', '[**Clip', 'Number', '(Radiology)', '56611**]\\n', 'CT', 'RECONSTRUCTION\\n', 'Reason:', '?fluid', 'collection\\n', '', 'Contrast:', 'OPTIRAY', 'Amt:', '100\\n', '______________________________________________________________________________\\n', '[**Hospital', '2**]', 'MEDICAL', 'CONDITION:\\n', '', '52', 'year', 'old', 'man', 'with', 'cervical', 'fx/meningitis', 'now', 'w/AMS\\n', 'REASON', 'FOR', 'THIS', 'EXAMINATION:\\n', '', '?fluid', 'collection\\n', 'No', 'contraindications', 'for', 'IV', 'contrast\\n', '______________________________________________________________________________\\n', '', '', '', '', '', '', '', '', '', '', '', '', '', '', '', '', '', '', '', '', '', '', '', '', '', '', '', '', '', '', '', '', 'FINAL', 'REPORT\\n', 'HISTORY:', '', 'Status', 'post', 'cervical', 'spine', 'fractures', 'and', 'meningitis.', '', 'Evaluate', 'fluid\\n', 'collection.\\n\\n', 'COMPARISON:', '', 'Cervical', 'spine', 'MRI', 'of', '[**2163-9-18**]', 'and', 'cervical', 'spine', 'CT', 'of\\n', '[**2163-9-8**].\\n\\n', 'TECHNIQUE:', '', 'Axial', 'multidetector', 'CT', 'images', 'of', 'the', 'cervical', 'spine', 'were', 'obtained\\n', 'with', '100', 'cc', 'of', 'intravenous', 'Optiray.', '', 'Sagittal', 'and', 'coronal', 'reformatted', 'images\\n', 'were', 'performed.\\n\\n', '[**Year', '(4', 'digits)', '**]:', '', 'There', 'is', 'evidence', 'of', 'laminectomies', 'and', 'anterior', 'fusion', 'at', 'C4\\n', 'through', 'C6.', '', 'Anatomic', 'alignment', 'is', 'present.', '', 'Fracture', 'of', 'T1', 'spinous', 'process', 'is\\n', 'again', 'visualized.', '', 'There', 'is', 'persistent', 'swelling', 'in', 'the', 'prevertebral', 'soft\\n', 'tissues', 'at', 'the', 'level', 'of', 'the', 'fusion,', 'slightly', 'decreased', 'since', '[**9-8**].', '', 'There\\n', 'is', 'no', 'definite', 'fluid', 'collection', 'in', 'this', 'region.', '', 'There', 'is', 'a', 'fluid', 'collection\\n', 'in', 'the', 'posterior', 'paraspinal', 'soft', 'tissues', 'at', 'and', 'below', 'the', 'level', 'of', 'the', 'fusion,\\n', 'as', 'noted', 'on', 'the', '[**9-18**]', 'MRI.', '', 'There', 'is', 'no', 'rim', 'enhancement', 'of', 'the', 'fluid\\n', 'collection', 'to', 'suggest', 'an', 'abscess.', '', 'This', 'collection', 'is', 'likely', 'postsurgical', 'in\\n', 'nature,', 'such', 'as', 'a', 'seroma.', '', 'The', 'patient', 'is', 'intubated.', '', 'A', 'nasogastric', 'tube', 'is', 'in\\n', 'place.', '', 'There', 'is', 'mild', 'opacification', 'of', 'the', 'mastoid', 'air', 'cells', 'bilaterally', 'and\\n', 'moderate', 'mucosal', 'thickening', 'in', 'the', 'maxillary', 'sinuses', 'bilaterally.\\n\\n', 'IMPRESSION:\\n\\n', '1.', '', 'Status', 'post', 'C4', 'through', 'C6', 'anterior', 'fusion', 'and', 'laminectomies,', 'with', 'a', 'fluid\\n', 'collection', 'in', 'the', 'posterior', 'paraspinal', 'soft', 'tissues,', 'which', 'appears\\n', 'nonspecific,', 'but', 'is', 'likely', 'postsurgical.', '', 'No', 'evidence', 'of', 'an', 'abscess.\\n\\n', '2.', '', 'Slight', 'decrease', 'swelling', 'in', 'the', 'prevertebral', 'soft', 'tissues', 'with', 'no', 'definite\\n', 'fluid', 'collection.\\n\\n\\n']\n",
      "\n",
      "\n",
      " tokenized and lemmatized document: \n",
      "['spine', 'contrast', 'ionic', 'contrast', 'clip', 'clip', 'number', 'radiolog', 'reconstruct', 'reason', 'fluid', 'collect', 'contrast', 'optiray', 'hospit', 'medic', 'condit', 'year', 'cervic', 'mening', 'reason', 'examin', 'fluid', 'collect', 'contrast', 'final', 'report', 'histori', 'status', 'post', 'cervic', 'spine', 'fractur', 'mening', 'evalu', 'fluid', 'collect', 'comparison', 'cervic', 'spine', 'cervic', 'spine', 'techniqu', 'axial', 'multidetector', 'imag', 'cervic', 'spine', 'obtain', 'intraven', 'optiray', 'sagitt', 'coron', 'reformat', 'imag', 'perform', 'year', 'digit', 'evid', 'laminectomi', 'anterior', 'fusion', 'anatom', 'align', 'present', 'fractur', 'spinous', 'process', 'visual', 'persist', 'swell', 'prevertebr', 'soft', 'tissu', 'level', 'fusion', 'slight', 'decreas', 'definit', 'fluid', 'collect', 'region', 'fluid', 'collect', 'posterior', 'paraspin', 'soft', 'tissu', 'level', 'fusion', 'note', 'enhanc', 'fluid', 'collect', 'suggest', 'abscess', 'collect', 'like', 'postsurg', 'natur', 'seroma', 'patient', 'intub', 'nasogastr', 'tube', 'place', 'mild', 'opacif', 'mastoid', 'cell', 'bilater', 'moder', 'mucos', 'thicken', 'maxillari', 'sinus', 'bilater', 'impress', 'status', 'post', 'anterior', 'fusion', 'laminectomi', 'fluid', 'collect', 'posterior', 'paraspin', 'soft', 'tissu', 'appear', 'nonspecif', 'like', 'postsurg', 'evid', 'abscess', 'slight', 'decreas', 'swell', 'prevertebr', 'soft', 'tissu', 'definit', 'fluid', 'collect']\n"
     ]
    }
   ],
   "source": [
    "doc_sample = documents[documents['index'] == 4310].values[0][0]\n",
    "print('original document: ')\n",
    "\n",
    "words = []\n",
    "for word in doc_sample.split(' '):\n",
    "    words.append(word)\n",
    "print(words)\n",
    "print('\\n\\n tokenized and lemmatized document: ')\n",
    "print(preprocess(doc_sample))"
   ]
  },
  {
   "cell_type": "code",
   "execution_count": null,
   "metadata": {},
   "outputs": [],
   "source": [
    "processed_docs = documents['text'].map(preprocess)\n",
    "processed_docs[:10]"
   ]
  },
  {
   "cell_type": "markdown",
   "metadata": {},
   "source": [
    "## Bag of Words on the Data set\n",
    "Create a dictionary from ‘processed_docs’ containing the number of times a word appears in the training set."
   ]
  },
  {
   "cell_type": "code",
   "execution_count": null,
   "metadata": {
    "collapsed": true
   },
   "outputs": [],
   "source": [
    "dictionary = gensim.corpora.Dictionary(processed_docs)\n",
    "count = 0\n",
    "for k, v in dictionary.iteritems():\n",
    "    print(k, v)\n",
    "    count += 1\n",
    "    if count > 10:\n",
    "        break"
   ]
  },
  {
   "cell_type": "markdown",
   "metadata": {},
   "source": [
    "### Gensim filter_extremes\n",
    "Filter out tokens that appear in\n",
    "\n",
    "1. less than 15 documents (absolute number) or\n",
    "2. more than 0.5 documents (fraction of total corpus size, not absolute number).\n",
    "3. after the above two steps, keep only the first 100000 most frequent tokens."
   ]
  },
  {
   "cell_type": "code",
   "execution_count": null,
   "metadata": {
    "collapsed": true
   },
   "outputs": [],
   "source": [
    "dictionary.filter_extremes(no_below=15, no_above=0.5, keep_n=100000)"
   ]
  },
  {
   "cell_type": "markdown",
   "metadata": {},
   "source": [
    "## Gensim doc2bow (Bag of Words)\n",
    "For each document we create a dictionary reporting how many\n",
    "words and how many times those words appear. Save this to ‘bow_corpus’, then check our selected document earlier."
   ]
  },
  {
   "cell_type": "code",
   "execution_count": null,
   "metadata": {
    "collapsed": true
   },
   "outputs": [],
   "source": [
    "bow_corpus = [dictionary.doc2bow(doc) for doc in processed_docs]\n",
    "bow_corpus[4310]"
   ]
  },
  {
   "cell_type": "code",
   "execution_count": null,
   "metadata": {
    "collapsed": true
   },
   "outputs": [],
   "source": [
    "bow_doc_4310 = bow_corpus[4310]\n",
    "for i in range(len(bow_doc_4310)):\n",
    "    print(\"Word {} (\\\"{}\\\") appears {} time.\".format(bow_doc_4310[i][0], \n",
    "                                               dictionary[bow_doc_4310[i][0]], \n",
    "bow_doc_4310[i][1]))"
   ]
  },
  {
   "cell_type": "markdown",
   "metadata": {},
   "source": [
    "## TF IDF \n",
    "Create tf-idf model object using models.TfidfModel on ‘bow_corpus’ and save it to ‘tfidf’, then apply transformation to the entire corpus and call it ‘corpus_tfidf’. Finally we preview TF-IDF scores for our first document."
   ]
  },
  {
   "cell_type": "code",
   "execution_count": null,
   "metadata": {
    "collapsed": true
   },
   "outputs": [],
   "source": [
    "from gensim import corpora, models\n",
    "tfidf = models.TfidfModel(bow_corpus)\n",
    "corpus_tfidf = tfidf[bow_corpus]\n",
    "from pprint import pprint\n",
    "for doc in corpus_tfidf:\n",
    "    pprint(doc)\n",
    "    break"
   ]
  },
  {
   "cell_type": "markdown",
   "metadata": {},
   "source": [
    "## Running LDA using Bag of Words\n",
    "Train our lda model using gensim.models.LdaMulticore and save it to ‘lda_model’"
   ]
  },
  {
   "cell_type": "code",
   "execution_count": null,
   "metadata": {
    "collapsed": true
   },
   "outputs": [],
   "source": [
    "lda_model = gensim.models.LdaMulticore(bow_corpus,\n",
    "                                       num_topics=10,\n",
    "                                       id2word=dictionary,\n",
    "                                       passes=2,\n",
    "                                       workers=2)"
   ]
  },
  {
   "cell_type": "code",
   "execution_count": null,
   "metadata": {
    "collapsed": true
   },
   "outputs": [],
   "source": [
    "type(lda_model)"
   ]
  },
  {
   "cell_type": "markdown",
   "metadata": {},
   "source": [
    "For each topic, we will explore the words occuring in that topic and its relative weight."
   ]
  },
  {
   "cell_type": "code",
   "execution_count": null,
   "metadata": {
    "collapsed": true
   },
   "outputs": [],
   "source": [
    "for idx, topic in lda_model.print_topics(-1):\n",
    "    print('Topic: {} \\nWords: {}'.format(idx, topic))"
   ]
  },
  {
   "cell_type": "markdown",
   "metadata": {},
   "source": [
    "## Running LDA using TF-IDF\n"
   ]
  },
  {
   "cell_type": "code",
   "execution_count": null,
   "metadata": {
    "collapsed": true
   },
   "outputs": [],
   "source": [
    "lda_model_tfidf = gensim.models.LdaMulticore(corpus_tfidf, num_topics=10, id2word=dictionary, passes=2, workers=4)\n",
    "for idx, topic in lda_model_tfidf.print_topics(-1):\n",
    "    print('Topic: {} Word: {}'.format(idx, topic))"
   ]
  },
  {
   "cell_type": "markdown",
   "metadata": {},
   "source": [
    "## Performance evaluation by classifying sample document using LDA Bag of Words model"
   ]
  },
  {
   "cell_type": "code",
   "execution_count": null,
   "metadata": {
    "collapsed": true
   },
   "outputs": [],
   "source": [
    "processed_docs[4310]"
   ]
  },
  {
   "cell_type": "code",
   "execution_count": null,
   "metadata": {
    "collapsed": true
   },
   "outputs": [],
   "source": [
    "for index, score in sorted(lda_model[bow_corpus[4310]], key=lambda tup: -1*tup[1]):\n",
    "    print(\"\\nScore: {}\\t \\nTopic: {}\".format(score, lda_model.print_topic(index, 10)))"
   ]
  },
  {
   "cell_type": "markdown",
   "metadata": {},
   "source": [
    "## Performance evaluation by classifying sample document using LDA TF-IDF model."
   ]
  },
  {
   "cell_type": "code",
   "execution_count": null,
   "metadata": {
    "collapsed": true
   },
   "outputs": [],
   "source": [
    "for index, score in sorted(lda_model_tfidf[bow_corpus[4310]], key=lambda tup: -1*tup[1]):\n",
    "    print(\"\\nScore: {}\\t \\nTopic: {}\".format(score, lda_model_tfidf.print_topic(index, 10)))"
   ]
  },
  {
   "cell_type": "markdown",
   "metadata": {},
   "source": [
    "## Testing model on unseen document\n"
   ]
  },
  {
   "cell_type": "code",
   "execution_count": null,
   "metadata": {
    "collapsed": true
   },
   "outputs": [],
   "source": [
    "unseen_document = \"\"\"\n",
    "Admission Date:  [**2151-7-16**]       Discharge Date:  [**2151-8-4**]\n",
    "\n",
    "\n",
    "Service:\n",
    "ADDENDUM:\n",
    "\n",
    "RADIOLOGIC STUDIES:  Radiologic studies also included a chest\n",
    "CT, which confirmed cavitary lesions in the left lung apex\n",
    "consistent with infectious process/tuberculosis.  This also\n",
    "moderate-sized left pleural effusion.\n",
    "\n",
    "HEAD CT:  Head CT showed no intracranial hemorrhage or mass\n",
    "effect, but old infarction consistent with past medical\n",
    "history.\n",
    "\n",
    "ABDOMINAL CT:  Abdominal CT showed lesions of\n",
    "T10 and sacrum most likely secondary to osteoporosis. These can\n",
    "be followed by repeat imaging as an outpatient.\n",
    "\n",
    "\n",
    "\n",
    "                            [**First Name8 (NamePattern2) **] [**First Name4 (NamePattern1) 1775**] [**Last Name (NamePattern1) **], M.D.  [**MD Number(1) 1776**]\n",
    "\n",
    "Dictated By:[**Hospital 1807**]\n",
    "MEDQUIST36\n",
    "\n",
    "D:  [**2151-8-5**]  12:11\n",
    "T:  [**2151-8-5**]  12:21\n",
    "JOB#:  [**Job Number 1808**]\n",
    "\n",
    "\"\"\"\n",
    "bow_vector = dictionary.doc2bow(preprocess(unseen_document))\n",
    "for index, score in sorted(lda_model[bow_vector], key=lambda tup: -1*tup[1]):\n",
    "    print(\"Score: {}\\t Topic: {}\".format(score, lda_model.print_topic(index, 5)))"
   ]
  },
  {
   "cell_type": "code",
   "execution_count": null,
   "metadata": {
    "collapsed": true
   },
   "outputs": [],
   "source": []
  }
 ],
 "metadata": {
  "kernelspec": {
   "display_name": "Python (cse6250-project)",
   "language": "python",
   "name": "cse6250-project"
  },
  "language_info": {
   "codemirror_mode": {
    "name": "ipython",
    "version": 3
   },
   "file_extension": ".py",
   "mimetype": "text/x-python",
   "name": "python",
   "nbconvert_exporter": "python",
   "pygments_lexer": "ipython3",
   "version": "3.6.5"
  }
 },
 "nbformat": 4,
 "nbformat_minor": 2
}
