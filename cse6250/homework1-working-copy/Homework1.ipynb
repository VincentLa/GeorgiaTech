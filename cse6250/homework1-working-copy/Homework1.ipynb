{
 "cells": [
  {
   "cell_type": "code",
   "execution_count": 1,
   "metadata": {
    "collapsed": true
   },
   "outputs": [],
   "source": [
    "import pandas as pd\n",
    "import numpy as np"
   ]
  },
  {
   "cell_type": "markdown",
   "metadata": {},
   "source": [
    "## Reading in Data"
   ]
  },
  {
   "cell_type": "code",
   "execution_count": 2,
   "metadata": {
    "collapsed": true
   },
   "outputs": [],
   "source": [
    "event_feature_map = pd.read_csv('~/git/GeorgiaTech/cse6250/903178639-vla6-hw1/data/train/event_feature_map.csv')\n",
    "events = pd.read_csv('~/git/GeorgiaTech/cse6250/903178639-vla6-hw1/data/train/events.csv')\n",
    "mortality = pd.read_csv('~/git/GeorgiaTech/cse6250/903178639-vla6-hw1/data/train/mortality_events.csv')"
   ]
  },
  {
   "cell_type": "markdown",
   "metadata": {},
   "source": [
    "## Exploring Data"
   ]
  },
  {
   "cell_type": "code",
   "execution_count": 3,
   "metadata": {},
   "outputs": [
    {
     "data": {
      "text/html": [
       "<div>\n",
       "<style scoped>\n",
       "    .dataframe tbody tr th:only-of-type {\n",
       "        vertical-align: middle;\n",
       "    }\n",
       "\n",
       "    .dataframe tbody tr th {\n",
       "        vertical-align: top;\n",
       "    }\n",
       "\n",
       "    .dataframe thead th {\n",
       "        text-align: right;\n",
       "    }\n",
       "</style>\n",
       "<table border=\"1\" class=\"dataframe\">\n",
       "  <thead>\n",
       "    <tr style=\"text-align: right;\">\n",
       "      <th></th>\n",
       "      <th>patient_id</th>\n",
       "      <th>event_id</th>\n",
       "      <th>event_description</th>\n",
       "      <th>timestamp</th>\n",
       "      <th>value</th>\n",
       "    </tr>\n",
       "  </thead>\n",
       "  <tbody>\n",
       "    <tr>\n",
       "      <th>0</th>\n",
       "      <td>12</td>\n",
       "      <td>DIAG440649</td>\n",
       "      <td>Primary malignant neoplasm of head of pancreas</td>\n",
       "      <td>2011-12-06</td>\n",
       "      <td>1.0</td>\n",
       "    </tr>\n",
       "    <tr>\n",
       "      <th>1</th>\n",
       "      <td>12</td>\n",
       "      <td>DIAG201070</td>\n",
       "      <td>Cholelithiasis AND cholecystitis without obstr...</td>\n",
       "      <td>2011-12-06</td>\n",
       "      <td>1.0</td>\n",
       "    </tr>\n",
       "    <tr>\n",
       "      <th>2</th>\n",
       "      <td>12</td>\n",
       "      <td>DIAG321462</td>\n",
       "      <td>Cardiac complication</td>\n",
       "      <td>2011-12-06</td>\n",
       "      <td>1.0</td>\n",
       "    </tr>\n",
       "    <tr>\n",
       "      <th>3</th>\n",
       "      <td>12</td>\n",
       "      <td>DIAG321042</td>\n",
       "      <td>Cardiac arrest</td>\n",
       "      <td>2011-12-06</td>\n",
       "      <td>1.0</td>\n",
       "    </tr>\n",
       "    <tr>\n",
       "      <th>4</th>\n",
       "      <td>12</td>\n",
       "      <td>DIAG435141</td>\n",
       "      <td>Hemorrhage AND/OR hematoma complicating procedure</td>\n",
       "      <td>2011-12-06</td>\n",
       "      <td>1.0</td>\n",
       "    </tr>\n",
       "  </tbody>\n",
       "</table>\n",
       "</div>"
      ],
      "text/plain": [
       "   patient_id    event_id                                  event_description  \\\n",
       "0          12  DIAG440649     Primary malignant neoplasm of head of pancreas   \n",
       "1          12  DIAG201070  Cholelithiasis AND cholecystitis without obstr...   \n",
       "2          12  DIAG321462                               Cardiac complication   \n",
       "3          12  DIAG321042                                     Cardiac arrest   \n",
       "4          12  DIAG435141  Hemorrhage AND/OR hematoma complicating procedure   \n",
       "\n",
       "    timestamp  value  \n",
       "0  2011-12-06    1.0  \n",
       "1  2011-12-06    1.0  \n",
       "2  2011-12-06    1.0  \n",
       "3  2011-12-06    1.0  \n",
       "4  2011-12-06    1.0  "
      ]
     },
     "execution_count": 3,
     "metadata": {},
     "output_type": "execute_result"
    }
   ],
   "source": [
    "events.head()"
   ]
  },
  {
   "cell_type": "code",
   "execution_count": 4,
   "metadata": {},
   "outputs": [
    {
     "data": {
      "text/plain": [
       "(740066, 5)"
      ]
     },
     "execution_count": 4,
     "metadata": {},
     "output_type": "execute_result"
    }
   ],
   "source": [
    "events.shape"
   ]
  },
  {
   "cell_type": "code",
   "execution_count": 5,
   "metadata": {},
   "outputs": [
    {
     "data": {
      "text/html": [
       "<div>\n",
       "<style scoped>\n",
       "    .dataframe tbody tr th:only-of-type {\n",
       "        vertical-align: middle;\n",
       "    }\n",
       "\n",
       "    .dataframe tbody tr th {\n",
       "        vertical-align: top;\n",
       "    }\n",
       "\n",
       "    .dataframe thead th {\n",
       "        text-align: right;\n",
       "    }\n",
       "</style>\n",
       "<table border=\"1\" class=\"dataframe\">\n",
       "  <thead>\n",
       "    <tr style=\"text-align: right;\">\n",
       "      <th></th>\n",
       "      <th>idx</th>\n",
       "      <th>event_id</th>\n",
       "    </tr>\n",
       "  </thead>\n",
       "  <tbody>\n",
       "    <tr>\n",
       "      <th>0</th>\n",
       "      <td>1</td>\n",
       "      <td>DIAG132397</td>\n",
       "    </tr>\n",
       "    <tr>\n",
       "      <th>1</th>\n",
       "      <td>2</td>\n",
       "      <td>DIAG132408</td>\n",
       "    </tr>\n",
       "    <tr>\n",
       "      <th>2</th>\n",
       "      <td>3</td>\n",
       "      <td>DIAG132446</td>\n",
       "    </tr>\n",
       "    <tr>\n",
       "      <th>3</th>\n",
       "      <td>4</td>\n",
       "      <td>DIAG132583</td>\n",
       "    </tr>\n",
       "    <tr>\n",
       "      <th>4</th>\n",
       "      <td>5</td>\n",
       "      <td>DIAG132643</td>\n",
       "    </tr>\n",
       "  </tbody>\n",
       "</table>\n",
       "</div>"
      ],
      "text/plain": [
       "   idx    event_id\n",
       "0    1  DIAG132397\n",
       "1    2  DIAG132408\n",
       "2    3  DIAG132446\n",
       "3    4  DIAG132583\n",
       "4    5  DIAG132643"
      ]
     },
     "execution_count": 5,
     "metadata": {},
     "output_type": "execute_result"
    }
   ],
   "source": [
    "event_feature_map.head()"
   ]
  },
  {
   "cell_type": "code",
   "execution_count": 6,
   "metadata": {},
   "outputs": [
    {
     "data": {
      "text/html": [
       "<div>\n",
       "<style scoped>\n",
       "    .dataframe tbody tr th:only-of-type {\n",
       "        vertical-align: middle;\n",
       "    }\n",
       "\n",
       "    .dataframe tbody tr th {\n",
       "        vertical-align: top;\n",
       "    }\n",
       "\n",
       "    .dataframe thead th {\n",
       "        text-align: right;\n",
       "    }\n",
       "</style>\n",
       "<table border=\"1\" class=\"dataframe\">\n",
       "  <thead>\n",
       "    <tr style=\"text-align: right;\">\n",
       "      <th></th>\n",
       "      <th>patient_id</th>\n",
       "      <th>timestamp</th>\n",
       "      <th>label</th>\n",
       "    </tr>\n",
       "  </thead>\n",
       "  <tbody>\n",
       "    <tr>\n",
       "      <th>0</th>\n",
       "      <td>19</td>\n",
       "      <td>2014-03-04</td>\n",
       "      <td>1</td>\n",
       "    </tr>\n",
       "    <tr>\n",
       "      <th>1</th>\n",
       "      <td>12</td>\n",
       "      <td>2011-12-19</td>\n",
       "      <td>1</td>\n",
       "    </tr>\n",
       "    <tr>\n",
       "      <th>2</th>\n",
       "      <td>41</td>\n",
       "      <td>2014-02-15</td>\n",
       "      <td>1</td>\n",
       "    </tr>\n",
       "    <tr>\n",
       "      <th>3</th>\n",
       "      <td>106</td>\n",
       "      <td>2015-08-11</td>\n",
       "      <td>1</td>\n",
       "    </tr>\n",
       "    <tr>\n",
       "      <th>4</th>\n",
       "      <td>112</td>\n",
       "      <td>2011-04-23</td>\n",
       "      <td>1</td>\n",
       "    </tr>\n",
       "  </tbody>\n",
       "</table>\n",
       "</div>"
      ],
      "text/plain": [
       "   patient_id   timestamp  label\n",
       "0          19  2014-03-04      1\n",
       "1          12  2011-12-19      1\n",
       "2          41  2014-02-15      1\n",
       "3         106  2015-08-11      1\n",
       "4         112  2011-04-23      1"
      ]
     },
     "execution_count": 6,
     "metadata": {},
     "output_type": "execute_result"
    }
   ],
   "source": [
    "mortality.head()"
   ]
  },
  {
   "cell_type": "code",
   "execution_count": 7,
   "metadata": {},
   "outputs": [
    {
     "data": {
      "text/plain": [
       "(500, 3)"
      ]
     },
     "execution_count": 7,
     "metadata": {},
     "output_type": "execute_result"
    }
   ],
   "source": [
    "mortality.shape"
   ]
  },
  {
   "cell_type": "code",
   "execution_count": 8,
   "metadata": {},
   "outputs": [
    {
     "data": {
      "text/plain": [
       "1    500\n",
       "Name: label, dtype: int64"
      ]
     },
     "execution_count": 8,
     "metadata": {},
     "output_type": "execute_result"
    }
   ],
   "source": [
    "mortality.label.value_counts()"
   ]
  },
  {
   "cell_type": "code",
   "execution_count": 9,
   "metadata": {},
   "outputs": [
    {
     "data": {
      "text/plain": [
       "1    3188\n",
       "Name: idx, dtype: int64"
      ]
     },
     "execution_count": 9,
     "metadata": {},
     "output_type": "execute_result"
    }
   ],
   "source": [
    "event_feature_map.idx.value_counts().value_counts()"
   ]
  },
  {
   "cell_type": "markdown",
   "metadata": {},
   "source": [
    "## Descriptive Stats"
   ]
  },
  {
   "cell_type": "code",
   "execution_count": 10,
   "metadata": {
    "collapsed": true
   },
   "outputs": [],
   "source": [
    "df = events.merge(mortality[['patient_id', 'label']], how='left', on='patient_id')\n",
    "df.rename(index=str, columns={'label': 'is_deceased'}, inplace=True)\n",
    "df.is_deceased.fillna(0, inplace=True)\n",
    "df.is_deceased = df.is_deceased.astype(bool)"
   ]
  },
  {
   "cell_type": "code",
   "execution_count": 11,
   "metadata": {},
   "outputs": [
    {
     "data": {
      "text/html": [
       "<div>\n",
       "<style scoped>\n",
       "    .dataframe tbody tr th:only-of-type {\n",
       "        vertical-align: middle;\n",
       "    }\n",
       "\n",
       "    .dataframe tbody tr th {\n",
       "        vertical-align: top;\n",
       "    }\n",
       "\n",
       "    .dataframe thead th {\n",
       "        text-align: right;\n",
       "    }\n",
       "</style>\n",
       "<table border=\"1\" class=\"dataframe\">\n",
       "  <thead>\n",
       "    <tr style=\"text-align: right;\">\n",
       "      <th></th>\n",
       "      <th>patient_id</th>\n",
       "      <th>event_id</th>\n",
       "      <th>event_description</th>\n",
       "      <th>timestamp</th>\n",
       "      <th>value</th>\n",
       "      <th>is_deceased</th>\n",
       "    </tr>\n",
       "  </thead>\n",
       "  <tbody>\n",
       "    <tr>\n",
       "      <th>0</th>\n",
       "      <td>12</td>\n",
       "      <td>DIAG440649</td>\n",
       "      <td>Primary malignant neoplasm of head of pancreas</td>\n",
       "      <td>2011-12-06</td>\n",
       "      <td>1.0</td>\n",
       "      <td>True</td>\n",
       "    </tr>\n",
       "    <tr>\n",
       "      <th>1</th>\n",
       "      <td>12</td>\n",
       "      <td>DIAG201070</td>\n",
       "      <td>Cholelithiasis AND cholecystitis without obstr...</td>\n",
       "      <td>2011-12-06</td>\n",
       "      <td>1.0</td>\n",
       "      <td>True</td>\n",
       "    </tr>\n",
       "    <tr>\n",
       "      <th>2</th>\n",
       "      <td>12</td>\n",
       "      <td>DIAG321462</td>\n",
       "      <td>Cardiac complication</td>\n",
       "      <td>2011-12-06</td>\n",
       "      <td>1.0</td>\n",
       "      <td>True</td>\n",
       "    </tr>\n",
       "    <tr>\n",
       "      <th>3</th>\n",
       "      <td>12</td>\n",
       "      <td>DIAG321042</td>\n",
       "      <td>Cardiac arrest</td>\n",
       "      <td>2011-12-06</td>\n",
       "      <td>1.0</td>\n",
       "      <td>True</td>\n",
       "    </tr>\n",
       "    <tr>\n",
       "      <th>4</th>\n",
       "      <td>12</td>\n",
       "      <td>DIAG435141</td>\n",
       "      <td>Hemorrhage AND/OR hematoma complicating procedure</td>\n",
       "      <td>2011-12-06</td>\n",
       "      <td>1.0</td>\n",
       "      <td>True</td>\n",
       "    </tr>\n",
       "  </tbody>\n",
       "</table>\n",
       "</div>"
      ],
      "text/plain": [
       "   patient_id    event_id                                  event_description  \\\n",
       "0          12  DIAG440649     Primary malignant neoplasm of head of pancreas   \n",
       "1          12  DIAG201070  Cholelithiasis AND cholecystitis without obstr...   \n",
       "2          12  DIAG321462                               Cardiac complication   \n",
       "3          12  DIAG321042                                     Cardiac arrest   \n",
       "4          12  DIAG435141  Hemorrhage AND/OR hematoma complicating procedure   \n",
       "\n",
       "    timestamp  value  is_deceased  \n",
       "0  2011-12-06    1.0         True  \n",
       "1  2011-12-06    1.0         True  \n",
       "2  2011-12-06    1.0         True  \n",
       "3  2011-12-06    1.0         True  \n",
       "4  2011-12-06    1.0         True  "
      ]
     },
     "execution_count": 11,
     "metadata": {},
     "output_type": "execute_result"
    }
   ],
   "source": [
    "df.head()"
   ]
  },
  {
   "cell_type": "code",
   "execution_count": 12,
   "metadata": {},
   "outputs": [
    {
     "data": {
      "text/plain": [
       "True     491007\n",
       "False    249059\n",
       "Name: is_deceased, dtype: int64"
      ]
     },
     "execution_count": 12,
     "metadata": {},
     "output_type": "execute_result"
    }
   ],
   "source": [
    "df.is_deceased.value_counts()"
   ]
  },
  {
   "cell_type": "code",
   "execution_count": 13,
   "metadata": {},
   "outputs": [
    {
     "data": {
      "text/html": [
       "<div>\n",
       "<style scoped>\n",
       "    .dataframe tbody tr th:only-of-type {\n",
       "        vertical-align: middle;\n",
       "    }\n",
       "\n",
       "    .dataframe tbody tr th {\n",
       "        vertical-align: top;\n",
       "    }\n",
       "\n",
       "    .dataframe thead th {\n",
       "        text-align: right;\n",
       "    }\n",
       "</style>\n",
       "<table border=\"1\" class=\"dataframe\">\n",
       "  <thead>\n",
       "    <tr style=\"text-align: right;\">\n",
       "      <th></th>\n",
       "      <th>patient_id</th>\n",
       "      <th>event_id</th>\n",
       "      <th>event_description</th>\n",
       "      <th>timestamp</th>\n",
       "      <th>value</th>\n",
       "      <th>is_deceased</th>\n",
       "    </tr>\n",
       "  </thead>\n",
       "  <tbody>\n",
       "    <tr>\n",
       "      <th>0</th>\n",
       "      <td>12</td>\n",
       "      <td>DIAG440649</td>\n",
       "      <td>Primary malignant neoplasm of head of pancreas</td>\n",
       "      <td>2011-12-06</td>\n",
       "      <td>1.0</td>\n",
       "      <td>True</td>\n",
       "    </tr>\n",
       "    <tr>\n",
       "      <th>1</th>\n",
       "      <td>12</td>\n",
       "      <td>DIAG201070</td>\n",
       "      <td>Cholelithiasis AND cholecystitis without obstr...</td>\n",
       "      <td>2011-12-06</td>\n",
       "      <td>1.0</td>\n",
       "      <td>True</td>\n",
       "    </tr>\n",
       "    <tr>\n",
       "      <th>2</th>\n",
       "      <td>12</td>\n",
       "      <td>DIAG321462</td>\n",
       "      <td>Cardiac complication</td>\n",
       "      <td>2011-12-06</td>\n",
       "      <td>1.0</td>\n",
       "      <td>True</td>\n",
       "    </tr>\n",
       "    <tr>\n",
       "      <th>3</th>\n",
       "      <td>12</td>\n",
       "      <td>DIAG321042</td>\n",
       "      <td>Cardiac arrest</td>\n",
       "      <td>2011-12-06</td>\n",
       "      <td>1.0</td>\n",
       "      <td>True</td>\n",
       "    </tr>\n",
       "    <tr>\n",
       "      <th>4</th>\n",
       "      <td>12</td>\n",
       "      <td>DIAG435141</td>\n",
       "      <td>Hemorrhage AND/OR hematoma complicating procedure</td>\n",
       "      <td>2011-12-06</td>\n",
       "      <td>1.0</td>\n",
       "      <td>True</td>\n",
       "    </tr>\n",
       "  </tbody>\n",
       "</table>\n",
       "</div>"
      ],
      "text/plain": [
       "   patient_id    event_id                                  event_description  \\\n",
       "0          12  DIAG440649     Primary malignant neoplasm of head of pancreas   \n",
       "1          12  DIAG201070  Cholelithiasis AND cholecystitis without obstr...   \n",
       "2          12  DIAG321462                               Cardiac complication   \n",
       "3          12  DIAG321042                                     Cardiac arrest   \n",
       "4          12  DIAG435141  Hemorrhage AND/OR hematoma complicating procedure   \n",
       "\n",
       "    timestamp  value  is_deceased  \n",
       "0  2011-12-06    1.0         True  \n",
       "1  2011-12-06    1.0         True  \n",
       "2  2011-12-06    1.0         True  \n",
       "3  2011-12-06    1.0         True  \n",
       "4  2011-12-06    1.0         True  "
      ]
     },
     "execution_count": 13,
     "metadata": {},
     "output_type": "execute_result"
    }
   ],
   "source": [
    "df.head()"
   ]
  },
  {
   "cell_type": "markdown",
   "metadata": {},
   "source": [
    "### Event Counts by Deceased vs Alive Patients"
   ]
  },
  {
   "cell_type": "code",
   "execution_count": 14,
   "metadata": {
    "collapsed": true
   },
   "outputs": [],
   "source": [
    "event_counts = df.groupby(['patient_id', 'is_deceased']).size().reset_index(name='number_events')"
   ]
  },
  {
   "cell_type": "code",
   "execution_count": 15,
   "metadata": {},
   "outputs": [
    {
     "data": {
      "text/html": [
       "<div>\n",
       "<style scoped>\n",
       "    .dataframe tbody tr th:only-of-type {\n",
       "        vertical-align: middle;\n",
       "    }\n",
       "\n",
       "    .dataframe tbody tr th {\n",
       "        vertical-align: top;\n",
       "    }\n",
       "\n",
       "    .dataframe thead th {\n",
       "        text-align: right;\n",
       "    }\n",
       "</style>\n",
       "<table border=\"1\" class=\"dataframe\">\n",
       "  <thead>\n",
       "    <tr style=\"text-align: right;\">\n",
       "      <th></th>\n",
       "      <th>patient_id</th>\n",
       "      <th>is_deceased</th>\n",
       "      <th>number_events</th>\n",
       "    </tr>\n",
       "  </thead>\n",
       "  <tbody>\n",
       "    <tr>\n",
       "      <th>0</th>\n",
       "      <td>12</td>\n",
       "      <td>True</td>\n",
       "      <td>868</td>\n",
       "    </tr>\n",
       "    <tr>\n",
       "      <th>1</th>\n",
       "      <td>19</td>\n",
       "      <td>True</td>\n",
       "      <td>177</td>\n",
       "    </tr>\n",
       "    <tr>\n",
       "      <th>2</th>\n",
       "      <td>41</td>\n",
       "      <td>True</td>\n",
       "      <td>1092</td>\n",
       "    </tr>\n",
       "    <tr>\n",
       "      <th>3</th>\n",
       "      <td>80</td>\n",
       "      <td>False</td>\n",
       "      <td>185</td>\n",
       "    </tr>\n",
       "    <tr>\n",
       "      <th>4</th>\n",
       "      <td>99</td>\n",
       "      <td>False</td>\n",
       "      <td>238</td>\n",
       "    </tr>\n",
       "  </tbody>\n",
       "</table>\n",
       "</div>"
      ],
      "text/plain": [
       "   patient_id  is_deceased  number_events\n",
       "0          12         True            868\n",
       "1          19         True            177\n",
       "2          41         True           1092\n",
       "3          80        False            185\n",
       "4          99        False            238"
      ]
     },
     "execution_count": 15,
     "metadata": {},
     "output_type": "execute_result"
    }
   ],
   "source": [
    "event_counts.head()"
   ]
  },
  {
   "cell_type": "markdown",
   "metadata": {},
   "source": [
    "**Answer: Event Counts by Deceased Status**"
   ]
  },
  {
   "cell_type": "code",
   "execution_count": 16,
   "metadata": {
    "collapsed": true
   },
   "outputs": [],
   "source": [
    "event_counts_results = event_counts.groupby(['is_deceased']).agg(['mean', 'min', 'max'])['number_events']"
   ]
  },
  {
   "cell_type": "code",
   "execution_count": 17,
   "metadata": {},
   "outputs": [
    {
     "data": {
      "text/html": [
       "<div>\n",
       "<style scoped>\n",
       "    .dataframe tbody tr th:only-of-type {\n",
       "        vertical-align: middle;\n",
       "    }\n",
       "\n",
       "    .dataframe tbody tr th {\n",
       "        vertical-align: top;\n",
       "    }\n",
       "\n",
       "    .dataframe thead th {\n",
       "        text-align: right;\n",
       "    }\n",
       "</style>\n",
       "<table border=\"1\" class=\"dataframe\">\n",
       "  <thead>\n",
       "    <tr style=\"text-align: right;\">\n",
       "      <th></th>\n",
       "      <th>mean</th>\n",
       "      <th>min</th>\n",
       "      <th>max</th>\n",
       "    </tr>\n",
       "    <tr>\n",
       "      <th>is_deceased</th>\n",
       "      <th></th>\n",
       "      <th></th>\n",
       "      <th></th>\n",
       "    </tr>\n",
       "  </thead>\n",
       "  <tbody>\n",
       "    <tr>\n",
       "      <th>False</th>\n",
       "      <td>498.118</td>\n",
       "      <td>1</td>\n",
       "      <td>12627</td>\n",
       "    </tr>\n",
       "    <tr>\n",
       "      <th>True</th>\n",
       "      <td>982.014</td>\n",
       "      <td>1</td>\n",
       "      <td>8635</td>\n",
       "    </tr>\n",
       "  </tbody>\n",
       "</table>\n",
       "</div>"
      ],
      "text/plain": [
       "                mean  min    max\n",
       "is_deceased                     \n",
       "False        498.118    1  12627\n",
       "True         982.014    1   8635"
      ]
     },
     "execution_count": 17,
     "metadata": {},
     "output_type": "execute_result"
    }
   ],
   "source": [
    "event_counts_results"
   ]
  },
  {
   "cell_type": "code",
   "execution_count": 18,
   "metadata": {
    "collapsed": true
   },
   "outputs": [],
   "source": [
    "avg_dead_event_count = event_counts_results.loc[True]['mean']\n",
    "max_dead_event_count = event_counts_results.loc[True]['max']\n",
    "min_dead_event_count = event_counts_results.loc[True]['min']\n",
    "avg_alive_event_count = event_counts_results.loc[False]['mean']\n",
    "max_alive_event_count = event_counts_results.loc[False]['max']\n",
    "min_alive_event_count = event_counts_results.loc[False]['min']"
   ]
  },
  {
   "cell_type": "code",
   "execution_count": 19,
   "metadata": {},
   "outputs": [
    {
     "data": {
      "text/plain": [
       "(982.014, 8635.0, 1.0, 498.118, 12627.0, 1.0)"
      ]
     },
     "execution_count": 19,
     "metadata": {},
     "output_type": "execute_result"
    }
   ],
   "source": [
    "avg_dead_event_count, max_dead_event_count, min_dead_event_count, avg_alive_event_count, max_alive_event_count, min_alive_event_count"
   ]
  },
  {
   "cell_type": "markdown",
   "metadata": {},
   "source": [
    "### Encounters by Deceased vs Alive Patients"
   ]
  },
  {
   "cell_type": "code",
   "execution_count": 20,
   "metadata": {},
   "outputs": [
    {
     "data": {
      "text/html": [
       "<div>\n",
       "<style scoped>\n",
       "    .dataframe tbody tr th:only-of-type {\n",
       "        vertical-align: middle;\n",
       "    }\n",
       "\n",
       "    .dataframe tbody tr th {\n",
       "        vertical-align: top;\n",
       "    }\n",
       "\n",
       "    .dataframe thead th {\n",
       "        text-align: right;\n",
       "    }\n",
       "</style>\n",
       "<table border=\"1\" class=\"dataframe\">\n",
       "  <thead>\n",
       "    <tr style=\"text-align: right;\">\n",
       "      <th></th>\n",
       "      <th>patient_id</th>\n",
       "      <th>event_id</th>\n",
       "      <th>event_description</th>\n",
       "      <th>timestamp</th>\n",
       "      <th>value</th>\n",
       "    </tr>\n",
       "  </thead>\n",
       "  <tbody>\n",
       "    <tr>\n",
       "      <th>0</th>\n",
       "      <td>12</td>\n",
       "      <td>DIAG440649</td>\n",
       "      <td>Primary malignant neoplasm of head of pancreas</td>\n",
       "      <td>2011-12-06</td>\n",
       "      <td>1.0</td>\n",
       "    </tr>\n",
       "    <tr>\n",
       "      <th>1</th>\n",
       "      <td>12</td>\n",
       "      <td>DIAG201070</td>\n",
       "      <td>Cholelithiasis AND cholecystitis without obstr...</td>\n",
       "      <td>2011-12-06</td>\n",
       "      <td>1.0</td>\n",
       "    </tr>\n",
       "    <tr>\n",
       "      <th>2</th>\n",
       "      <td>12</td>\n",
       "      <td>DIAG321462</td>\n",
       "      <td>Cardiac complication</td>\n",
       "      <td>2011-12-06</td>\n",
       "      <td>1.0</td>\n",
       "    </tr>\n",
       "    <tr>\n",
       "      <th>3</th>\n",
       "      <td>12</td>\n",
       "      <td>DIAG321042</td>\n",
       "      <td>Cardiac arrest</td>\n",
       "      <td>2011-12-06</td>\n",
       "      <td>1.0</td>\n",
       "    </tr>\n",
       "    <tr>\n",
       "      <th>4</th>\n",
       "      <td>12</td>\n",
       "      <td>DIAG435141</td>\n",
       "      <td>Hemorrhage AND/OR hematoma complicating procedure</td>\n",
       "      <td>2011-12-06</td>\n",
       "      <td>1.0</td>\n",
       "    </tr>\n",
       "  </tbody>\n",
       "</table>\n",
       "</div>"
      ],
      "text/plain": [
       "   patient_id    event_id                                  event_description  \\\n",
       "0          12  DIAG440649     Primary malignant neoplasm of head of pancreas   \n",
       "1          12  DIAG201070  Cholelithiasis AND cholecystitis without obstr...   \n",
       "2          12  DIAG321462                               Cardiac complication   \n",
       "3          12  DIAG321042                                     Cardiac arrest   \n",
       "4          12  DIAG435141  Hemorrhage AND/OR hematoma complicating procedure   \n",
       "\n",
       "    timestamp  value  \n",
       "0  2011-12-06    1.0  \n",
       "1  2011-12-06    1.0  \n",
       "2  2011-12-06    1.0  \n",
       "3  2011-12-06    1.0  \n",
       "4  2011-12-06    1.0  "
      ]
     },
     "execution_count": 20,
     "metadata": {},
     "output_type": "execute_result"
    }
   ],
   "source": [
    "events.head()"
   ]
  },
  {
   "cell_type": "code",
   "execution_count": 21,
   "metadata": {
    "collapsed": true
   },
   "outputs": [],
   "source": [
    "encounters = events[['patient_id', 'timestamp']].drop_duplicates()\n",
    "encounters.sort_values(['patient_id', 'timestamp'], inplace=True)\n",
    "encounters['encounter_id'] = [i for i in range(encounters.shape[0])]\n",
    "encounters.set_index('encounter_id', inplace=True)"
   ]
  },
  {
   "cell_type": "code",
   "execution_count": 22,
   "metadata": {},
   "outputs": [
    {
     "data": {
      "text/html": [
       "<div>\n",
       "<style scoped>\n",
       "    .dataframe tbody tr th:only-of-type {\n",
       "        vertical-align: middle;\n",
       "    }\n",
       "\n",
       "    .dataframe tbody tr th {\n",
       "        vertical-align: top;\n",
       "    }\n",
       "\n",
       "    .dataframe thead th {\n",
       "        text-align: right;\n",
       "    }\n",
       "</style>\n",
       "<table border=\"1\" class=\"dataframe\">\n",
       "  <thead>\n",
       "    <tr style=\"text-align: right;\">\n",
       "      <th></th>\n",
       "      <th>patient_id</th>\n",
       "      <th>timestamp</th>\n",
       "    </tr>\n",
       "    <tr>\n",
       "      <th>encounter_id</th>\n",
       "      <th></th>\n",
       "      <th></th>\n",
       "    </tr>\n",
       "  </thead>\n",
       "  <tbody>\n",
       "    <tr>\n",
       "      <th>0</th>\n",
       "      <td>12</td>\n",
       "      <td>2011-12-04</td>\n",
       "    </tr>\n",
       "    <tr>\n",
       "      <th>1</th>\n",
       "      <td>12</td>\n",
       "      <td>2011-12-06</td>\n",
       "    </tr>\n",
       "    <tr>\n",
       "      <th>2</th>\n",
       "      <td>12</td>\n",
       "      <td>2011-12-07</td>\n",
       "    </tr>\n",
       "    <tr>\n",
       "      <th>3</th>\n",
       "      <td>12</td>\n",
       "      <td>2011-12-08</td>\n",
       "    </tr>\n",
       "    <tr>\n",
       "      <th>4</th>\n",
       "      <td>12</td>\n",
       "      <td>2011-12-09</td>\n",
       "    </tr>\n",
       "  </tbody>\n",
       "</table>\n",
       "</div>"
      ],
      "text/plain": [
       "              patient_id   timestamp\n",
       "encounter_id                        \n",
       "0                     12  2011-12-04\n",
       "1                     12  2011-12-06\n",
       "2                     12  2011-12-07\n",
       "3                     12  2011-12-08\n",
       "4                     12  2011-12-09"
      ]
     },
     "execution_count": 22,
     "metadata": {},
     "output_type": "execute_result"
    }
   ],
   "source": [
    "encounters.head()"
   ]
  },
  {
   "cell_type": "code",
   "execution_count": 23,
   "metadata": {
    "collapsed": true
   },
   "outputs": [],
   "source": [
    "## Counting number of encounters and splitting by deceased status\n",
    "encounter_counts = encounters.groupby(['patient_id']).size().reset_index(name='number_encounters')\n",
    "encounter_counts = encounter_counts.merge(mortality[['patient_id', 'label']], how='left', on='patient_id')\n",
    "encounter_counts.rename(index=str, columns={'label': 'is_deceased'}, inplace=True)\n",
    "encounter_counts.is_deceased.fillna(0, inplace=True)\n",
    "encounter_counts.is_deceased = encounter_counts.is_deceased.astype(bool)"
   ]
  },
  {
   "cell_type": "markdown",
   "metadata": {},
   "source": [
    "**Answer: Encounter Counts by deceased patients**"
   ]
  },
  {
   "cell_type": "code",
   "execution_count": 24,
   "metadata": {
    "collapsed": true
   },
   "outputs": [],
   "source": [
    "encounter_counts_results = encounter_counts.groupby(['is_deceased']).agg(['mean', 'max', 'min'])['number_encounters']"
   ]
  },
  {
   "cell_type": "code",
   "execution_count": 25,
   "metadata": {},
   "outputs": [
    {
     "data": {
      "text/html": [
       "<div>\n",
       "<style scoped>\n",
       "    .dataframe tbody tr th:only-of-type {\n",
       "        vertical-align: middle;\n",
       "    }\n",
       "\n",
       "    .dataframe tbody tr th {\n",
       "        vertical-align: top;\n",
       "    }\n",
       "\n",
       "    .dataframe thead th {\n",
       "        text-align: right;\n",
       "    }\n",
       "</style>\n",
       "<table border=\"1\" class=\"dataframe\">\n",
       "  <thead>\n",
       "    <tr style=\"text-align: right;\">\n",
       "      <th></th>\n",
       "      <th>mean</th>\n",
       "      <th>max</th>\n",
       "      <th>min</th>\n",
       "    </tr>\n",
       "    <tr>\n",
       "      <th>is_deceased</th>\n",
       "      <th></th>\n",
       "      <th></th>\n",
       "      <th></th>\n",
       "    </tr>\n",
       "  </thead>\n",
       "  <tbody>\n",
       "    <tr>\n",
       "      <th>False</th>\n",
       "      <td>15.452</td>\n",
       "      <td>391</td>\n",
       "      <td>1</td>\n",
       "    </tr>\n",
       "    <tr>\n",
       "      <th>True</th>\n",
       "      <td>23.038</td>\n",
       "      <td>203</td>\n",
       "      <td>1</td>\n",
       "    </tr>\n",
       "  </tbody>\n",
       "</table>\n",
       "</div>"
      ],
      "text/plain": [
       "               mean  max  min\n",
       "is_deceased                  \n",
       "False        15.452  391    1\n",
       "True         23.038  203    1"
      ]
     },
     "execution_count": 25,
     "metadata": {},
     "output_type": "execute_result"
    }
   ],
   "source": [
    "encounter_counts_results"
   ]
  },
  {
   "cell_type": "code",
   "execution_count": 26,
   "metadata": {
    "collapsed": true
   },
   "outputs": [],
   "source": [
    "avg_dead_encounter_count = encounter_counts_results.loc[True]['mean']\n",
    "max_dead_encounter_count = encounter_counts_results.loc[True]['max']\n",
    "min_dead_encounter_count = encounter_counts_results.loc[True]['min']\n",
    "avg_alive_encounter_count = encounter_counts_results.loc[False]['mean']\n",
    "max_alive_encounter_count = encounter_counts_results.loc[False]['max']\n",
    "min_alive_encounter_count = encounter_counts_results.loc[False]['min']"
   ]
  },
  {
   "cell_type": "markdown",
   "metadata": {},
   "source": [
    "## Record Length by Deceased Status"
   ]
  },
  {
   "cell_type": "code",
   "execution_count": 27,
   "metadata": {},
   "outputs": [
    {
     "data": {
      "text/html": [
       "<div>\n",
       "<style scoped>\n",
       "    .dataframe tbody tr th:only-of-type {\n",
       "        vertical-align: middle;\n",
       "    }\n",
       "\n",
       "    .dataframe tbody tr th {\n",
       "        vertical-align: top;\n",
       "    }\n",
       "\n",
       "    .dataframe thead th {\n",
       "        text-align: right;\n",
       "    }\n",
       "</style>\n",
       "<table border=\"1\" class=\"dataframe\">\n",
       "  <thead>\n",
       "    <tr style=\"text-align: right;\">\n",
       "      <th></th>\n",
       "      <th>patient_id</th>\n",
       "      <th>event_id</th>\n",
       "      <th>event_description</th>\n",
       "      <th>timestamp</th>\n",
       "      <th>value</th>\n",
       "    </tr>\n",
       "  </thead>\n",
       "  <tbody>\n",
       "    <tr>\n",
       "      <th>0</th>\n",
       "      <td>12</td>\n",
       "      <td>DIAG440649</td>\n",
       "      <td>Primary malignant neoplasm of head of pancreas</td>\n",
       "      <td>2011-12-06</td>\n",
       "      <td>1.0</td>\n",
       "    </tr>\n",
       "    <tr>\n",
       "      <th>1</th>\n",
       "      <td>12</td>\n",
       "      <td>DIAG201070</td>\n",
       "      <td>Cholelithiasis AND cholecystitis without obstr...</td>\n",
       "      <td>2011-12-06</td>\n",
       "      <td>1.0</td>\n",
       "    </tr>\n",
       "    <tr>\n",
       "      <th>2</th>\n",
       "      <td>12</td>\n",
       "      <td>DIAG321462</td>\n",
       "      <td>Cardiac complication</td>\n",
       "      <td>2011-12-06</td>\n",
       "      <td>1.0</td>\n",
       "    </tr>\n",
       "    <tr>\n",
       "      <th>3</th>\n",
       "      <td>12</td>\n",
       "      <td>DIAG321042</td>\n",
       "      <td>Cardiac arrest</td>\n",
       "      <td>2011-12-06</td>\n",
       "      <td>1.0</td>\n",
       "    </tr>\n",
       "    <tr>\n",
       "      <th>4</th>\n",
       "      <td>12</td>\n",
       "      <td>DIAG435141</td>\n",
       "      <td>Hemorrhage AND/OR hematoma complicating procedure</td>\n",
       "      <td>2011-12-06</td>\n",
       "      <td>1.0</td>\n",
       "    </tr>\n",
       "  </tbody>\n",
       "</table>\n",
       "</div>"
      ],
      "text/plain": [
       "   patient_id    event_id                                  event_description  \\\n",
       "0          12  DIAG440649     Primary malignant neoplasm of head of pancreas   \n",
       "1          12  DIAG201070  Cholelithiasis AND cholecystitis without obstr...   \n",
       "2          12  DIAG321462                               Cardiac complication   \n",
       "3          12  DIAG321042                                     Cardiac arrest   \n",
       "4          12  DIAG435141  Hemorrhage AND/OR hematoma complicating procedure   \n",
       "\n",
       "    timestamp  value  \n",
       "0  2011-12-06    1.0  \n",
       "1  2011-12-06    1.0  \n",
       "2  2011-12-06    1.0  \n",
       "3  2011-12-06    1.0  \n",
       "4  2011-12-06    1.0  "
      ]
     },
     "execution_count": 27,
     "metadata": {},
     "output_type": "execute_result"
    }
   ],
   "source": [
    "events.head()"
   ]
  },
  {
   "cell_type": "code",
   "execution_count": 28,
   "metadata": {
    "collapsed": true
   },
   "outputs": [],
   "source": [
    "record_length = events[['patient_id', 'timestamp']].groupby('patient_id').agg(['min', 'max'])\n",
    "record_length.columns = ['min_timestamp', 'max_timestamp']\n",
    "record_length['record_length'] = (pd.to_datetime(record_length.max_timestamp) - pd.to_datetime(record_length.min_timestamp)).dt.days\n",
    "record_length.reset_index(inplace=True)"
   ]
  },
  {
   "cell_type": "code",
   "execution_count": 29,
   "metadata": {},
   "outputs": [
    {
     "data": {
      "text/html": [
       "<div>\n",
       "<style scoped>\n",
       "    .dataframe tbody tr th:only-of-type {\n",
       "        vertical-align: middle;\n",
       "    }\n",
       "\n",
       "    .dataframe tbody tr th {\n",
       "        vertical-align: top;\n",
       "    }\n",
       "\n",
       "    .dataframe thead th {\n",
       "        text-align: right;\n",
       "    }\n",
       "</style>\n",
       "<table border=\"1\" class=\"dataframe\">\n",
       "  <thead>\n",
       "    <tr style=\"text-align: right;\">\n",
       "      <th></th>\n",
       "      <th>patient_id</th>\n",
       "      <th>min_timestamp</th>\n",
       "      <th>max_timestamp</th>\n",
       "      <th>record_length</th>\n",
       "    </tr>\n",
       "  </thead>\n",
       "  <tbody>\n",
       "    <tr>\n",
       "      <th>0</th>\n",
       "      <td>12</td>\n",
       "      <td>2011-12-04</td>\n",
       "      <td>2011-12-19</td>\n",
       "      <td>15</td>\n",
       "    </tr>\n",
       "    <tr>\n",
       "      <th>1</th>\n",
       "      <td>19</td>\n",
       "      <td>2013-02-19</td>\n",
       "      <td>2013-02-23</td>\n",
       "      <td>4</td>\n",
       "    </tr>\n",
       "    <tr>\n",
       "      <th>2</th>\n",
       "      <td>41</td>\n",
       "      <td>2013-05-13</td>\n",
       "      <td>2013-06-25</td>\n",
       "      <td>43</td>\n",
       "    </tr>\n",
       "    <tr>\n",
       "      <th>3</th>\n",
       "      <td>80</td>\n",
       "      <td>2015-01-19</td>\n",
       "      <td>2015-01-27</td>\n",
       "      <td>8</td>\n",
       "    </tr>\n",
       "    <tr>\n",
       "      <th>4</th>\n",
       "      <td>99</td>\n",
       "      <td>2010-04-25</td>\n",
       "      <td>2013-10-13</td>\n",
       "      <td>1267</td>\n",
       "    </tr>\n",
       "  </tbody>\n",
       "</table>\n",
       "</div>"
      ],
      "text/plain": [
       "   patient_id min_timestamp max_timestamp  record_length\n",
       "0          12    2011-12-04    2011-12-19             15\n",
       "1          19    2013-02-19    2013-02-23              4\n",
       "2          41    2013-05-13    2013-06-25             43\n",
       "3          80    2015-01-19    2015-01-27              8\n",
       "4          99    2010-04-25    2013-10-13           1267"
      ]
     },
     "execution_count": 29,
     "metadata": {},
     "output_type": "execute_result"
    }
   ],
   "source": [
    "record_length.head()"
   ]
  },
  {
   "cell_type": "code",
   "execution_count": 30,
   "metadata": {
    "collapsed": true
   },
   "outputs": [],
   "source": [
    "## Splitting by deceased status\n",
    "record_length = record_length.merge(mortality[['patient_id', 'label']], how='left', on='patient_id')\n",
    "record_length.rename(index=str, columns={'label': 'is_deceased'}, inplace=True)\n",
    "record_length.is_deceased.fillna(0, inplace=True)\n",
    "record_length.is_deceased = record_length.is_deceased.astype(bool)\n",
    "record_length.record_length = record_length.record_length.astype(int)"
   ]
  },
  {
   "cell_type": "code",
   "execution_count": 31,
   "metadata": {},
   "outputs": [
    {
     "data": {
      "text/html": [
       "<div>\n",
       "<style scoped>\n",
       "    .dataframe tbody tr th:only-of-type {\n",
       "        vertical-align: middle;\n",
       "    }\n",
       "\n",
       "    .dataframe tbody tr th {\n",
       "        vertical-align: top;\n",
       "    }\n",
       "\n",
       "    .dataframe thead th {\n",
       "        text-align: right;\n",
       "    }\n",
       "</style>\n",
       "<table border=\"1\" class=\"dataframe\">\n",
       "  <thead>\n",
       "    <tr style=\"text-align: right;\">\n",
       "      <th></th>\n",
       "      <th>patient_id</th>\n",
       "      <th>min_timestamp</th>\n",
       "      <th>max_timestamp</th>\n",
       "      <th>record_length</th>\n",
       "      <th>is_deceased</th>\n",
       "    </tr>\n",
       "  </thead>\n",
       "  <tbody>\n",
       "    <tr>\n",
       "      <th>0</th>\n",
       "      <td>12</td>\n",
       "      <td>2011-12-04</td>\n",
       "      <td>2011-12-19</td>\n",
       "      <td>15</td>\n",
       "      <td>True</td>\n",
       "    </tr>\n",
       "    <tr>\n",
       "      <th>1</th>\n",
       "      <td>19</td>\n",
       "      <td>2013-02-19</td>\n",
       "      <td>2013-02-23</td>\n",
       "      <td>4</td>\n",
       "      <td>True</td>\n",
       "    </tr>\n",
       "    <tr>\n",
       "      <th>2</th>\n",
       "      <td>41</td>\n",
       "      <td>2013-05-13</td>\n",
       "      <td>2013-06-25</td>\n",
       "      <td>43</td>\n",
       "      <td>True</td>\n",
       "    </tr>\n",
       "    <tr>\n",
       "      <th>3</th>\n",
       "      <td>80</td>\n",
       "      <td>2015-01-19</td>\n",
       "      <td>2015-01-27</td>\n",
       "      <td>8</td>\n",
       "      <td>False</td>\n",
       "    </tr>\n",
       "    <tr>\n",
       "      <th>4</th>\n",
       "      <td>99</td>\n",
       "      <td>2010-04-25</td>\n",
       "      <td>2013-10-13</td>\n",
       "      <td>1267</td>\n",
       "      <td>False</td>\n",
       "    </tr>\n",
       "  </tbody>\n",
       "</table>\n",
       "</div>"
      ],
      "text/plain": [
       "   patient_id min_timestamp max_timestamp  record_length  is_deceased\n",
       "0          12    2011-12-04    2011-12-19             15         True\n",
       "1          19    2013-02-19    2013-02-23              4         True\n",
       "2          41    2013-05-13    2013-06-25             43         True\n",
       "3          80    2015-01-19    2015-01-27              8        False\n",
       "4          99    2010-04-25    2013-10-13           1267        False"
      ]
     },
     "execution_count": 31,
     "metadata": {},
     "output_type": "execute_result"
    }
   ],
   "source": [
    "record_length.head()"
   ]
  },
  {
   "cell_type": "markdown",
   "metadata": {},
   "source": [
    "**Answer: Record Length by Deceased Status**"
   ]
  },
  {
   "cell_type": "code",
   "execution_count": 32,
   "metadata": {
    "collapsed": true
   },
   "outputs": [],
   "source": [
    "record_length_results = record_length.groupby(['is_deceased']).agg(['mean', 'max', 'min'])['record_length']"
   ]
  },
  {
   "cell_type": "code",
   "execution_count": 33,
   "metadata": {},
   "outputs": [
    {
     "data": {
      "text/html": [
       "<div>\n",
       "<style scoped>\n",
       "    .dataframe tbody tr th:only-of-type {\n",
       "        vertical-align: middle;\n",
       "    }\n",
       "\n",
       "    .dataframe tbody tr th {\n",
       "        vertical-align: top;\n",
       "    }\n",
       "\n",
       "    .dataframe thead th {\n",
       "        text-align: right;\n",
       "    }\n",
       "</style>\n",
       "<table border=\"1\" class=\"dataframe\">\n",
       "  <thead>\n",
       "    <tr style=\"text-align: right;\">\n",
       "      <th></th>\n",
       "      <th>mean</th>\n",
       "      <th>max</th>\n",
       "      <th>min</th>\n",
       "    </tr>\n",
       "    <tr>\n",
       "      <th>is_deceased</th>\n",
       "      <th></th>\n",
       "      <th></th>\n",
       "      <th></th>\n",
       "    </tr>\n",
       "  </thead>\n",
       "  <tbody>\n",
       "    <tr>\n",
       "      <th>False</th>\n",
       "      <td>159.200</td>\n",
       "      <td>2914</td>\n",
       "      <td>0</td>\n",
       "    </tr>\n",
       "    <tr>\n",
       "      <th>True</th>\n",
       "      <td>127.532</td>\n",
       "      <td>1972</td>\n",
       "      <td>0</td>\n",
       "    </tr>\n",
       "  </tbody>\n",
       "</table>\n",
       "</div>"
      ],
      "text/plain": [
       "                mean   max  min\n",
       "is_deceased                    \n",
       "False        159.200  2914    0\n",
       "True         127.532  1972    0"
      ]
     },
     "execution_count": 33,
     "metadata": {},
     "output_type": "execute_result"
    }
   ],
   "source": [
    "record_length_results"
   ]
  },
  {
   "cell_type": "code",
   "execution_count": 34,
   "metadata": {
    "collapsed": true
   },
   "outputs": [],
   "source": [
    "avg_dead_rec_len = record_length_results.loc[True]['mean']\n",
    "max_dead_rec_len = record_length_results.loc[True]['max']\n",
    "min_dead_rec_len = record_length_results.loc[True]['min']\n",
    "avg_alive_rec_len = record_length_results.loc[False]['mean']\n",
    "max_alive_rec_len = record_length_results.loc[False]['max']\n",
    "min_alive_rec_len = record_length_results.loc[False]['min']"
   ]
  },
  {
   "cell_type": "markdown",
   "metadata": {},
   "source": [
    "## Calculating Index Date"
   ]
  },
  {
   "cell_type": "code",
   "execution_count": 35,
   "metadata": {},
   "outputs": [
    {
     "data": {
      "text/html": [
       "<div>\n",
       "<style scoped>\n",
       "    .dataframe tbody tr th:only-of-type {\n",
       "        vertical-align: middle;\n",
       "    }\n",
       "\n",
       "    .dataframe tbody tr th {\n",
       "        vertical-align: top;\n",
       "    }\n",
       "\n",
       "    .dataframe thead th {\n",
       "        text-align: right;\n",
       "    }\n",
       "</style>\n",
       "<table border=\"1\" class=\"dataframe\">\n",
       "  <thead>\n",
       "    <tr style=\"text-align: right;\">\n",
       "      <th></th>\n",
       "      <th>patient_id</th>\n",
       "      <th>event_id</th>\n",
       "      <th>event_description</th>\n",
       "      <th>timestamp</th>\n",
       "      <th>value</th>\n",
       "    </tr>\n",
       "  </thead>\n",
       "  <tbody>\n",
       "    <tr>\n",
       "      <th>0</th>\n",
       "      <td>12</td>\n",
       "      <td>DIAG440649</td>\n",
       "      <td>Primary malignant neoplasm of head of pancreas</td>\n",
       "      <td>2011-12-06</td>\n",
       "      <td>1.0</td>\n",
       "    </tr>\n",
       "    <tr>\n",
       "      <th>1</th>\n",
       "      <td>12</td>\n",
       "      <td>DIAG201070</td>\n",
       "      <td>Cholelithiasis AND cholecystitis without obstr...</td>\n",
       "      <td>2011-12-06</td>\n",
       "      <td>1.0</td>\n",
       "    </tr>\n",
       "    <tr>\n",
       "      <th>2</th>\n",
       "      <td>12</td>\n",
       "      <td>DIAG321462</td>\n",
       "      <td>Cardiac complication</td>\n",
       "      <td>2011-12-06</td>\n",
       "      <td>1.0</td>\n",
       "    </tr>\n",
       "    <tr>\n",
       "      <th>3</th>\n",
       "      <td>12</td>\n",
       "      <td>DIAG321042</td>\n",
       "      <td>Cardiac arrest</td>\n",
       "      <td>2011-12-06</td>\n",
       "      <td>1.0</td>\n",
       "    </tr>\n",
       "    <tr>\n",
       "      <th>4</th>\n",
       "      <td>12</td>\n",
       "      <td>DIAG435141</td>\n",
       "      <td>Hemorrhage AND/OR hematoma complicating procedure</td>\n",
       "      <td>2011-12-06</td>\n",
       "      <td>1.0</td>\n",
       "    </tr>\n",
       "  </tbody>\n",
       "</table>\n",
       "</div>"
      ],
      "text/plain": [
       "   patient_id    event_id                                  event_description  \\\n",
       "0          12  DIAG440649     Primary malignant neoplasm of head of pancreas   \n",
       "1          12  DIAG201070  Cholelithiasis AND cholecystitis without obstr...   \n",
       "2          12  DIAG321462                               Cardiac complication   \n",
       "3          12  DIAG321042                                     Cardiac arrest   \n",
       "4          12  DIAG435141  Hemorrhage AND/OR hematoma complicating procedure   \n",
       "\n",
       "    timestamp  value  \n",
       "0  2011-12-06    1.0  \n",
       "1  2011-12-06    1.0  \n",
       "2  2011-12-06    1.0  \n",
       "3  2011-12-06    1.0  \n",
       "4  2011-12-06    1.0  "
      ]
     },
     "execution_count": 35,
     "metadata": {},
     "output_type": "execute_result"
    }
   ],
   "source": [
    "events.head()"
   ]
  },
  {
   "cell_type": "code",
   "execution_count": 36,
   "metadata": {
    "collapsed": true
   },
   "outputs": [],
   "source": [
    "indx_date = events[['patient_id', 'timestamp']].groupby(['patient_id'])\\\n",
    "                                               .agg({'timestamp': 'max'})\\\n",
    "                                               .rename(columns={'timestamp': 'last_event_date'})\\\n",
    "                                               .reset_index()"
   ]
  },
  {
   "cell_type": "code",
   "execution_count": 37,
   "metadata": {
    "collapsed": true
   },
   "outputs": [],
   "source": [
    "indx_date = indx_date.merge(mortality[['patient_id', 'label', 'timestamp']].rename(columns={'timestamp': 'date_of_death'}), how='left', on='patient_id')\n",
    "indx_date.rename(index=str, columns={'label': 'is_deceased'}, inplace=True)\n",
    "indx_date.is_deceased.fillna(0, inplace=True)\n",
    "indx_date.is_deceased = indx_date.is_deceased.astype(bool)\n",
    "indx_date.last_event_date = pd.to_datetime(indx_date.last_event_date)\n",
    "indx_date.date_of_death = pd.to_datetime(indx_date.date_of_death)\n",
    "indx_date['date_of_death_30_days_prior'] = indx_date.date_of_death - pd.to_timedelta(30, unit='d')\n",
    "indx_date['indx_date'] = indx_date.date_of_death_30_days_prior.combine_first(indx_date.last_event_date)\n",
    "indx_date = indx_date[['patient_id', 'indx_date']]"
   ]
  },
  {
   "cell_type": "code",
   "execution_count": 38,
   "metadata": {},
   "outputs": [
    {
     "data": {
      "text/html": [
       "<div>\n",
       "<style scoped>\n",
       "    .dataframe tbody tr th:only-of-type {\n",
       "        vertical-align: middle;\n",
       "    }\n",
       "\n",
       "    .dataframe tbody tr th {\n",
       "        vertical-align: top;\n",
       "    }\n",
       "\n",
       "    .dataframe thead th {\n",
       "        text-align: right;\n",
       "    }\n",
       "</style>\n",
       "<table border=\"1\" class=\"dataframe\">\n",
       "  <thead>\n",
       "    <tr style=\"text-align: right;\">\n",
       "      <th></th>\n",
       "      <th>patient_id</th>\n",
       "      <th>indx_date</th>\n",
       "    </tr>\n",
       "  </thead>\n",
       "  <tbody>\n",
       "    <tr>\n",
       "      <th>0</th>\n",
       "      <td>12</td>\n",
       "      <td>2011-11-19</td>\n",
       "    </tr>\n",
       "    <tr>\n",
       "      <th>1</th>\n",
       "      <td>19</td>\n",
       "      <td>2014-02-02</td>\n",
       "    </tr>\n",
       "    <tr>\n",
       "      <th>2</th>\n",
       "      <td>41</td>\n",
       "      <td>2014-01-16</td>\n",
       "    </tr>\n",
       "    <tr>\n",
       "      <th>3</th>\n",
       "      <td>80</td>\n",
       "      <td>2015-01-27</td>\n",
       "    </tr>\n",
       "    <tr>\n",
       "      <th>4</th>\n",
       "      <td>99</td>\n",
       "      <td>2013-10-13</td>\n",
       "    </tr>\n",
       "  </tbody>\n",
       "</table>\n",
       "</div>"
      ],
      "text/plain": [
       "   patient_id  indx_date\n",
       "0          12 2011-11-19\n",
       "1          19 2014-02-02\n",
       "2          41 2014-01-16\n",
       "3          80 2015-01-27\n",
       "4          99 2013-10-13"
      ]
     },
     "execution_count": 38,
     "metadata": {},
     "output_type": "execute_result"
    }
   ],
   "source": [
    "indx_date.head()"
   ]
  },
  {
   "cell_type": "code",
   "execution_count": 39,
   "metadata": {},
   "outputs": [
    {
     "data": {
      "text/plain": [
       "1    1000\n",
       "Name: patient_id, dtype: int64"
      ]
     },
     "execution_count": 39,
     "metadata": {},
     "output_type": "execute_result"
    }
   ],
   "source": [
    "indx_date.patient_id.value_counts().value_counts()"
   ]
  },
  {
   "cell_type": "markdown",
   "metadata": {},
   "source": [
    "## Filter Events"
   ]
  },
  {
   "cell_type": "code",
   "execution_count": 40,
   "metadata": {},
   "outputs": [
    {
     "data": {
      "text/html": [
       "<div>\n",
       "<style scoped>\n",
       "    .dataframe tbody tr th:only-of-type {\n",
       "        vertical-align: middle;\n",
       "    }\n",
       "\n",
       "    .dataframe tbody tr th {\n",
       "        vertical-align: top;\n",
       "    }\n",
       "\n",
       "    .dataframe thead th {\n",
       "        text-align: right;\n",
       "    }\n",
       "</style>\n",
       "<table border=\"1\" class=\"dataframe\">\n",
       "  <thead>\n",
       "    <tr style=\"text-align: right;\">\n",
       "      <th></th>\n",
       "      <th>patient_id</th>\n",
       "      <th>event_id</th>\n",
       "      <th>event_description</th>\n",
       "      <th>timestamp</th>\n",
       "      <th>value</th>\n",
       "    </tr>\n",
       "  </thead>\n",
       "  <tbody>\n",
       "    <tr>\n",
       "      <th>0</th>\n",
       "      <td>12</td>\n",
       "      <td>DIAG440649</td>\n",
       "      <td>Primary malignant neoplasm of head of pancreas</td>\n",
       "      <td>2011-12-06</td>\n",
       "      <td>1.0</td>\n",
       "    </tr>\n",
       "    <tr>\n",
       "      <th>1</th>\n",
       "      <td>12</td>\n",
       "      <td>DIAG201070</td>\n",
       "      <td>Cholelithiasis AND cholecystitis without obstr...</td>\n",
       "      <td>2011-12-06</td>\n",
       "      <td>1.0</td>\n",
       "    </tr>\n",
       "    <tr>\n",
       "      <th>2</th>\n",
       "      <td>12</td>\n",
       "      <td>DIAG321462</td>\n",
       "      <td>Cardiac complication</td>\n",
       "      <td>2011-12-06</td>\n",
       "      <td>1.0</td>\n",
       "    </tr>\n",
       "    <tr>\n",
       "      <th>3</th>\n",
       "      <td>12</td>\n",
       "      <td>DIAG321042</td>\n",
       "      <td>Cardiac arrest</td>\n",
       "      <td>2011-12-06</td>\n",
       "      <td>1.0</td>\n",
       "    </tr>\n",
       "    <tr>\n",
       "      <th>4</th>\n",
       "      <td>12</td>\n",
       "      <td>DIAG435141</td>\n",
       "      <td>Hemorrhage AND/OR hematoma complicating procedure</td>\n",
       "      <td>2011-12-06</td>\n",
       "      <td>1.0</td>\n",
       "    </tr>\n",
       "  </tbody>\n",
       "</table>\n",
       "</div>"
      ],
      "text/plain": [
       "   patient_id    event_id                                  event_description  \\\n",
       "0          12  DIAG440649     Primary malignant neoplasm of head of pancreas   \n",
       "1          12  DIAG201070  Cholelithiasis AND cholecystitis without obstr...   \n",
       "2          12  DIAG321462                               Cardiac complication   \n",
       "3          12  DIAG321042                                     Cardiac arrest   \n",
       "4          12  DIAG435141  Hemorrhage AND/OR hematoma complicating procedure   \n",
       "\n",
       "    timestamp  value  \n",
       "0  2011-12-06    1.0  \n",
       "1  2011-12-06    1.0  \n",
       "2  2011-12-06    1.0  \n",
       "3  2011-12-06    1.0  \n",
       "4  2011-12-06    1.0  "
      ]
     },
     "execution_count": 40,
     "metadata": {},
     "output_type": "execute_result"
    }
   ],
   "source": [
    "events.head()"
   ]
  },
  {
   "cell_type": "code",
   "execution_count": 41,
   "metadata": {},
   "outputs": [
    {
     "data": {
      "text/html": [
       "<div>\n",
       "<style scoped>\n",
       "    .dataframe tbody tr th:only-of-type {\n",
       "        vertical-align: middle;\n",
       "    }\n",
       "\n",
       "    .dataframe tbody tr th {\n",
       "        vertical-align: top;\n",
       "    }\n",
       "\n",
       "    .dataframe thead th {\n",
       "        text-align: right;\n",
       "    }\n",
       "</style>\n",
       "<table border=\"1\" class=\"dataframe\">\n",
       "  <thead>\n",
       "    <tr style=\"text-align: right;\">\n",
       "      <th></th>\n",
       "      <th>patient_id</th>\n",
       "      <th>indx_date</th>\n",
       "    </tr>\n",
       "  </thead>\n",
       "  <tbody>\n",
       "    <tr>\n",
       "      <th>0</th>\n",
       "      <td>12</td>\n",
       "      <td>2011-11-19</td>\n",
       "    </tr>\n",
       "    <tr>\n",
       "      <th>1</th>\n",
       "      <td>19</td>\n",
       "      <td>2014-02-02</td>\n",
       "    </tr>\n",
       "    <tr>\n",
       "      <th>2</th>\n",
       "      <td>41</td>\n",
       "      <td>2014-01-16</td>\n",
       "    </tr>\n",
       "    <tr>\n",
       "      <th>3</th>\n",
       "      <td>80</td>\n",
       "      <td>2015-01-27</td>\n",
       "    </tr>\n",
       "    <tr>\n",
       "      <th>4</th>\n",
       "      <td>99</td>\n",
       "      <td>2013-10-13</td>\n",
       "    </tr>\n",
       "  </tbody>\n",
       "</table>\n",
       "</div>"
      ],
      "text/plain": [
       "   patient_id  indx_date\n",
       "0          12 2011-11-19\n",
       "1          19 2014-02-02\n",
       "2          41 2014-01-16\n",
       "3          80 2015-01-27\n",
       "4          99 2013-10-13"
      ]
     },
     "execution_count": 41,
     "metadata": {},
     "output_type": "execute_result"
    }
   ],
   "source": [
    "indx_date.head()"
   ]
  },
  {
   "cell_type": "code",
   "execution_count": 42,
   "metadata": {
    "collapsed": true
   },
   "outputs": [],
   "source": [
    "indx_date['observation_window_begin'] = indx_date.indx_date - pd.to_timedelta(2000, unit='d')\n",
    "indx_date['prediction_window_end'] = indx_date.indx_date + pd.to_timedelta(30, unit='d')"
   ]
  },
  {
   "cell_type": "code",
   "execution_count": 43,
   "metadata": {
    "collapsed": true
   },
   "outputs": [],
   "source": [
    "filtered_events = events.merge(indx_date, how='left', on='patient_id')\n",
    "filtered_events.timestamp = pd.to_datetime(filtered_events.timestamp)"
   ]
  },
  {
   "cell_type": "code",
   "execution_count": 44,
   "metadata": {
    "collapsed": true
   },
   "outputs": [],
   "source": [
    "filtered_events['keep_event'] = (filtered_events.timestamp >= filtered_events.observation_window_begin) &\\\n",
    "                                (filtered_events.timestamp <= filtered_events.prediction_window_end)"
   ]
  },
  {
   "cell_type": "code",
   "execution_count": 45,
   "metadata": {
    "collapsed": true
   },
   "outputs": [],
   "source": [
    "filtered_events = filtered_events.loc[filtered_events.keep_event]"
   ]
  },
  {
   "cell_type": "code",
   "execution_count": 46,
   "metadata": {
    "collapsed": true
   },
   "outputs": [],
   "source": [
    "filtered_events = filtered_events[['patient_id', 'event_id', 'value']]"
   ]
  },
  {
   "cell_type": "code",
   "execution_count": 47,
   "metadata": {},
   "outputs": [
    {
     "data": {
      "text/html": [
       "<div>\n",
       "<style scoped>\n",
       "    .dataframe tbody tr th:only-of-type {\n",
       "        vertical-align: middle;\n",
       "    }\n",
       "\n",
       "    .dataframe tbody tr th {\n",
       "        vertical-align: top;\n",
       "    }\n",
       "\n",
       "    .dataframe thead th {\n",
       "        text-align: right;\n",
       "    }\n",
       "</style>\n",
       "<table border=\"1\" class=\"dataframe\">\n",
       "  <thead>\n",
       "    <tr style=\"text-align: right;\">\n",
       "      <th></th>\n",
       "      <th>patient_id</th>\n",
       "      <th>event_id</th>\n",
       "      <th>value</th>\n",
       "    </tr>\n",
       "  </thead>\n",
       "  <tbody>\n",
       "    <tr>\n",
       "      <th>0</th>\n",
       "      <td>12</td>\n",
       "      <td>DIAG440649</td>\n",
       "      <td>1.0</td>\n",
       "    </tr>\n",
       "    <tr>\n",
       "      <th>1</th>\n",
       "      <td>12</td>\n",
       "      <td>DIAG201070</td>\n",
       "      <td>1.0</td>\n",
       "    </tr>\n",
       "    <tr>\n",
       "      <th>2</th>\n",
       "      <td>12</td>\n",
       "      <td>DIAG321462</td>\n",
       "      <td>1.0</td>\n",
       "    </tr>\n",
       "    <tr>\n",
       "      <th>3</th>\n",
       "      <td>12</td>\n",
       "      <td>DIAG321042</td>\n",
       "      <td>1.0</td>\n",
       "    </tr>\n",
       "    <tr>\n",
       "      <th>4</th>\n",
       "      <td>12</td>\n",
       "      <td>DIAG435141</td>\n",
       "      <td>1.0</td>\n",
       "    </tr>\n",
       "  </tbody>\n",
       "</table>\n",
       "</div>"
      ],
      "text/plain": [
       "   patient_id    event_id  value\n",
       "0          12  DIAG440649    1.0\n",
       "1          12  DIAG201070    1.0\n",
       "2          12  DIAG321462    1.0\n",
       "3          12  DIAG321042    1.0\n",
       "4          12  DIAG435141    1.0"
      ]
     },
     "execution_count": 47,
     "metadata": {},
     "output_type": "execute_result"
    }
   ],
   "source": [
    "filtered_events.head()"
   ]
  },
  {
   "cell_type": "markdown",
   "metadata": {},
   "source": [
    "## Aggregate Events"
   ]
  },
  {
   "cell_type": "code",
   "execution_count": 48,
   "metadata": {
    "collapsed": true
   },
   "outputs": [],
   "source": [
    "filtered_events_df = filtered_events\n",
    "feature_map_df = event_feature_map"
   ]
  },
  {
   "cell_type": "code",
   "execution_count": 49,
   "metadata": {},
   "outputs": [
    {
     "data": {
      "text/html": [
       "<div>\n",
       "<style scoped>\n",
       "    .dataframe tbody tr th:only-of-type {\n",
       "        vertical-align: middle;\n",
       "    }\n",
       "\n",
       "    .dataframe tbody tr th {\n",
       "        vertical-align: top;\n",
       "    }\n",
       "\n",
       "    .dataframe thead th {\n",
       "        text-align: right;\n",
       "    }\n",
       "</style>\n",
       "<table border=\"1\" class=\"dataframe\">\n",
       "  <thead>\n",
       "    <tr style=\"text-align: right;\">\n",
       "      <th></th>\n",
       "      <th>patient_id</th>\n",
       "      <th>event_id</th>\n",
       "      <th>value</th>\n",
       "    </tr>\n",
       "  </thead>\n",
       "  <tbody>\n",
       "    <tr>\n",
       "      <th>0</th>\n",
       "      <td>12</td>\n",
       "      <td>DIAG440649</td>\n",
       "      <td>1.0</td>\n",
       "    </tr>\n",
       "    <tr>\n",
       "      <th>1</th>\n",
       "      <td>12</td>\n",
       "      <td>DIAG201070</td>\n",
       "      <td>1.0</td>\n",
       "    </tr>\n",
       "    <tr>\n",
       "      <th>2</th>\n",
       "      <td>12</td>\n",
       "      <td>DIAG321462</td>\n",
       "      <td>1.0</td>\n",
       "    </tr>\n",
       "    <tr>\n",
       "      <th>3</th>\n",
       "      <td>12</td>\n",
       "      <td>DIAG321042</td>\n",
       "      <td>1.0</td>\n",
       "    </tr>\n",
       "    <tr>\n",
       "      <th>4</th>\n",
       "      <td>12</td>\n",
       "      <td>DIAG435141</td>\n",
       "      <td>1.0</td>\n",
       "    </tr>\n",
       "  </tbody>\n",
       "</table>\n",
       "</div>"
      ],
      "text/plain": [
       "   patient_id    event_id  value\n",
       "0          12  DIAG440649    1.0\n",
       "1          12  DIAG201070    1.0\n",
       "2          12  DIAG321462    1.0\n",
       "3          12  DIAG321042    1.0\n",
       "4          12  DIAG435141    1.0"
      ]
     },
     "execution_count": 49,
     "metadata": {},
     "output_type": "execute_result"
    }
   ],
   "source": [
    "filtered_events_df.head()"
   ]
  },
  {
   "cell_type": "code",
   "execution_count": 50,
   "metadata": {},
   "outputs": [
    {
     "data": {
      "text/html": [
       "<div>\n",
       "<style scoped>\n",
       "    .dataframe tbody tr th:only-of-type {\n",
       "        vertical-align: middle;\n",
       "    }\n",
       "\n",
       "    .dataframe tbody tr th {\n",
       "        vertical-align: top;\n",
       "    }\n",
       "\n",
       "    .dataframe thead th {\n",
       "        text-align: right;\n",
       "    }\n",
       "</style>\n",
       "<table border=\"1\" class=\"dataframe\">\n",
       "  <thead>\n",
       "    <tr style=\"text-align: right;\">\n",
       "      <th></th>\n",
       "      <th>idx</th>\n",
       "      <th>event_id</th>\n",
       "    </tr>\n",
       "  </thead>\n",
       "  <tbody>\n",
       "    <tr>\n",
       "      <th>0</th>\n",
       "      <td>1</td>\n",
       "      <td>DIAG132397</td>\n",
       "    </tr>\n",
       "    <tr>\n",
       "      <th>1</th>\n",
       "      <td>2</td>\n",
       "      <td>DIAG132408</td>\n",
       "    </tr>\n",
       "    <tr>\n",
       "      <th>2</th>\n",
       "      <td>3</td>\n",
       "      <td>DIAG132446</td>\n",
       "    </tr>\n",
       "    <tr>\n",
       "      <th>3</th>\n",
       "      <td>4</td>\n",
       "      <td>DIAG132583</td>\n",
       "    </tr>\n",
       "    <tr>\n",
       "      <th>4</th>\n",
       "      <td>5</td>\n",
       "      <td>DIAG132643</td>\n",
       "    </tr>\n",
       "  </tbody>\n",
       "</table>\n",
       "</div>"
      ],
      "text/plain": [
       "   idx    event_id\n",
       "0    1  DIAG132397\n",
       "1    2  DIAG132408\n",
       "2    3  DIAG132446\n",
       "3    4  DIAG132583\n",
       "4    5  DIAG132643"
      ]
     },
     "execution_count": 50,
     "metadata": {},
     "output_type": "execute_result"
    }
   ],
   "source": [
    "feature_map_df.head()"
   ]
  },
  {
   "cell_type": "markdown",
   "metadata": {},
   "source": [
    "Checking Nulls"
   ]
  },
  {
   "cell_type": "code",
   "execution_count": 51,
   "metadata": {},
   "outputs": [
    {
     "data": {
      "text/plain": [
       "71734"
      ]
     },
     "execution_count": 51,
     "metadata": {},
     "output_type": "execute_result"
    }
   ],
   "source": [
    "filtered_events_df.value.isnull().sum()"
   ]
  },
  {
   "cell_type": "code",
   "execution_count": 52,
   "metadata": {},
   "outputs": [
    {
     "data": {
      "text/plain": [
       "732945"
      ]
     },
     "execution_count": 52,
     "metadata": {},
     "output_type": "execute_result"
    }
   ],
   "source": [
    "filtered_events_df.value.isnull().size"
   ]
  },
  {
   "cell_type": "code",
   "execution_count": 53,
   "metadata": {
    "collapsed": true
   },
   "outputs": [],
   "source": [
    "# Need to Remove rows where value is null\n",
    "events_remove_na = filtered_events_df.loc[filtered_events_df.value.isnull() == False]"
   ]
  },
  {
   "cell_type": "code",
   "execution_count": 54,
   "metadata": {
    "collapsed": true
   },
   "outputs": [],
   "source": [
    "events_remove_na = events_remove_na.merge(feature_map_df, how='left', on='event_id')\n",
    "events_remove_na.rename(columns={'idx': 'event_id_idx'}, inplace=True)\n",
    "events_remove_na['event_type'] = events_remove_na.event_id.str.replace('[^a-zA-Z]', '')"
   ]
  },
  {
   "cell_type": "code",
   "execution_count": 55,
   "metadata": {},
   "outputs": [
    {
     "data": {
      "text/html": [
       "<div>\n",
       "<style scoped>\n",
       "    .dataframe tbody tr th:only-of-type {\n",
       "        vertical-align: middle;\n",
       "    }\n",
       "\n",
       "    .dataframe tbody tr th {\n",
       "        vertical-align: top;\n",
       "    }\n",
       "\n",
       "    .dataframe thead th {\n",
       "        text-align: right;\n",
       "    }\n",
       "</style>\n",
       "<table border=\"1\" class=\"dataframe\">\n",
       "  <thead>\n",
       "    <tr style=\"text-align: right;\">\n",
       "      <th></th>\n",
       "      <th>patient_id</th>\n",
       "      <th>event_id</th>\n",
       "      <th>value</th>\n",
       "      <th>event_id_idx</th>\n",
       "      <th>event_type</th>\n",
       "    </tr>\n",
       "  </thead>\n",
       "  <tbody>\n",
       "    <tr>\n",
       "      <th>0</th>\n",
       "      <td>12</td>\n",
       "      <td>DIAG440649</td>\n",
       "      <td>1.0</td>\n",
       "      <td>1658</td>\n",
       "      <td>DIAG</td>\n",
       "    </tr>\n",
       "    <tr>\n",
       "      <th>1</th>\n",
       "      <td>12</td>\n",
       "      <td>DIAG201070</td>\n",
       "      <td>1.0</td>\n",
       "      <td>420</td>\n",
       "      <td>DIAG</td>\n",
       "    </tr>\n",
       "    <tr>\n",
       "      <th>2</th>\n",
       "      <td>12</td>\n",
       "      <td>DIAG321462</td>\n",
       "      <td>1.0</td>\n",
       "      <td>736</td>\n",
       "      <td>DIAG</td>\n",
       "    </tr>\n",
       "    <tr>\n",
       "      <th>3</th>\n",
       "      <td>12</td>\n",
       "      <td>DIAG321042</td>\n",
       "      <td>1.0</td>\n",
       "      <td>729</td>\n",
       "      <td>DIAG</td>\n",
       "    </tr>\n",
       "    <tr>\n",
       "      <th>4</th>\n",
       "      <td>12</td>\n",
       "      <td>DIAG435141</td>\n",
       "      <td>1.0</td>\n",
       "      <td>1317</td>\n",
       "      <td>DIAG</td>\n",
       "    </tr>\n",
       "  </tbody>\n",
       "</table>\n",
       "</div>"
      ],
      "text/plain": [
       "   patient_id    event_id  value  event_id_idx event_type\n",
       "0          12  DIAG440649    1.0          1658       DIAG\n",
       "1          12  DIAG201070    1.0           420       DIAG\n",
       "2          12  DIAG321462    1.0           736       DIAG\n",
       "3          12  DIAG321042    1.0           729       DIAG\n",
       "4          12  DIAG435141    1.0          1317       DIAG"
      ]
     },
     "execution_count": 55,
     "metadata": {},
     "output_type": "execute_result"
    }
   ],
   "source": [
    "events_remove_na.head()"
   ]
  },
  {
   "cell_type": "code",
   "execution_count": 56,
   "metadata": {
    "collapsed": true
   },
   "outputs": [],
   "source": [
    "events_grouped = events_remove_na[['patient_id', 'event_id_idx', 'event_type', 'value']].groupby(['patient_id', 'event_id_idx', 'event_type'])\\\n",
    "                                                                                        .agg({'value': ['count', 'sum']})\n",
    "    \n",
    "# Neat trick to collapse the hierarchical columns returned by groupby to single column\n",
    "events_grouped.columns = ['_'.join(col).strip() for col in events_grouped.columns.values]\n",
    "\n",
    "# reset index\n",
    "events_grouped.reset_index(inplace=True)\n",
    "    "
   ]
  },
  {
   "cell_type": "code",
   "execution_count": 57,
   "metadata": {},
   "outputs": [
    {
     "data": {
      "text/html": [
       "<div>\n",
       "<style scoped>\n",
       "    .dataframe tbody tr th:only-of-type {\n",
       "        vertical-align: middle;\n",
       "    }\n",
       "\n",
       "    .dataframe tbody tr th {\n",
       "        vertical-align: top;\n",
       "    }\n",
       "\n",
       "    .dataframe thead th {\n",
       "        text-align: right;\n",
       "    }\n",
       "</style>\n",
       "<table border=\"1\" class=\"dataframe\">\n",
       "  <thead>\n",
       "    <tr style=\"text-align: right;\">\n",
       "      <th></th>\n",
       "      <th>patient_id</th>\n",
       "      <th>event_id_idx</th>\n",
       "      <th>event_type</th>\n",
       "      <th>value_count</th>\n",
       "      <th>value_sum</th>\n",
       "    </tr>\n",
       "  </thead>\n",
       "  <tbody>\n",
       "    <tr>\n",
       "      <th>0</th>\n",
       "      <td>12</td>\n",
       "      <td>247</td>\n",
       "      <td>DIAG</td>\n",
       "      <td>1</td>\n",
       "      <td>1.0</td>\n",
       "    </tr>\n",
       "    <tr>\n",
       "      <th>1</th>\n",
       "      <td>12</td>\n",
       "      <td>346</td>\n",
       "      <td>DIAG</td>\n",
       "      <td>1</td>\n",
       "      <td>1.0</td>\n",
       "    </tr>\n",
       "    <tr>\n",
       "      <th>2</th>\n",
       "      <td>12</td>\n",
       "      <td>420</td>\n",
       "      <td>DIAG</td>\n",
       "      <td>1</td>\n",
       "      <td>1.0</td>\n",
       "    </tr>\n",
       "    <tr>\n",
       "      <th>3</th>\n",
       "      <td>12</td>\n",
       "      <td>719</td>\n",
       "      <td>DIAG</td>\n",
       "      <td>1</td>\n",
       "      <td>1.0</td>\n",
       "    </tr>\n",
       "    <tr>\n",
       "      <th>4</th>\n",
       "      <td>12</td>\n",
       "      <td>729</td>\n",
       "      <td>DIAG</td>\n",
       "      <td>1</td>\n",
       "      <td>1.0</td>\n",
       "    </tr>\n",
       "  </tbody>\n",
       "</table>\n",
       "</div>"
      ],
      "text/plain": [
       "   patient_id  event_id_idx event_type  value_count  value_sum\n",
       "0          12           247       DIAG            1        1.0\n",
       "1          12           346       DIAG            1        1.0\n",
       "2          12           420       DIAG            1        1.0\n",
       "3          12           719       DIAG            1        1.0\n",
       "4          12           729       DIAG            1        1.0"
      ]
     },
     "execution_count": 57,
     "metadata": {},
     "output_type": "execute_result"
    }
   ],
   "source": [
    "events_grouped.head()"
   ]
  },
  {
   "cell_type": "code",
   "execution_count": 58,
   "metadata": {
    "collapsed": true
   },
   "outputs": [],
   "source": [
    "events_grouped['value'] = np.where(events_grouped['event_type']=='LAB',\n",
    "                                   events_grouped.value_count,\n",
    "                                   events_grouped.value_sum)"
   ]
  },
  {
   "cell_type": "code",
   "execution_count": 59,
   "metadata": {},
   "outputs": [
    {
     "data": {
      "text/html": [
       "<div>\n",
       "<style scoped>\n",
       "    .dataframe tbody tr th:only-of-type {\n",
       "        vertical-align: middle;\n",
       "    }\n",
       "\n",
       "    .dataframe tbody tr th {\n",
       "        vertical-align: top;\n",
       "    }\n",
       "\n",
       "    .dataframe thead th {\n",
       "        text-align: right;\n",
       "    }\n",
       "</style>\n",
       "<table border=\"1\" class=\"dataframe\">\n",
       "  <thead>\n",
       "    <tr style=\"text-align: right;\">\n",
       "      <th></th>\n",
       "      <th>patient_id</th>\n",
       "      <th>event_id_idx</th>\n",
       "      <th>event_type</th>\n",
       "      <th>value_count</th>\n",
       "      <th>value_sum</th>\n",
       "      <th>value</th>\n",
       "    </tr>\n",
       "  </thead>\n",
       "  <tbody>\n",
       "  </tbody>\n",
       "</table>\n",
       "</div>"
      ],
      "text/plain": [
       "Empty DataFrame\n",
       "Columns: [patient_id, event_id_idx, event_type, value_count, value_sum, value]\n",
       "Index: []"
      ]
     },
     "execution_count": 59,
     "metadata": {},
     "output_type": "execute_result"
    }
   ],
   "source": [
    "events_grouped.loc[events_grouped.value == 0]"
   ]
  },
  {
   "cell_type": "code",
   "execution_count": 60,
   "metadata": {
    "collapsed": true
   },
   "outputs": [],
   "source": [
    "aggregated_events = events_grouped[['patient_id', 'event_id_idx', 'value']]\n",
    "aggregated_events = aggregated_events.rename(columns={'event_id_idx': 'feature_id', 'value': 'feature_value'})"
   ]
  },
  {
   "cell_type": "code",
   "execution_count": 61,
   "metadata": {},
   "outputs": [
    {
     "data": {
      "text/html": [
       "<div>\n",
       "<style scoped>\n",
       "    .dataframe tbody tr th:only-of-type {\n",
       "        vertical-align: middle;\n",
       "    }\n",
       "\n",
       "    .dataframe tbody tr th {\n",
       "        vertical-align: top;\n",
       "    }\n",
       "\n",
       "    .dataframe thead th {\n",
       "        text-align: right;\n",
       "    }\n",
       "</style>\n",
       "<table border=\"1\" class=\"dataframe\">\n",
       "  <thead>\n",
       "    <tr style=\"text-align: right;\">\n",
       "      <th></th>\n",
       "      <th>patient_id</th>\n",
       "      <th>feature_id</th>\n",
       "      <th>feature_value</th>\n",
       "    </tr>\n",
       "  </thead>\n",
       "  <tbody>\n",
       "  </tbody>\n",
       "</table>\n",
       "</div>"
      ],
      "text/plain": [
       "Empty DataFrame\n",
       "Columns: [patient_id, feature_id, feature_value]\n",
       "Index: []"
      ]
     },
     "execution_count": 61,
     "metadata": {},
     "output_type": "execute_result"
    }
   ],
   "source": [
    "aggregated_events.loc[aggregated_events.feature_value == 0]"
   ]
  },
  {
   "cell_type": "code",
   "execution_count": 62,
   "metadata": {},
   "outputs": [
    {
     "data": {
      "text/html": [
       "<div>\n",
       "<style scoped>\n",
       "    .dataframe tbody tr th:only-of-type {\n",
       "        vertical-align: middle;\n",
       "    }\n",
       "\n",
       "    .dataframe tbody tr th {\n",
       "        vertical-align: top;\n",
       "    }\n",
       "\n",
       "    .dataframe thead th {\n",
       "        text-align: right;\n",
       "    }\n",
       "</style>\n",
       "<table border=\"1\" class=\"dataframe\">\n",
       "  <thead>\n",
       "    <tr style=\"text-align: right;\">\n",
       "      <th></th>\n",
       "      <th>patient_id</th>\n",
       "      <th>feature_id</th>\n",
       "      <th>feature_value</th>\n",
       "    </tr>\n",
       "  </thead>\n",
       "  <tbody>\n",
       "    <tr>\n",
       "      <th>0</th>\n",
       "      <td>12</td>\n",
       "      <td>247</td>\n",
       "      <td>1.0</td>\n",
       "    </tr>\n",
       "    <tr>\n",
       "      <th>1</th>\n",
       "      <td>12</td>\n",
       "      <td>346</td>\n",
       "      <td>1.0</td>\n",
       "    </tr>\n",
       "    <tr>\n",
       "      <th>2</th>\n",
       "      <td>12</td>\n",
       "      <td>420</td>\n",
       "      <td>1.0</td>\n",
       "    </tr>\n",
       "    <tr>\n",
       "      <th>3</th>\n",
       "      <td>12</td>\n",
       "      <td>719</td>\n",
       "      <td>1.0</td>\n",
       "    </tr>\n",
       "    <tr>\n",
       "      <th>4</th>\n",
       "      <td>12</td>\n",
       "      <td>729</td>\n",
       "      <td>1.0</td>\n",
       "    </tr>\n",
       "  </tbody>\n",
       "</table>\n",
       "</div>"
      ],
      "text/plain": [
       "   patient_id  feature_id  feature_value\n",
       "0          12         247            1.0\n",
       "1          12         346            1.0\n",
       "2          12         420            1.0\n",
       "3          12         719            1.0\n",
       "4          12         729            1.0"
      ]
     },
     "execution_count": 62,
     "metadata": {},
     "output_type": "execute_result"
    }
   ],
   "source": [
    "aggregated_events.head()"
   ]
  },
  {
   "cell_type": "code",
   "execution_count": 63,
   "metadata": {},
   "outputs": [],
   "source": [
    "feature_min_max = aggregated_events[['feature_id', 'feature_value']].groupby(['feature_id']).agg({'feature_value': ['min', 'max']})\n",
    "feature_min_max.columns = ['_'.join(col).strip() for col in feature_min_max.columns.values]\n",
    "feature_min_max.reset_index(inplace=True)"
   ]
  },
  {
   "cell_type": "code",
   "execution_count": 64,
   "metadata": {},
   "outputs": [
    {
     "data": {
      "text/html": [
       "<div>\n",
       "<style scoped>\n",
       "    .dataframe tbody tr th:only-of-type {\n",
       "        vertical-align: middle;\n",
       "    }\n",
       "\n",
       "    .dataframe tbody tr th {\n",
       "        vertical-align: top;\n",
       "    }\n",
       "\n",
       "    .dataframe thead th {\n",
       "        text-align: right;\n",
       "    }\n",
       "</style>\n",
       "<table border=\"1\" class=\"dataframe\">\n",
       "  <thead>\n",
       "    <tr style=\"text-align: right;\">\n",
       "      <th></th>\n",
       "      <th>feature_id</th>\n",
       "      <th>feature_value_min</th>\n",
       "      <th>feature_value_max</th>\n",
       "    </tr>\n",
       "  </thead>\n",
       "  <tbody>\n",
       "    <tr>\n",
       "      <th>0</th>\n",
       "      <td>1</td>\n",
       "      <td>1.0</td>\n",
       "      <td>1.0</td>\n",
       "    </tr>\n",
       "    <tr>\n",
       "      <th>1</th>\n",
       "      <td>3</td>\n",
       "      <td>1.0</td>\n",
       "      <td>1.0</td>\n",
       "    </tr>\n",
       "    <tr>\n",
       "      <th>2</th>\n",
       "      <td>5</td>\n",
       "      <td>1.0</td>\n",
       "      <td>1.0</td>\n",
       "    </tr>\n",
       "    <tr>\n",
       "      <th>3</th>\n",
       "      <td>7</td>\n",
       "      <td>1.0</td>\n",
       "      <td>1.0</td>\n",
       "    </tr>\n",
       "    <tr>\n",
       "      <th>4</th>\n",
       "      <td>8</td>\n",
       "      <td>1.0</td>\n",
       "      <td>1.0</td>\n",
       "    </tr>\n",
       "  </tbody>\n",
       "</table>\n",
       "</div>"
      ],
      "text/plain": [
       "   feature_id  feature_value_min  feature_value_max\n",
       "0           1                1.0                1.0\n",
       "1           3                1.0                1.0\n",
       "2           5                1.0                1.0\n",
       "3           7                1.0                1.0\n",
       "4           8                1.0                1.0"
      ]
     },
     "execution_count": 64,
     "metadata": {},
     "output_type": "execute_result"
    }
   ],
   "source": [
    "feature_min_max.head()"
   ]
  },
  {
   "cell_type": "code",
   "execution_count": 65,
   "metadata": {
    "collapsed": true
   },
   "outputs": [],
   "source": [
    "aggregated_events = aggregated_events.merge(feature_min_max, on=['feature_id'])"
   ]
  },
  {
   "cell_type": "code",
   "execution_count": 66,
   "metadata": {},
   "outputs": [
    {
     "data": {
      "text/html": [
       "<div>\n",
       "<style scoped>\n",
       "    .dataframe tbody tr th:only-of-type {\n",
       "        vertical-align: middle;\n",
       "    }\n",
       "\n",
       "    .dataframe tbody tr th {\n",
       "        vertical-align: top;\n",
       "    }\n",
       "\n",
       "    .dataframe thead th {\n",
       "        text-align: right;\n",
       "    }\n",
       "</style>\n",
       "<table border=\"1\" class=\"dataframe\">\n",
       "  <thead>\n",
       "    <tr style=\"text-align: right;\">\n",
       "      <th></th>\n",
       "      <th>patient_id</th>\n",
       "      <th>feature_id</th>\n",
       "      <th>feature_value</th>\n",
       "      <th>feature_value_min</th>\n",
       "      <th>feature_value_max</th>\n",
       "    </tr>\n",
       "  </thead>\n",
       "  <tbody>\n",
       "    <tr>\n",
       "      <th>0</th>\n",
       "      <td>12</td>\n",
       "      <td>247</td>\n",
       "      <td>1.0</td>\n",
       "      <td>1.0</td>\n",
       "      <td>2.0</td>\n",
       "    </tr>\n",
       "    <tr>\n",
       "      <th>1</th>\n",
       "      <td>5866</td>\n",
       "      <td>247</td>\n",
       "      <td>1.0</td>\n",
       "      <td>1.0</td>\n",
       "      <td>2.0</td>\n",
       "    </tr>\n",
       "    <tr>\n",
       "      <th>2</th>\n",
       "      <td>5962</td>\n",
       "      <td>247</td>\n",
       "      <td>1.0</td>\n",
       "      <td>1.0</td>\n",
       "      <td>2.0</td>\n",
       "    </tr>\n",
       "    <tr>\n",
       "      <th>3</th>\n",
       "      <td>7391</td>\n",
       "      <td>247</td>\n",
       "      <td>1.0</td>\n",
       "      <td>1.0</td>\n",
       "      <td>2.0</td>\n",
       "    </tr>\n",
       "    <tr>\n",
       "      <th>4</th>\n",
       "      <td>7786</td>\n",
       "      <td>247</td>\n",
       "      <td>1.0</td>\n",
       "      <td>1.0</td>\n",
       "      <td>2.0</td>\n",
       "    </tr>\n",
       "  </tbody>\n",
       "</table>\n",
       "</div>"
      ],
      "text/plain": [
       "   patient_id  feature_id  feature_value  feature_value_min  feature_value_max\n",
       "0          12         247            1.0                1.0                2.0\n",
       "1        5866         247            1.0                1.0                2.0\n",
       "2        5962         247            1.0                1.0                2.0\n",
       "3        7391         247            1.0                1.0                2.0\n",
       "4        7786         247            1.0                1.0                2.0"
      ]
     },
     "execution_count": 66,
     "metadata": {},
     "output_type": "execute_result"
    }
   ],
   "source": [
    "aggregated_events.head()"
   ]
  },
  {
   "cell_type": "code",
   "execution_count": 67,
   "metadata": {},
   "outputs": [],
   "source": [
    "aggregated_events['feature_value_normalized'] = (aggregated_events.feature_value) / (aggregated_events.feature_value_max)"
   ]
  },
  {
   "cell_type": "code",
   "execution_count": 68,
   "metadata": {},
   "outputs": [],
   "source": [
    "aggregated_events = aggregated_events[['patient_id', 'feature_id', 'feature_value_normalized']].rename(columns={'feature_value_normalized': 'feature_value'})"
   ]
  },
  {
   "cell_type": "code",
   "execution_count": 69,
   "metadata": {
    "collapsed": true
   },
   "outputs": [],
   "source": [
    "aggregated_events['patient_id'] = aggregated_events.patient_id.astype(float)\n",
    "aggregated_events['feature_id'] = aggregated_events.feature_id.astype(float)"
   ]
  },
  {
   "cell_type": "code",
   "execution_count": 70,
   "metadata": {},
   "outputs": [
    {
     "data": {
      "text/html": [
       "<div>\n",
       "<style scoped>\n",
       "    .dataframe tbody tr th:only-of-type {\n",
       "        vertical-align: middle;\n",
       "    }\n",
       "\n",
       "    .dataframe tbody tr th {\n",
       "        vertical-align: top;\n",
       "    }\n",
       "\n",
       "    .dataframe thead th {\n",
       "        text-align: right;\n",
       "    }\n",
       "</style>\n",
       "<table border=\"1\" class=\"dataframe\">\n",
       "  <thead>\n",
       "    <tr style=\"text-align: right;\">\n",
       "      <th></th>\n",
       "      <th>patient_id</th>\n",
       "      <th>feature_id</th>\n",
       "      <th>feature_value</th>\n",
       "    </tr>\n",
       "  </thead>\n",
       "  <tbody>\n",
       "    <tr>\n",
       "      <th>0</th>\n",
       "      <td>12.0</td>\n",
       "      <td>247.0</td>\n",
       "      <td>0.5</td>\n",
       "    </tr>\n",
       "    <tr>\n",
       "      <th>1</th>\n",
       "      <td>5866.0</td>\n",
       "      <td>247.0</td>\n",
       "      <td>0.5</td>\n",
       "    </tr>\n",
       "    <tr>\n",
       "      <th>2</th>\n",
       "      <td>5962.0</td>\n",
       "      <td>247.0</td>\n",
       "      <td>0.5</td>\n",
       "    </tr>\n",
       "    <tr>\n",
       "      <th>3</th>\n",
       "      <td>7391.0</td>\n",
       "      <td>247.0</td>\n",
       "      <td>0.5</td>\n",
       "    </tr>\n",
       "    <tr>\n",
       "      <th>4</th>\n",
       "      <td>7786.0</td>\n",
       "      <td>247.0</td>\n",
       "      <td>0.5</td>\n",
       "    </tr>\n",
       "  </tbody>\n",
       "</table>\n",
       "</div>"
      ],
      "text/plain": [
       "   patient_id  feature_id  feature_value\n",
       "0        12.0       247.0            0.5\n",
       "1      5866.0       247.0            0.5\n",
       "2      5962.0       247.0            0.5\n",
       "3      7391.0       247.0            0.5\n",
       "4      7786.0       247.0            0.5"
      ]
     },
     "execution_count": 70,
     "metadata": {},
     "output_type": "execute_result"
    }
   ],
   "source": [
    "aggregated_events.head()"
   ]
  },
  {
   "cell_type": "code",
   "execution_count": 71,
   "metadata": {},
   "outputs": [
    {
     "name": "stdout",
     "output_type": "stream",
     "text": [
      "0.0018975332068311196 1.0\n"
     ]
    }
   ],
   "source": [
    "# Checking that aggregated_events is normalized properly, min is 0 and max is 1\n",
    "print(min(aggregated_events.feature_value), max(aggregated_events.feature_value))"
   ]
  },
  {
   "cell_type": "markdown",
   "metadata": {},
   "source": [
    "## Create Features"
   ]
  },
  {
   "cell_type": "code",
   "execution_count": 72,
   "metadata": {
    "collapsed": true
   },
   "outputs": [],
   "source": [
    "mortality_df = events[['patient_id']].drop_duplicates().reset_index(drop=True)"
   ]
  },
  {
   "cell_type": "code",
   "execution_count": 73,
   "metadata": {
    "collapsed": true
   },
   "outputs": [],
   "source": [
    "mortality_df = mortality_df.merge(mortality[['patient_id', 'label']], how='left', on='patient_id')\n",
    "mortality_df.rename(index=str, columns={'label': 'is_deceased'}, inplace=True)\n",
    "mortality_df.is_deceased.fillna(0, inplace=True)"
   ]
  },
  {
   "cell_type": "code",
   "execution_count": 74,
   "metadata": {
    "collapsed": true
   },
   "outputs": [],
   "source": [
    "mortality_dict = dict(zip(mortality_df.patient_id, mortality_df.is_deceased))"
   ]
  },
  {
   "cell_type": "markdown",
   "metadata": {},
   "source": [
    "Next, Patient Features"
   ]
  },
  {
   "cell_type": "code",
   "execution_count": 75,
   "metadata": {
    "collapsed": true
   },
   "outputs": [],
   "source": [
    "aggregated_events.sort_values(['patient_id', 'feature_id'], inplace=True)"
   ]
  },
  {
   "cell_type": "code",
   "execution_count": 76,
   "metadata": {},
   "outputs": [
    {
     "data": {
      "text/html": [
       "<div>\n",
       "<style scoped>\n",
       "    .dataframe tbody tr th:only-of-type {\n",
       "        vertical-align: middle;\n",
       "    }\n",
       "\n",
       "    .dataframe tbody tr th {\n",
       "        vertical-align: top;\n",
       "    }\n",
       "\n",
       "    .dataframe thead th {\n",
       "        text-align: right;\n",
       "    }\n",
       "</style>\n",
       "<table border=\"1\" class=\"dataframe\">\n",
       "  <thead>\n",
       "    <tr style=\"text-align: right;\">\n",
       "      <th></th>\n",
       "      <th>patient_id</th>\n",
       "      <th>feature_id</th>\n",
       "      <th>feature_value</th>\n",
       "    </tr>\n",
       "  </thead>\n",
       "  <tbody>\n",
       "    <tr>\n",
       "      <th>0</th>\n",
       "      <td>12.0</td>\n",
       "      <td>247.0</td>\n",
       "      <td>0.50</td>\n",
       "    </tr>\n",
       "    <tr>\n",
       "      <th>8</th>\n",
       "      <td>12.0</td>\n",
       "      <td>346.0</td>\n",
       "      <td>0.50</td>\n",
       "    </tr>\n",
       "    <tr>\n",
       "      <th>14</th>\n",
       "      <td>12.0</td>\n",
       "      <td>420.0</td>\n",
       "      <td>1.00</td>\n",
       "    </tr>\n",
       "    <tr>\n",
       "      <th>18</th>\n",
       "      <td>12.0</td>\n",
       "      <td>719.0</td>\n",
       "      <td>0.25</td>\n",
       "    </tr>\n",
       "    <tr>\n",
       "      <th>306</th>\n",
       "      <td>12.0</td>\n",
       "      <td>729.0</td>\n",
       "      <td>1.00</td>\n",
       "    </tr>\n",
       "  </tbody>\n",
       "</table>\n",
       "</div>"
      ],
      "text/plain": [
       "     patient_id  feature_id  feature_value\n",
       "0          12.0       247.0           0.50\n",
       "8          12.0       346.0           0.50\n",
       "14         12.0       420.0           1.00\n",
       "18         12.0       719.0           0.25\n",
       "306        12.0       729.0           1.00"
      ]
     },
     "execution_count": 76,
     "metadata": {},
     "output_type": "execute_result"
    }
   ],
   "source": [
    "aggregated_events.head()"
   ]
  },
  {
   "cell_type": "code",
   "execution_count": 77,
   "metadata": {
    "collapsed": true
   },
   "outputs": [],
   "source": [
    "patient_features = {}\n",
    "patients = events.patient_id.drop_duplicates()"
   ]
  },
  {
   "cell_type": "code",
   "execution_count": 78,
   "metadata": {
    "collapsed": true
   },
   "outputs": [],
   "source": [
    "for p in patients:\n",
    "    patient_features[p] = []"
   ]
  },
  {
   "cell_type": "code",
   "execution_count": 79,
   "metadata": {
    "collapsed": true
   },
   "outputs": [],
   "source": [
    "for index, row in aggregated_events.iterrows():\n",
    "    patient_features[row.patient_id].append((row.feature_id, row.feature_value))"
   ]
  },
  {
   "cell_type": "code",
   "execution_count": 80,
   "metadata": {
    "collapsed": true
   },
   "outputs": [],
   "source": [
    "patients.sort_values(inplace=True)"
   ]
  },
  {
   "cell_type": "code",
   "execution_count": 81,
   "metadata": {},
   "outputs": [
    {
     "data": {
      "text/plain": [
       "[(247.0, 0.5),\n",
       " (346.0, 0.5),\n",
       " (420.0, 1.0),\n",
       " (719.0, 0.25),\n",
       " (729.0, 1.0),\n",
       " (736.0, 1.0),\n",
       " (1317.0, 0.5),\n",
       " (1658.0, 1.0),\n",
       " (1832.0, 1.0),\n",
       " (2075.0, 0.15),\n",
       " (2092.0, 0.2),\n",
       " (2193.0, 0.3),\n",
       " (2221.0, 0.16666666666666666),\n",
       " (2232.0, 0.4),\n",
       " (2272.0, 0.058823529411764705),\n",
       " (2280.0, 0.3333333333333333),\n",
       " (2282.0, 0.041666666666666664),\n",
       " (2332.0, 0.09090909090909091),\n",
       " (2343.0, 0.10344827586206896),\n",
       " (2347.0, 0.06666666666666667),\n",
       " (2350.0, 0.04285714285714286),\n",
       " (2378.0, 0.3076923076923077),\n",
       " (2383.0, 0.125),\n",
       " (2400.0, 0.2857142857142857),\n",
       " (2414.0, 0.09090909090909091),\n",
       " (2447.0, 0.0375),\n",
       " (2448.0, 0.010869565217391304),\n",
       " (2453.0, 0.0967741935483871),\n",
       " (2475.0, 0.029411764705882353),\n",
       " (2491.0, 0.1111111111111111),\n",
       " (2498.0, 0.20833333333333334),\n",
       " (2543.0, 0.05673758865248227),\n",
       " (2593.0, 0.18518518518518517),\n",
       " (2599.0, 0.043478260869565216),\n",
       " (2612.0, 0.2222222222222222),\n",
       " (2635.0, 0.027777777777777776),\n",
       " (2640.0, 0.1111111111111111),\n",
       " (2682.0, 0.13043478260869565),\n",
       " (2684.0, 0.0625),\n",
       " (2688.0, 0.07731958762886598),\n",
       " (2696.0, 0.06132075471698113),\n",
       " (2697.0, 0.0851063829787234),\n",
       " (2702.0, 0.04918032786885246),\n",
       " (2713.0, 0.03225806451612903),\n",
       " (2716.0, 0.1),\n",
       " (2721.0, 0.0387409200968523),\n",
       " (2723.0, 0.07602339181286549),\n",
       " (2736.0, 0.0387409200968523),\n",
       " (2751.0, 0.04096385542168675),\n",
       " (2759.0, 0.08823529411764706),\n",
       " (2760.0, 0.12727272727272726),\n",
       " (2766.0, 0.06077348066298342),\n",
       " (2779.0, 0.0625),\n",
       " (2785.0, 0.03571428571428571),\n",
       " (2787.0, 0.1076388888888889),\n",
       " (2789.0, 0.042042042042042045),\n",
       " (2790.0, 0.08450704225352113),\n",
       " (2795.0, 0.015706806282722512),\n",
       " (2798.0, 0.047619047619047616),\n",
       " (2799.0, 0.043583535108958835),\n",
       " (2824.0, 0.056925996204933584),\n",
       " (2839.0, 0.10508474576271186),\n",
       " (2841.0, 0.0387409200968523),\n",
       " (2859.0, 0.04491017964071856),\n",
       " (2860.0, 0.11764705882352941),\n",
       " (2864.0, 0.1111111111111111),\n",
       " (2866.0, 0.14285714285714285),\n",
       " (2868.0, 0.375),\n",
       " (2871.0, 0.10752688172043011),\n",
       " (2874.0, 0.08024691358024691),\n",
       " (2875.0, 0.06451612903225806),\n",
       " (2876.0, 0.013513513513513514),\n",
       " (2880.0, 0.03579952267303103),\n",
       " (2881.0, 0.08450704225352113),\n",
       " (2891.0, 0.0625),\n",
       " (2902.0, 0.03836930455635491),\n",
       " (2903.0, 0.06896551724137931),\n",
       " (2904.0, 0.046153846153846156),\n",
       " (2911.0, 0.03537735849056604),\n",
       " (2914.0, 0.12903225806451613),\n",
       " (2920.0, 0.05),\n",
       " (2923.0, 0.03225806451612903),\n",
       " (2931.0, 0.05176470588235294),\n",
       " (2938.0, 0.03225806451612903),\n",
       " (2948.0, 0.03836930455635491),\n",
       " (2967.0, 0.09950248756218906),\n",
       " (2992.0, 0.024390243902439025),\n",
       " (2995.0, 0.04328018223234624),\n",
       " (3005.0, 0.08450704225352113),\n",
       " (3008.0, 0.035398230088495575),\n",
       " (3010.0, 0.0387409200968523),\n",
       " (3011.0, 0.03260869565217391),\n",
       " (3030.0, 0.0387409200968523),\n",
       " (3045.0, 0.10752688172043011),\n",
       " (3049.0, 0.05454545454545454),\n",
       " (3063.0, 0.03125),\n",
       " (3094.0, 0.07602339181286549),\n",
       " (3099.0, 0.02857142857142857),\n",
       " (3113.0, 0.08333333333333333),\n",
       " (3119.0, 0.07142857142857142),\n",
       " (3122.0, 0.0387409200968523),\n",
       " (3147.0, 0.03855421686746988),\n",
       " (3171.0, 0.2),\n",
       " (3173.0, 0.01098901098901099)]"
      ]
     },
     "execution_count": 81,
     "metadata": {},
     "output_type": "execute_result"
    }
   ],
   "source": [
    "patient_features[12]"
   ]
  },
  {
   "cell_type": "code",
   "execution_count": 82,
   "metadata": {
    "collapsed": true
   },
   "outputs": [],
   "source": [
    "patients = [1, 5, 3]"
   ]
  },
  {
   "cell_type": "code",
   "execution_count": 83,
   "metadata": {
    "collapsed": true
   },
   "outputs": [],
   "source": [
    "patients.sort()"
   ]
  },
  {
   "cell_type": "code",
   "execution_count": 84,
   "metadata": {},
   "outputs": [
    {
     "data": {
      "text/plain": [
       "[1, 3, 5]"
      ]
     },
     "execution_count": 84,
     "metadata": {},
     "output_type": "execute_result"
    }
   ],
   "source": [
    "patients"
   ]
  },
  {
   "cell_type": "code",
   "execution_count": 86,
   "metadata": {},
   "outputs": [
    {
     "data": {
      "text/html": [
       "<div>\n",
       "<style scoped>\n",
       "    .dataframe tbody tr th:only-of-type {\n",
       "        vertical-align: middle;\n",
       "    }\n",
       "\n",
       "    .dataframe tbody tr th {\n",
       "        vertical-align: top;\n",
       "    }\n",
       "\n",
       "    .dataframe thead th {\n",
       "        text-align: right;\n",
       "    }\n",
       "</style>\n",
       "<table border=\"1\" class=\"dataframe\">\n",
       "  <thead>\n",
       "    <tr style=\"text-align: right;\">\n",
       "      <th></th>\n",
       "      <th>patient_id</th>\n",
       "      <th>event_id</th>\n",
       "      <th>event_description</th>\n",
       "      <th>timestamp</th>\n",
       "      <th>value</th>\n",
       "    </tr>\n",
       "  </thead>\n",
       "  <tbody>\n",
       "    <tr>\n",
       "      <th>11168</th>\n",
       "      <td>13621</td>\n",
       "      <td>LAB3005707</td>\n",
       "      <td>Macrocytes [Presence] in Blood</td>\n",
       "      <td>2015-09-17</td>\n",
       "      <td>NaN</td>\n",
       "    </tr>\n",
       "    <tr>\n",
       "      <th>11169</th>\n",
       "      <td>13621</td>\n",
       "      <td>LAB3025639</td>\n",
       "      <td>Microcytes [Presence] in Blood</td>\n",
       "      <td>2015-09-17</td>\n",
       "      <td>NaN</td>\n",
       "    </tr>\n",
       "    <tr>\n",
       "      <th>11170</th>\n",
       "      <td>13621</td>\n",
       "      <td>LAB3011987</td>\n",
       "      <td>Polychromasia [Presence] in Blood by Light mic...</td>\n",
       "      <td>2015-09-17</td>\n",
       "      <td>NaN</td>\n",
       "    </tr>\n",
       "    <tr>\n",
       "      <th>11171</th>\n",
       "      <td>13621</td>\n",
       "      <td>LAB3025616</td>\n",
       "      <td>Target cells [Presence] in Blood by Light micr...</td>\n",
       "      <td>2015-09-17</td>\n",
       "      <td>NaN</td>\n",
       "    </tr>\n",
       "    <tr>\n",
       "      <th>11172</th>\n",
       "      <td>13621</td>\n",
       "      <td>LAB3019880</td>\n",
       "      <td>Schistocytes [Presence] in Blood by Light micr...</td>\n",
       "      <td>2015-09-17</td>\n",
       "      <td>NaN</td>\n",
       "    </tr>\n",
       "    <tr>\n",
       "      <th>11173</th>\n",
       "      <td>13621</td>\n",
       "      <td>LAB3005854</td>\n",
       "      <td>Burr cells [Presence] in Blood by Light micros...</td>\n",
       "      <td>2015-09-17</td>\n",
       "      <td>NaN</td>\n",
       "    </tr>\n",
       "    <tr>\n",
       "      <th>11183</th>\n",
       "      <td>13621</td>\n",
       "      <td>LAB3004809</td>\n",
       "      <td>Neutrophils.band form/100 leukocytes in Blood</td>\n",
       "      <td>2015-09-17</td>\n",
       "      <td>NaN</td>\n",
       "    </tr>\n",
       "    <tr>\n",
       "      <th>11186</th>\n",
       "      <td>13621</td>\n",
       "      <td>LAB3006504</td>\n",
       "      <td>Eosinophils/100 leukocytes in Blood</td>\n",
       "      <td>2015-09-17</td>\n",
       "      <td>NaN</td>\n",
       "    </tr>\n",
       "    <tr>\n",
       "      <th>11187</th>\n",
       "      <td>13621</td>\n",
       "      <td>LAB3022096</td>\n",
       "      <td>Basophils/100 leukocytes in Blood</td>\n",
       "      <td>2015-09-17</td>\n",
       "      <td>NaN</td>\n",
       "    </tr>\n",
       "    <tr>\n",
       "      <th>11189</th>\n",
       "      <td>13621</td>\n",
       "      <td>LAB3002179</td>\n",
       "      <td>Metamyelocytes/100 leukocytes in Blood</td>\n",
       "      <td>2015-09-17</td>\n",
       "      <td>NaN</td>\n",
       "    </tr>\n",
       "    <tr>\n",
       "      <th>11190</th>\n",
       "      <td>13621</td>\n",
       "      <td>LAB3017181</td>\n",
       "      <td>Myelocytes/100 leukocytes in Blood</td>\n",
       "      <td>2015-09-17</td>\n",
       "      <td>NaN</td>\n",
       "    </tr>\n",
       "    <tr>\n",
       "      <th>11191</th>\n",
       "      <td>13621</td>\n",
       "      <td>LAB3021303</td>\n",
       "      <td>Hypochromia [Presence] in Blood by Light micro...</td>\n",
       "      <td>2015-09-17</td>\n",
       "      <td>NaN</td>\n",
       "    </tr>\n",
       "    <tr>\n",
       "      <th>11192</th>\n",
       "      <td>13621</td>\n",
       "      <td>LAB3038691</td>\n",
       "      <td>Anisocytosis [Presence] in Blood</td>\n",
       "      <td>2015-09-17</td>\n",
       "      <td>NaN</td>\n",
       "    </tr>\n",
       "    <tr>\n",
       "      <th>11193</th>\n",
       "      <td>13621</td>\n",
       "      <td>LAB3011368</td>\n",
       "      <td>Poikilocytosis [Presence] in Blood by Light mi...</td>\n",
       "      <td>2015-09-17</td>\n",
       "      <td>NaN</td>\n",
       "    </tr>\n",
       "    <tr>\n",
       "      <th>11194</th>\n",
       "      <td>13621</td>\n",
       "      <td>LAB3000456</td>\n",
       "      <td>Dacrocytes [Presence] in Blood by Light micros...</td>\n",
       "      <td>2015-09-17</td>\n",
       "      <td>NaN</td>\n",
       "    </tr>\n",
       "    <tr>\n",
       "      <th>11230</th>\n",
       "      <td>14655</td>\n",
       "      <td>LAB3033745</td>\n",
       "      <td>Troponin I.cardiac [Mass/volume] in Blood</td>\n",
       "      <td>2009-12-27</td>\n",
       "      <td>NaN</td>\n",
       "    </tr>\n",
       "    <tr>\n",
       "      <th>11250</th>\n",
       "      <td>14655</td>\n",
       "      <td>LAB3010189</td>\n",
       "      <td>Epithelial cells [#/area] in Urine sediment by...</td>\n",
       "      <td>2009-12-27</td>\n",
       "      <td>NaN</td>\n",
       "    </tr>\n",
       "    <tr>\n",
       "      <th>11251</th>\n",
       "      <td>14655</td>\n",
       "      <td>LAB3000259</td>\n",
       "      <td>Yeast [Presence] in Urine sediment by Light mi...</td>\n",
       "      <td>2009-12-27</td>\n",
       "      <td>NaN</td>\n",
       "    </tr>\n",
       "    <tr>\n",
       "      <th>11252</th>\n",
       "      <td>14655</td>\n",
       "      <td>LAB3004562</td>\n",
       "      <td>Bacteria [Presence] in Urine sediment by Light...</td>\n",
       "      <td>2009-12-27</td>\n",
       "      <td>NaN</td>\n",
       "    </tr>\n",
       "    <tr>\n",
       "      <th>11253</th>\n",
       "      <td>14655</td>\n",
       "      <td>LAB3035583</td>\n",
       "      <td>Leukocytes [#/area] in Urine sediment by Micro...</td>\n",
       "      <td>2009-12-27</td>\n",
       "      <td>NaN</td>\n",
       "    </tr>\n",
       "    <tr>\n",
       "      <th>11254</th>\n",
       "      <td>14655</td>\n",
       "      <td>LAB3035124</td>\n",
       "      <td>Erythrocytes [#/area] in Urine sediment by Mic...</td>\n",
       "      <td>2009-12-27</td>\n",
       "      <td>NaN</td>\n",
       "    </tr>\n",
       "    <tr>\n",
       "      <th>11255</th>\n",
       "      <td>14655</td>\n",
       "      <td>LAB3045414</td>\n",
       "      <td>Leukocytes [Presence] in Urine</td>\n",
       "      <td>2009-12-27</td>\n",
       "      <td>NaN</td>\n",
       "    </tr>\n",
       "    <tr>\n",
       "      <th>11258</th>\n",
       "      <td>14655</td>\n",
       "      <td>LAB3011258</td>\n",
       "      <td>Bilirubin.total [Presence] in Urine</td>\n",
       "      <td>2009-12-27</td>\n",
       "      <td>NaN</td>\n",
       "    </tr>\n",
       "    <tr>\n",
       "      <th>11259</th>\n",
       "      <td>14655</td>\n",
       "      <td>LAB3032459</td>\n",
       "      <td>Ketones [Mass/volume] in Urine</td>\n",
       "      <td>2009-12-27</td>\n",
       "      <td>NaN</td>\n",
       "    </tr>\n",
       "    <tr>\n",
       "      <th>11260</th>\n",
       "      <td>14655</td>\n",
       "      <td>LAB3020399</td>\n",
       "      <td>Glucose [Mass/volume] in Urine</td>\n",
       "      <td>2009-12-27</td>\n",
       "      <td>NaN</td>\n",
       "    </tr>\n",
       "    <tr>\n",
       "      <th>11262</th>\n",
       "      <td>14655</td>\n",
       "      <td>LAB3021601</td>\n",
       "      <td>Nitrite [Presence] in Urine by Test strip</td>\n",
       "      <td>2009-12-27</td>\n",
       "      <td>NaN</td>\n",
       "    </tr>\n",
       "    <tr>\n",
       "      <th>11263</th>\n",
       "      <td>14655</td>\n",
       "      <td>LAB3011397</td>\n",
       "      <td>Hemoglobin [Presence] in Urine by Test strip</td>\n",
       "      <td>2009-12-27</td>\n",
       "      <td>NaN</td>\n",
       "    </tr>\n",
       "    <tr>\n",
       "      <th>11265</th>\n",
       "      <td>14655</td>\n",
       "      <td>LAB3007876</td>\n",
       "      <td>Appearance of Urine</td>\n",
       "      <td>2009-12-27</td>\n",
       "      <td>NaN</td>\n",
       "    </tr>\n",
       "    <tr>\n",
       "      <th>11266</th>\n",
       "      <td>14655</td>\n",
       "      <td>LAB3027162</td>\n",
       "      <td>Color of Urine</td>\n",
       "      <td>2009-12-27</td>\n",
       "      <td>NaN</td>\n",
       "    </tr>\n",
       "    <tr>\n",
       "      <th>11271</th>\n",
       "      <td>14655</td>\n",
       "      <td>LAB3017181</td>\n",
       "      <td>Myelocytes/100 leukocytes in Blood</td>\n",
       "      <td>2009-12-27</td>\n",
       "      <td>NaN</td>\n",
       "    </tr>\n",
       "    <tr>\n",
       "      <th>...</th>\n",
       "      <td>...</td>\n",
       "      <td>...</td>\n",
       "      <td>...</td>\n",
       "      <td>...</td>\n",
       "      <td>...</td>\n",
       "    </tr>\n",
       "    <tr>\n",
       "      <th>680552</th>\n",
       "      <td>7597</td>\n",
       "      <td>LAB3007876</td>\n",
       "      <td>Appearance of Urine</td>\n",
       "      <td>2012-06-23</td>\n",
       "      <td>NaN</td>\n",
       "    </tr>\n",
       "    <tr>\n",
       "      <th>680569</th>\n",
       "      <td>7597</td>\n",
       "      <td>LAB3012501</td>\n",
       "      <td>Base excess in Blood</td>\n",
       "      <td>2012-06-24</td>\n",
       "      <td>NaN</td>\n",
       "    </tr>\n",
       "    <tr>\n",
       "      <th>680600</th>\n",
       "      <td>7597</td>\n",
       "      <td>LAB3012501</td>\n",
       "      <td>Base excess in Blood</td>\n",
       "      <td>2012-06-25</td>\n",
       "      <td>NaN</td>\n",
       "    </tr>\n",
       "    <tr>\n",
       "      <th>680797</th>\n",
       "      <td>14646</td>\n",
       "      <td>LAB3019107</td>\n",
       "      <td>Acetylsalicylate [Mass/volume] in Serum or Plasma</td>\n",
       "      <td>2012-03-20</td>\n",
       "      <td>NaN</td>\n",
       "    </tr>\n",
       "    <tr>\n",
       "      <th>680799</th>\n",
       "      <td>14646</td>\n",
       "      <td>LAB3002617</td>\n",
       "      <td>Acetaminophen [Mass/volume] in Serum or Plasma</td>\n",
       "      <td>2012-03-20</td>\n",
       "      <td>NaN</td>\n",
       "    </tr>\n",
       "    <tr>\n",
       "      <th>680813</th>\n",
       "      <td>14646</td>\n",
       "      <td>LAB3022096</td>\n",
       "      <td>Basophils/100 leukocytes in Blood</td>\n",
       "      <td>2012-03-20</td>\n",
       "      <td>NaN</td>\n",
       "    </tr>\n",
       "    <tr>\n",
       "      <th>680816</th>\n",
       "      <td>14646</td>\n",
       "      <td>LAB3017181</td>\n",
       "      <td>Myelocytes/100 leukocytes in Blood</td>\n",
       "      <td>2012-03-20</td>\n",
       "      <td>NaN</td>\n",
       "    </tr>\n",
       "    <tr>\n",
       "      <th>680817</th>\n",
       "      <td>14646</td>\n",
       "      <td>LAB3021303</td>\n",
       "      <td>Hypochromia [Presence] in Blood by Light micro...</td>\n",
       "      <td>2012-03-20</td>\n",
       "      <td>NaN</td>\n",
       "    </tr>\n",
       "    <tr>\n",
       "      <th>680823</th>\n",
       "      <td>14646</td>\n",
       "      <td>LAB3016750</td>\n",
       "      <td>Collection duration of Urine</td>\n",
       "      <td>2012-03-20</td>\n",
       "      <td>NaN</td>\n",
       "    </tr>\n",
       "    <tr>\n",
       "      <th>680824</th>\n",
       "      <td>14646</td>\n",
       "      <td>LAB3000764</td>\n",
       "      <td>Benzodiazepines [Presence] in Urine</td>\n",
       "      <td>2012-03-20</td>\n",
       "      <td>NaN</td>\n",
       "    </tr>\n",
       "    <tr>\n",
       "      <th>680825</th>\n",
       "      <td>14646</td>\n",
       "      <td>LAB3002020</td>\n",
       "      <td>Barbiturates [Presence] in Urine</td>\n",
       "      <td>2012-03-20</td>\n",
       "      <td>NaN</td>\n",
       "    </tr>\n",
       "    <tr>\n",
       "      <th>680826</th>\n",
       "      <td>14646</td>\n",
       "      <td>LAB3027008</td>\n",
       "      <td>Opiates [Presence] in Urine</td>\n",
       "      <td>2012-03-20</td>\n",
       "      <td>NaN</td>\n",
       "    </tr>\n",
       "    <tr>\n",
       "      <th>680827</th>\n",
       "      <td>14646</td>\n",
       "      <td>LAB3016879</td>\n",
       "      <td>Cocaine [Presence] in Urine</td>\n",
       "      <td>2012-03-20</td>\n",
       "      <td>NaN</td>\n",
       "    </tr>\n",
       "    <tr>\n",
       "      <th>680828</th>\n",
       "      <td>14646</td>\n",
       "      <td>LAB3027944</td>\n",
       "      <td>Amphetamines [Presence] in Urine</td>\n",
       "      <td>2012-03-20</td>\n",
       "      <td>NaN</td>\n",
       "    </tr>\n",
       "    <tr>\n",
       "      <th>680829</th>\n",
       "      <td>14646</td>\n",
       "      <td>LAB3036180</td>\n",
       "      <td>Methadone [Presence] in Urine</td>\n",
       "      <td>2012-03-20</td>\n",
       "      <td>NaN</td>\n",
       "    </tr>\n",
       "    <tr>\n",
       "      <th>680830</th>\n",
       "      <td>14646</td>\n",
       "      <td>LAB3027162</td>\n",
       "      <td>Color of Urine</td>\n",
       "      <td>2012-03-20</td>\n",
       "      <td>NaN</td>\n",
       "    </tr>\n",
       "    <tr>\n",
       "      <th>680831</th>\n",
       "      <td>14646</td>\n",
       "      <td>LAB3007876</td>\n",
       "      <td>Appearance of Urine</td>\n",
       "      <td>2012-03-20</td>\n",
       "      <td>NaN</td>\n",
       "    </tr>\n",
       "    <tr>\n",
       "      <th>680833</th>\n",
       "      <td>14646</td>\n",
       "      <td>LAB3011397</td>\n",
       "      <td>Hemoglobin [Presence] in Urine by Test strip</td>\n",
       "      <td>2012-03-20</td>\n",
       "      <td>NaN</td>\n",
       "    </tr>\n",
       "    <tr>\n",
       "      <th>680834</th>\n",
       "      <td>14646</td>\n",
       "      <td>LAB3021601</td>\n",
       "      <td>Nitrite [Presence] in Urine by Test strip</td>\n",
       "      <td>2012-03-20</td>\n",
       "      <td>NaN</td>\n",
       "    </tr>\n",
       "    <tr>\n",
       "      <th>680835</th>\n",
       "      <td>14646</td>\n",
       "      <td>LAB3005897</td>\n",
       "      <td>Protein [Mass/volume] in Urine by Test strip</td>\n",
       "      <td>2012-03-20</td>\n",
       "      <td>NaN</td>\n",
       "    </tr>\n",
       "    <tr>\n",
       "      <th>680836</th>\n",
       "      <td>14646</td>\n",
       "      <td>LAB3020399</td>\n",
       "      <td>Glucose [Mass/volume] in Urine</td>\n",
       "      <td>2012-03-20</td>\n",
       "      <td>NaN</td>\n",
       "    </tr>\n",
       "    <tr>\n",
       "      <th>680837</th>\n",
       "      <td>14646</td>\n",
       "      <td>LAB3032459</td>\n",
       "      <td>Ketones [Mass/volume] in Urine</td>\n",
       "      <td>2012-03-20</td>\n",
       "      <td>NaN</td>\n",
       "    </tr>\n",
       "    <tr>\n",
       "      <th>680838</th>\n",
       "      <td>14646</td>\n",
       "      <td>LAB3011258</td>\n",
       "      <td>Bilirubin.total [Presence] in Urine</td>\n",
       "      <td>2012-03-20</td>\n",
       "      <td>NaN</td>\n",
       "    </tr>\n",
       "    <tr>\n",
       "      <th>680839</th>\n",
       "      <td>14646</td>\n",
       "      <td>LAB3007950</td>\n",
       "      <td>Urobilinogen [Mass/volume] in Urine</td>\n",
       "      <td>2012-03-20</td>\n",
       "      <td>NaN</td>\n",
       "    </tr>\n",
       "    <tr>\n",
       "      <th>680841</th>\n",
       "      <td>14646</td>\n",
       "      <td>LAB3045414</td>\n",
       "      <td>Leukocytes [Presence] in Urine</td>\n",
       "      <td>2012-03-20</td>\n",
       "      <td>NaN</td>\n",
       "    </tr>\n",
       "    <tr>\n",
       "      <th>680842</th>\n",
       "      <td>14646</td>\n",
       "      <td>LAB3035124</td>\n",
       "      <td>Erythrocytes [#/area] in Urine sediment by Mic...</td>\n",
       "      <td>2012-03-20</td>\n",
       "      <td>NaN</td>\n",
       "    </tr>\n",
       "    <tr>\n",
       "      <th>680843</th>\n",
       "      <td>14646</td>\n",
       "      <td>LAB3035583</td>\n",
       "      <td>Leukocytes [#/area] in Urine sediment by Micro...</td>\n",
       "      <td>2012-03-20</td>\n",
       "      <td>NaN</td>\n",
       "    </tr>\n",
       "    <tr>\n",
       "      <th>680844</th>\n",
       "      <td>14646</td>\n",
       "      <td>LAB3004562</td>\n",
       "      <td>Bacteria [Presence] in Urine sediment by Light...</td>\n",
       "      <td>2012-03-20</td>\n",
       "      <td>NaN</td>\n",
       "    </tr>\n",
       "    <tr>\n",
       "      <th>680845</th>\n",
       "      <td>14646</td>\n",
       "      <td>LAB3000259</td>\n",
       "      <td>Yeast [Presence] in Urine sediment by Light mi...</td>\n",
       "      <td>2012-03-20</td>\n",
       "      <td>NaN</td>\n",
       "    </tr>\n",
       "    <tr>\n",
       "      <th>680846</th>\n",
       "      <td>14646</td>\n",
       "      <td>LAB3010189</td>\n",
       "      <td>Epithelial cells [#/area] in Urine sediment by...</td>\n",
       "      <td>2012-03-20</td>\n",
       "      <td>NaN</td>\n",
       "    </tr>\n",
       "  </tbody>\n",
       "</table>\n",
       "<p>72549 rows × 5 columns</p>\n",
       "</div>"
      ],
      "text/plain": [
       "        patient_id    event_id  \\\n",
       "11168        13621  LAB3005707   \n",
       "11169        13621  LAB3025639   \n",
       "11170        13621  LAB3011987   \n",
       "11171        13621  LAB3025616   \n",
       "11172        13621  LAB3019880   \n",
       "11173        13621  LAB3005854   \n",
       "11183        13621  LAB3004809   \n",
       "11186        13621  LAB3006504   \n",
       "11187        13621  LAB3022096   \n",
       "11189        13621  LAB3002179   \n",
       "11190        13621  LAB3017181   \n",
       "11191        13621  LAB3021303   \n",
       "11192        13621  LAB3038691   \n",
       "11193        13621  LAB3011368   \n",
       "11194        13621  LAB3000456   \n",
       "11230        14655  LAB3033745   \n",
       "11250        14655  LAB3010189   \n",
       "11251        14655  LAB3000259   \n",
       "11252        14655  LAB3004562   \n",
       "11253        14655  LAB3035583   \n",
       "11254        14655  LAB3035124   \n",
       "11255        14655  LAB3045414   \n",
       "11258        14655  LAB3011258   \n",
       "11259        14655  LAB3032459   \n",
       "11260        14655  LAB3020399   \n",
       "11262        14655  LAB3021601   \n",
       "11263        14655  LAB3011397   \n",
       "11265        14655  LAB3007876   \n",
       "11266        14655  LAB3027162   \n",
       "11271        14655  LAB3017181   \n",
       "...            ...         ...   \n",
       "680552        7597  LAB3007876   \n",
       "680569        7597  LAB3012501   \n",
       "680600        7597  LAB3012501   \n",
       "680797       14646  LAB3019107   \n",
       "680799       14646  LAB3002617   \n",
       "680813       14646  LAB3022096   \n",
       "680816       14646  LAB3017181   \n",
       "680817       14646  LAB3021303   \n",
       "680823       14646  LAB3016750   \n",
       "680824       14646  LAB3000764   \n",
       "680825       14646  LAB3002020   \n",
       "680826       14646  LAB3027008   \n",
       "680827       14646  LAB3016879   \n",
       "680828       14646  LAB3027944   \n",
       "680829       14646  LAB3036180   \n",
       "680830       14646  LAB3027162   \n",
       "680831       14646  LAB3007876   \n",
       "680833       14646  LAB3011397   \n",
       "680834       14646  LAB3021601   \n",
       "680835       14646  LAB3005897   \n",
       "680836       14646  LAB3020399   \n",
       "680837       14646  LAB3032459   \n",
       "680838       14646  LAB3011258   \n",
       "680839       14646  LAB3007950   \n",
       "680841       14646  LAB3045414   \n",
       "680842       14646  LAB3035124   \n",
       "680843       14646  LAB3035583   \n",
       "680844       14646  LAB3004562   \n",
       "680845       14646  LAB3000259   \n",
       "680846       14646  LAB3010189   \n",
       "\n",
       "                                        event_description   timestamp  value  \n",
       "11168                      Macrocytes [Presence] in Blood  2015-09-17    NaN  \n",
       "11169                      Microcytes [Presence] in Blood  2015-09-17    NaN  \n",
       "11170   Polychromasia [Presence] in Blood by Light mic...  2015-09-17    NaN  \n",
       "11171   Target cells [Presence] in Blood by Light micr...  2015-09-17    NaN  \n",
       "11172   Schistocytes [Presence] in Blood by Light micr...  2015-09-17    NaN  \n",
       "11173   Burr cells [Presence] in Blood by Light micros...  2015-09-17    NaN  \n",
       "11183       Neutrophils.band form/100 leukocytes in Blood  2015-09-17    NaN  \n",
       "11186                 Eosinophils/100 leukocytes in Blood  2015-09-17    NaN  \n",
       "11187                   Basophils/100 leukocytes in Blood  2015-09-17    NaN  \n",
       "11189              Metamyelocytes/100 leukocytes in Blood  2015-09-17    NaN  \n",
       "11190                  Myelocytes/100 leukocytes in Blood  2015-09-17    NaN  \n",
       "11191   Hypochromia [Presence] in Blood by Light micro...  2015-09-17    NaN  \n",
       "11192                    Anisocytosis [Presence] in Blood  2015-09-17    NaN  \n",
       "11193   Poikilocytosis [Presence] in Blood by Light mi...  2015-09-17    NaN  \n",
       "11194   Dacrocytes [Presence] in Blood by Light micros...  2015-09-17    NaN  \n",
       "11230           Troponin I.cardiac [Mass/volume] in Blood  2009-12-27    NaN  \n",
       "11250   Epithelial cells [#/area] in Urine sediment by...  2009-12-27    NaN  \n",
       "11251   Yeast [Presence] in Urine sediment by Light mi...  2009-12-27    NaN  \n",
       "11252   Bacteria [Presence] in Urine sediment by Light...  2009-12-27    NaN  \n",
       "11253   Leukocytes [#/area] in Urine sediment by Micro...  2009-12-27    NaN  \n",
       "11254   Erythrocytes [#/area] in Urine sediment by Mic...  2009-12-27    NaN  \n",
       "11255                      Leukocytes [Presence] in Urine  2009-12-27    NaN  \n",
       "11258                 Bilirubin.total [Presence] in Urine  2009-12-27    NaN  \n",
       "11259                      Ketones [Mass/volume] in Urine  2009-12-27    NaN  \n",
       "11260                      Glucose [Mass/volume] in Urine  2009-12-27    NaN  \n",
       "11262           Nitrite [Presence] in Urine by Test strip  2009-12-27    NaN  \n",
       "11263        Hemoglobin [Presence] in Urine by Test strip  2009-12-27    NaN  \n",
       "11265                                 Appearance of Urine  2009-12-27    NaN  \n",
       "11266                                      Color of Urine  2009-12-27    NaN  \n",
       "11271                  Myelocytes/100 leukocytes in Blood  2009-12-27    NaN  \n",
       "...                                                   ...         ...    ...  \n",
       "680552                                Appearance of Urine  2012-06-23    NaN  \n",
       "680569                               Base excess in Blood  2012-06-24    NaN  \n",
       "680600                               Base excess in Blood  2012-06-25    NaN  \n",
       "680797  Acetylsalicylate [Mass/volume] in Serum or Plasma  2012-03-20    NaN  \n",
       "680799     Acetaminophen [Mass/volume] in Serum or Plasma  2012-03-20    NaN  \n",
       "680813                  Basophils/100 leukocytes in Blood  2012-03-20    NaN  \n",
       "680816                 Myelocytes/100 leukocytes in Blood  2012-03-20    NaN  \n",
       "680817  Hypochromia [Presence] in Blood by Light micro...  2012-03-20    NaN  \n",
       "680823                       Collection duration of Urine  2012-03-20    NaN  \n",
       "680824                Benzodiazepines [Presence] in Urine  2012-03-20    NaN  \n",
       "680825                   Barbiturates [Presence] in Urine  2012-03-20    NaN  \n",
       "680826                        Opiates [Presence] in Urine  2012-03-20    NaN  \n",
       "680827                        Cocaine [Presence] in Urine  2012-03-20    NaN  \n",
       "680828                   Amphetamines [Presence] in Urine  2012-03-20    NaN  \n",
       "680829                      Methadone [Presence] in Urine  2012-03-20    NaN  \n",
       "680830                                     Color of Urine  2012-03-20    NaN  \n",
       "680831                                Appearance of Urine  2012-03-20    NaN  \n",
       "680833       Hemoglobin [Presence] in Urine by Test strip  2012-03-20    NaN  \n",
       "680834          Nitrite [Presence] in Urine by Test strip  2012-03-20    NaN  \n",
       "680835       Protein [Mass/volume] in Urine by Test strip  2012-03-20    NaN  \n",
       "680836                     Glucose [Mass/volume] in Urine  2012-03-20    NaN  \n",
       "680837                     Ketones [Mass/volume] in Urine  2012-03-20    NaN  \n",
       "680838                Bilirubin.total [Presence] in Urine  2012-03-20    NaN  \n",
       "680839                Urobilinogen [Mass/volume] in Urine  2012-03-20    NaN  \n",
       "680841                     Leukocytes [Presence] in Urine  2012-03-20    NaN  \n",
       "680842  Erythrocytes [#/area] in Urine sediment by Mic...  2012-03-20    NaN  \n",
       "680843  Leukocytes [#/area] in Urine sediment by Micro...  2012-03-20    NaN  \n",
       "680844  Bacteria [Presence] in Urine sediment by Light...  2012-03-20    NaN  \n",
       "680845  Yeast [Presence] in Urine sediment by Light mi...  2012-03-20    NaN  \n",
       "680846  Epithelial cells [#/area] in Urine sediment by...  2012-03-20    NaN  \n",
       "\n",
       "[72549 rows x 5 columns]"
      ]
     },
     "execution_count": 86,
     "metadata": {},
     "output_type": "execute_result"
    }
   ],
   "source": [
    "events.loc[events.value.isnull()]"
   ]
  },
  {
   "cell_type": "code",
   "execution_count": null,
   "metadata": {
    "collapsed": true
   },
   "outputs": [],
   "source": []
  }
 ],
 "metadata": {
  "kernelspec": {
   "display_name": "Python (cse6250-homework1)",
   "language": "python",
   "name": "homework1"
  },
  "language_info": {
   "codemirror_mode": {
    "name": "ipython",
    "version": 3
   },
   "file_extension": ".py",
   "mimetype": "text/x-python",
   "name": "python",
   "nbconvert_exporter": "python",
   "pygments_lexer": "ipython3",
   "version": "3.6.5"
  }
 },
 "nbformat": 4,
 "nbformat_minor": 2
}
