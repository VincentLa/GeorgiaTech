{
 "cells": [
  {
   "cell_type": "code",
   "execution_count": 1,
   "metadata": {
    "collapsed": true
   },
   "outputs": [],
   "source": [
    "import numpy as np\n",
    "import pandas as pd\n",
    "import math"
   ]
  },
  {
   "cell_type": "code",
   "execution_count": 2,
   "metadata": {
    "collapsed": true
   },
   "outputs": [],
   "source": [
    "num_rows = np.random.randint(low=10, high=1000)\n",
    "num_cols = np.random.randint(low=2, high=1000)\n",
    "X = np.random.normal(size=(num_rows, num_cols))\n",
    "error = np.random.normal(size=num_rows)"
   ]
  },
  {
   "cell_type": "code",
   "execution_count": 3,
   "metadata": {},
   "outputs": [
    {
     "data": {
      "text/plain": [
       "array([[-1.578771  ,  1.04921333,  2.35582582, ...,  0.83615558,\n",
       "        -0.15947612,  0.2106375 ],\n",
       "       [ 0.83359316, -1.75837843, -0.10642767, ..., -0.18949109,\n",
       "        -0.51991953,  0.09039556],\n",
       "       [ 0.98040982,  0.09340535, -0.76350131, ...,  0.59920542,\n",
       "        -0.71250391, -0.8705424 ],\n",
       "       ..., \n",
       "       [ 1.84881037,  0.55813258, -0.05749412, ..., -1.18858091,\n",
       "         0.15845484, -0.77447312],\n",
       "       [ 1.30553059, -0.6804907 , -0.93739091, ...,  0.35070152,\n",
       "        -0.03091575, -0.52165925],\n",
       "       [-0.92943859, -1.29847522, -1.18241239, ...,  1.43687597,\n",
       "        -0.02787083, -0.45998654]])"
      ]
     },
     "execution_count": 3,
     "metadata": {},
     "output_type": "execute_result"
    }
   ],
   "source": [
    "X"
   ]
  },
  {
   "cell_type": "code",
   "execution_count": 4,
   "metadata": {
    "collapsed": true
   },
   "outputs": [],
   "source": [
    "df = pd.DataFrame(X)"
   ]
  },
  {
   "cell_type": "code",
   "execution_count": 5,
   "metadata": {},
   "outputs": [
    {
     "data": {
      "text/html": [
       "<div>\n",
       "<style>\n",
       "    .dataframe thead tr:only-child th {\n",
       "        text-align: right;\n",
       "    }\n",
       "\n",
       "    .dataframe thead th {\n",
       "        text-align: left;\n",
       "    }\n",
       "\n",
       "    .dataframe tbody tr th {\n",
       "        vertical-align: top;\n",
       "    }\n",
       "</style>\n",
       "<table border=\"1\" class=\"dataframe\">\n",
       "  <thead>\n",
       "    <tr style=\"text-align: right;\">\n",
       "      <th></th>\n",
       "      <th>0</th>\n",
       "      <th>1</th>\n",
       "      <th>2</th>\n",
       "      <th>3</th>\n",
       "      <th>4</th>\n",
       "      <th>5</th>\n",
       "      <th>6</th>\n",
       "      <th>7</th>\n",
       "      <th>8</th>\n",
       "      <th>9</th>\n",
       "      <th>...</th>\n",
       "      <th>381</th>\n",
       "      <th>382</th>\n",
       "      <th>383</th>\n",
       "      <th>384</th>\n",
       "      <th>385</th>\n",
       "      <th>386</th>\n",
       "      <th>387</th>\n",
       "      <th>388</th>\n",
       "      <th>389</th>\n",
       "      <th>390</th>\n",
       "    </tr>\n",
       "  </thead>\n",
       "  <tbody>\n",
       "    <tr>\n",
       "      <th>0</th>\n",
       "      <td>-1.578771</td>\n",
       "      <td>1.049213</td>\n",
       "      <td>2.355826</td>\n",
       "      <td>0.525669</td>\n",
       "      <td>0.924195</td>\n",
       "      <td>-1.411512</td>\n",
       "      <td>0.094601</td>\n",
       "      <td>-0.405807</td>\n",
       "      <td>-1.913909</td>\n",
       "      <td>-0.814626</td>\n",
       "      <td>...</td>\n",
       "      <td>0.606339</td>\n",
       "      <td>-0.892809</td>\n",
       "      <td>-0.339084</td>\n",
       "      <td>0.419079</td>\n",
       "      <td>0.830226</td>\n",
       "      <td>0.550028</td>\n",
       "      <td>-0.455941</td>\n",
       "      <td>0.836156</td>\n",
       "      <td>-0.159476</td>\n",
       "      <td>0.210637</td>\n",
       "    </tr>\n",
       "    <tr>\n",
       "      <th>1</th>\n",
       "      <td>0.833593</td>\n",
       "      <td>-1.758378</td>\n",
       "      <td>-0.106428</td>\n",
       "      <td>-2.072514</td>\n",
       "      <td>-1.875182</td>\n",
       "      <td>1.285696</td>\n",
       "      <td>-0.072586</td>\n",
       "      <td>-2.974033</td>\n",
       "      <td>-1.063279</td>\n",
       "      <td>0.865398</td>\n",
       "      <td>...</td>\n",
       "      <td>0.285468</td>\n",
       "      <td>-0.445032</td>\n",
       "      <td>0.153180</td>\n",
       "      <td>-0.353425</td>\n",
       "      <td>-0.145823</td>\n",
       "      <td>-0.229449</td>\n",
       "      <td>-1.152294</td>\n",
       "      <td>-0.189491</td>\n",
       "      <td>-0.519920</td>\n",
       "      <td>0.090396</td>\n",
       "    </tr>\n",
       "    <tr>\n",
       "      <th>2</th>\n",
       "      <td>0.980410</td>\n",
       "      <td>0.093405</td>\n",
       "      <td>-0.763501</td>\n",
       "      <td>-0.122833</td>\n",
       "      <td>-0.698836</td>\n",
       "      <td>0.450425</td>\n",
       "      <td>-1.389063</td>\n",
       "      <td>-0.343318</td>\n",
       "      <td>-0.388203</td>\n",
       "      <td>-0.132550</td>\n",
       "      <td>...</td>\n",
       "      <td>1.157676</td>\n",
       "      <td>0.346600</td>\n",
       "      <td>-0.291543</td>\n",
       "      <td>1.234247</td>\n",
       "      <td>0.342310</td>\n",
       "      <td>-1.394649</td>\n",
       "      <td>0.987199</td>\n",
       "      <td>0.599205</td>\n",
       "      <td>-0.712504</td>\n",
       "      <td>-0.870542</td>\n",
       "    </tr>\n",
       "    <tr>\n",
       "      <th>3</th>\n",
       "      <td>-1.056293</td>\n",
       "      <td>-0.634185</td>\n",
       "      <td>0.180256</td>\n",
       "      <td>-1.933667</td>\n",
       "      <td>-0.626567</td>\n",
       "      <td>0.999961</td>\n",
       "      <td>-0.017725</td>\n",
       "      <td>1.076877</td>\n",
       "      <td>-0.348478</td>\n",
       "      <td>0.407883</td>\n",
       "      <td>...</td>\n",
       "      <td>1.092415</td>\n",
       "      <td>-0.494496</td>\n",
       "      <td>1.734243</td>\n",
       "      <td>1.873984</td>\n",
       "      <td>-0.039871</td>\n",
       "      <td>0.758577</td>\n",
       "      <td>-0.831427</td>\n",
       "      <td>0.841633</td>\n",
       "      <td>-1.548833</td>\n",
       "      <td>0.781434</td>\n",
       "    </tr>\n",
       "    <tr>\n",
       "      <th>4</th>\n",
       "      <td>-0.877679</td>\n",
       "      <td>0.815477</td>\n",
       "      <td>-1.092786</td>\n",
       "      <td>2.819796</td>\n",
       "      <td>-0.274532</td>\n",
       "      <td>-1.652215</td>\n",
       "      <td>-0.222990</td>\n",
       "      <td>-0.094842</td>\n",
       "      <td>0.130413</td>\n",
       "      <td>1.381480</td>\n",
       "      <td>...</td>\n",
       "      <td>-0.328313</td>\n",
       "      <td>0.313502</td>\n",
       "      <td>-1.330395</td>\n",
       "      <td>0.014934</td>\n",
       "      <td>-0.291351</td>\n",
       "      <td>0.832369</td>\n",
       "      <td>0.127525</td>\n",
       "      <td>-1.118597</td>\n",
       "      <td>0.959511</td>\n",
       "      <td>-2.025361</td>\n",
       "    </tr>\n",
       "  </tbody>\n",
       "</table>\n",
       "<p>5 rows × 391 columns</p>\n",
       "</div>"
      ],
      "text/plain": [
       "        0         1         2         3         4         5         6    \\\n",
       "0 -1.578771  1.049213  2.355826  0.525669  0.924195 -1.411512  0.094601   \n",
       "1  0.833593 -1.758378 -0.106428 -2.072514 -1.875182  1.285696 -0.072586   \n",
       "2  0.980410  0.093405 -0.763501 -0.122833 -0.698836  0.450425 -1.389063   \n",
       "3 -1.056293 -0.634185  0.180256 -1.933667 -0.626567  0.999961 -0.017725   \n",
       "4 -0.877679  0.815477 -1.092786  2.819796 -0.274532 -1.652215 -0.222990   \n",
       "\n",
       "        7         8         9      ...          381       382       383  \\\n",
       "0 -0.405807 -1.913909 -0.814626    ...     0.606339 -0.892809 -0.339084   \n",
       "1 -2.974033 -1.063279  0.865398    ...     0.285468 -0.445032  0.153180   \n",
       "2 -0.343318 -0.388203 -0.132550    ...     1.157676  0.346600 -0.291543   \n",
       "3  1.076877 -0.348478  0.407883    ...     1.092415 -0.494496  1.734243   \n",
       "4 -0.094842  0.130413  1.381480    ...    -0.328313  0.313502 -1.330395   \n",
       "\n",
       "        384       385       386       387       388       389       390  \n",
       "0  0.419079  0.830226  0.550028 -0.455941  0.836156 -0.159476  0.210637  \n",
       "1 -0.353425 -0.145823 -0.229449 -1.152294 -0.189491 -0.519920  0.090396  \n",
       "2  1.234247  0.342310 -1.394649  0.987199  0.599205 -0.712504 -0.870542  \n",
       "3  1.873984 -0.039871  0.758577 -0.831427  0.841633 -1.548833  0.781434  \n",
       "4  0.014934 -0.291351  0.832369  0.127525 -1.118597  0.959511 -2.025361  \n",
       "\n",
       "[5 rows x 391 columns]"
      ]
     },
     "execution_count": 5,
     "metadata": {},
     "output_type": "execute_result"
    }
   ],
   "source": [
    "df.head()"
   ]
  },
  {
   "cell_type": "code",
   "execution_count": 6,
   "metadata": {},
   "outputs": [
    {
     "data": {
      "text/plain": [
       "array([ 1.49423927, -0.7096516 , -2.56492145,  0.83978444,  0.16767612,\n",
       "        0.01116178, -1.4310155 , -0.83187032, -1.04089967, -0.68360278,\n",
       "       -0.2738611 , -1.22919567, -0.24513692,  0.32368362, -0.23322992,\n",
       "        0.85193223,  1.40831327, -0.93966723,  0.62545902,  0.215696  ,\n",
       "        0.56281155,  1.20421867,  0.30722787, -0.63662259,  0.597039  ,\n",
       "        0.94523393, -0.22800107, -0.59211622,  1.2440842 , -0.15976557,\n",
       "        0.29681924,  0.28152215])"
      ]
     },
     "execution_count": 6,
     "metadata": {},
     "output_type": "execute_result"
    }
   ],
   "source": [
    "error"
   ]
  },
  {
   "cell_type": "code",
   "execution_count": 7,
   "metadata": {
    "collapsed": true
   },
   "outputs": [],
   "source": [
    "Y = np.array([])"
   ]
  },
  {
   "cell_type": "code",
   "execution_count": 8,
   "metadata": {
    "collapsed": true
   },
   "outputs": [],
   "source": [
    "for i in range(num_rows):\n",
    "    col_idx = np.random.randint(low=0, high=num_cols)\n",
    "    slice_col = X[:, col_idx]\n",
    "    col_mean = np.mean(slice_col)\n",
    "    if(X[i, col_idx] < col_mean):\n",
    "        Y = np.append(Y, )\n",
    "    \n",
    "    Y = Y + coef * Y\n",
    "Y = Y + error  # Add a normal error term"
   ]
  },
  {
   "cell_type": "code",
   "execution_count": 9,
   "metadata": {},
   "outputs": [
    {
     "data": {
      "text/plain": [
       "(32,)"
      ]
     },
     "execution_count": 9,
     "metadata": {},
     "output_type": "execute_result"
    }
   ],
   "source": [
    "Y.shape"
   ]
  },
  {
   "cell_type": "code",
   "execution_count": 10,
   "metadata": {
    "collapsed": true
   },
   "outputs": [],
   "source": [
    "    col_idx = np.random.randint(low=0, high=num_cols)\n",
    "    slice_col = X[:, col_idx]"
   ]
  },
  {
   "cell_type": "code",
   "execution_count": 11,
   "metadata": {},
   "outputs": [
    {
     "data": {
      "text/plain": [
       "array([ 0.44782712, -1.26012155,  0.55495774,  0.87060779,  0.70320068,\n",
       "       -0.71606542,  1.50804042,  0.59771206,  0.21977387,  0.34834439,\n",
       "       -0.48522074,  0.99784988,  0.42184301, -1.49126956,  0.03165407,\n",
       "        0.28132062, -0.27298773, -0.87504397, -0.21675028, -0.93993049,\n",
       "       -1.42971798,  1.98646052,  0.56940648,  2.54609004,  0.28197236,\n",
       "       -0.46271926,  0.71929927,  1.14786742, -0.68937033,  0.84499711,\n",
       "       -0.24295897, -0.00603878])"
      ]
     },
     "execution_count": 11,
     "metadata": {},
     "output_type": "execute_result"
    }
   ],
   "source": [
    "slice_col"
   ]
  },
  {
   "cell_type": "code",
   "execution_count": 12,
   "metadata": {},
   "outputs": [
    {
     "data": {
      "text/plain": [
       "0.18721968024415928"
      ]
     },
     "execution_count": 12,
     "metadata": {},
     "output_type": "execute_result"
    }
   ],
   "source": [
    "np.mean(slice_col)"
   ]
  },
  {
   "cell_type": "code",
   "execution_count": null,
   "metadata": {
    "collapsed": true
   },
   "outputs": [],
   "source": []
  }
 ],
 "metadata": {
  "kernelspec": {
   "display_name": "Python 3",
   "language": "python",
   "name": "python3"
  },
  "language_info": {
   "codemirror_mode": {
    "name": "ipython",
    "version": 3
   },
   "file_extension": ".py",
   "mimetype": "text/x-python",
   "name": "python",
   "nbconvert_exporter": "python",
   "pygments_lexer": "ipython3",
   "version": "3.6.1"
  }
 },
 "nbformat": 4,
 "nbformat_minor": 2
}
