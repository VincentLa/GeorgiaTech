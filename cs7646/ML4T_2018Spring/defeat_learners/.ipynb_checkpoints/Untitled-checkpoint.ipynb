{
 "cells": [
  {
   "cell_type": "code",
   "execution_count": 22,
   "metadata": {
    "collapsed": true
   },
   "outputs": [],
   "source": [
    "import numpy as np\n",
    "import pandas as pd\n",
    "import math"
   ]
  },
  {
   "cell_type": "code",
   "execution_count": 27,
   "metadata": {},
   "outputs": [],
   "source": [
    "num_rows = np.random.randint(low=10, high=1000)\n",
    "num_cols = np.random.randint(low=2, high=1000)\n",
    "X = np.random.normal(size=(num_rows, num_cols))\n",
    "error = np.random.normal(size=num_rows)"
   ]
  },
  {
   "cell_type": "code",
   "execution_count": 28,
   "metadata": {},
   "outputs": [
    {
     "data": {
      "text/plain": [
       "array([[-0.01496918, -2.72423126,  2.09761369, ..., -3.11504325,\n",
       "        -1.87096539,  0.26953148],\n",
       "       [ 0.74693411, -1.0238227 ,  0.56094884, ..., -0.18472962,\n",
       "        -1.05935285, -1.6817086 ],\n",
       "       [ 0.8296874 ,  0.30865641,  0.46307205, ..., -0.57399645,\n",
       "         2.76057932, -0.11491057],\n",
       "       ..., \n",
       "       [-0.05826186,  1.77465858,  0.41638645, ..., -1.19577691,\n",
       "         0.71151629,  0.95131809],\n",
       "       [ 0.52521503,  1.99484274, -0.08911013, ..., -0.74495289,\n",
       "        -1.60467075, -1.56126434],\n",
       "       [-0.73168442, -2.40443348, -3.233458  , ..., -1.05678861,\n",
       "        -1.1573661 ,  0.81014518]])"
      ]
     },
     "execution_count": 28,
     "metadata": {},
     "output_type": "execute_result"
    }
   ],
   "source": [
    "X"
   ]
  },
  {
   "cell_type": "code",
   "execution_count": 23,
   "metadata": {},
   "outputs": [],
   "source": [
    "df = pd.DataFrame(X)"
   ]
  },
  {
   "cell_type": "code",
   "execution_count": 24,
   "metadata": {},
   "outputs": [
    {
     "data": {
      "text/html": [
       "<div>\n",
       "<style>\n",
       "    .dataframe thead tr:only-child th {\n",
       "        text-align: right;\n",
       "    }\n",
       "\n",
       "    .dataframe thead th {\n",
       "        text-align: left;\n",
       "    }\n",
       "\n",
       "    .dataframe tbody tr th {\n",
       "        vertical-align: top;\n",
       "    }\n",
       "</style>\n",
       "<table border=\"1\" class=\"dataframe\">\n",
       "  <thead>\n",
       "    <tr style=\"text-align: right;\">\n",
       "      <th></th>\n",
       "      <th>0</th>\n",
       "      <th>1</th>\n",
       "      <th>2</th>\n",
       "      <th>3</th>\n",
       "      <th>4</th>\n",
       "      <th>5</th>\n",
       "      <th>6</th>\n",
       "      <th>7</th>\n",
       "      <th>8</th>\n",
       "      <th>9</th>\n",
       "      <th>...</th>\n",
       "      <th>159</th>\n",
       "      <th>160</th>\n",
       "      <th>161</th>\n",
       "      <th>162</th>\n",
       "      <th>163</th>\n",
       "      <th>164</th>\n",
       "      <th>165</th>\n",
       "      <th>166</th>\n",
       "      <th>167</th>\n",
       "      <th>168</th>\n",
       "    </tr>\n",
       "  </thead>\n",
       "  <tbody>\n",
       "    <tr>\n",
       "      <th>0</th>\n",
       "      <td>0.034136</td>\n",
       "      <td>0.070567</td>\n",
       "      <td>-1.600638</td>\n",
       "      <td>-0.438405</td>\n",
       "      <td>-0.328989</td>\n",
       "      <td>-0.980073</td>\n",
       "      <td>0.190238</td>\n",
       "      <td>1.168829</td>\n",
       "      <td>0.592308</td>\n",
       "      <td>-1.883872</td>\n",
       "      <td>...</td>\n",
       "      <td>-0.926089</td>\n",
       "      <td>-0.751356</td>\n",
       "      <td>0.584756</td>\n",
       "      <td>-0.317020</td>\n",
       "      <td>-1.877539</td>\n",
       "      <td>1.753466</td>\n",
       "      <td>-0.180902</td>\n",
       "      <td>-0.598387</td>\n",
       "      <td>-0.606204</td>\n",
       "      <td>-0.725471</td>\n",
       "    </tr>\n",
       "    <tr>\n",
       "      <th>1</th>\n",
       "      <td>-0.204366</td>\n",
       "      <td>-1.892923</td>\n",
       "      <td>0.012930</td>\n",
       "      <td>0.239276</td>\n",
       "      <td>-0.566521</td>\n",
       "      <td>0.991511</td>\n",
       "      <td>0.906353</td>\n",
       "      <td>1.629928</td>\n",
       "      <td>-1.385686</td>\n",
       "      <td>-0.942935</td>\n",
       "      <td>...</td>\n",
       "      <td>1.976767</td>\n",
       "      <td>0.987805</td>\n",
       "      <td>0.524236</td>\n",
       "      <td>1.169133</td>\n",
       "      <td>0.658434</td>\n",
       "      <td>-0.129704</td>\n",
       "      <td>-1.791914</td>\n",
       "      <td>2.122758</td>\n",
       "      <td>-0.826482</td>\n",
       "      <td>0.372745</td>\n",
       "    </tr>\n",
       "    <tr>\n",
       "      <th>2</th>\n",
       "      <td>-0.189112</td>\n",
       "      <td>-0.924770</td>\n",
       "      <td>0.846906</td>\n",
       "      <td>0.609906</td>\n",
       "      <td>-0.218922</td>\n",
       "      <td>-0.053022</td>\n",
       "      <td>0.340274</td>\n",
       "      <td>-0.588092</td>\n",
       "      <td>-0.297925</td>\n",
       "      <td>0.781539</td>\n",
       "      <td>...</td>\n",
       "      <td>0.107110</td>\n",
       "      <td>-0.486613</td>\n",
       "      <td>-1.866357</td>\n",
       "      <td>-0.481413</td>\n",
       "      <td>-2.643973</td>\n",
       "      <td>-1.609518</td>\n",
       "      <td>1.309066</td>\n",
       "      <td>0.347099</td>\n",
       "      <td>2.086128</td>\n",
       "      <td>0.016007</td>\n",
       "    </tr>\n",
       "    <tr>\n",
       "      <th>3</th>\n",
       "      <td>2.703684</td>\n",
       "      <td>-0.596335</td>\n",
       "      <td>0.992145</td>\n",
       "      <td>-1.295289</td>\n",
       "      <td>0.732034</td>\n",
       "      <td>-1.273254</td>\n",
       "      <td>-1.257998</td>\n",
       "      <td>-1.248212</td>\n",
       "      <td>-1.836705</td>\n",
       "      <td>-0.179093</td>\n",
       "      <td>...</td>\n",
       "      <td>-0.979319</td>\n",
       "      <td>1.916655</td>\n",
       "      <td>1.995066</td>\n",
       "      <td>-0.431049</td>\n",
       "      <td>0.078970</td>\n",
       "      <td>1.522601</td>\n",
       "      <td>-1.566592</td>\n",
       "      <td>1.674900</td>\n",
       "      <td>1.162287</td>\n",
       "      <td>-0.561633</td>\n",
       "    </tr>\n",
       "    <tr>\n",
       "      <th>4</th>\n",
       "      <td>0.689642</td>\n",
       "      <td>0.932168</td>\n",
       "      <td>0.660585</td>\n",
       "      <td>0.601353</td>\n",
       "      <td>-2.140640</td>\n",
       "      <td>-0.848917</td>\n",
       "      <td>1.094592</td>\n",
       "      <td>0.617576</td>\n",
       "      <td>-0.773134</td>\n",
       "      <td>0.209835</td>\n",
       "      <td>...</td>\n",
       "      <td>0.125734</td>\n",
       "      <td>0.870889</td>\n",
       "      <td>0.569801</td>\n",
       "      <td>-0.479481</td>\n",
       "      <td>-0.013970</td>\n",
       "      <td>1.275882</td>\n",
       "      <td>-0.620092</td>\n",
       "      <td>1.090635</td>\n",
       "      <td>-1.120287</td>\n",
       "      <td>0.964976</td>\n",
       "    </tr>\n",
       "  </tbody>\n",
       "</table>\n",
       "<p>5 rows × 169 columns</p>\n",
       "</div>"
      ],
      "text/plain": [
       "        0         1         2         3         4         5         6    \\\n",
       "0  0.034136  0.070567 -1.600638 -0.438405 -0.328989 -0.980073  0.190238   \n",
       "1 -0.204366 -1.892923  0.012930  0.239276 -0.566521  0.991511  0.906353   \n",
       "2 -0.189112 -0.924770  0.846906  0.609906 -0.218922 -0.053022  0.340274   \n",
       "3  2.703684 -0.596335  0.992145 -1.295289  0.732034 -1.273254 -1.257998   \n",
       "4  0.689642  0.932168  0.660585  0.601353 -2.140640 -0.848917  1.094592   \n",
       "\n",
       "        7         8         9      ...          159       160       161  \\\n",
       "0  1.168829  0.592308 -1.883872    ...    -0.926089 -0.751356  0.584756   \n",
       "1  1.629928 -1.385686 -0.942935    ...     1.976767  0.987805  0.524236   \n",
       "2 -0.588092 -0.297925  0.781539    ...     0.107110 -0.486613 -1.866357   \n",
       "3 -1.248212 -1.836705 -0.179093    ...    -0.979319  1.916655  1.995066   \n",
       "4  0.617576 -0.773134  0.209835    ...     0.125734  0.870889  0.569801   \n",
       "\n",
       "        162       163       164       165       166       167       168  \n",
       "0 -0.317020 -1.877539  1.753466 -0.180902 -0.598387 -0.606204 -0.725471  \n",
       "1  1.169133  0.658434 -0.129704 -1.791914  2.122758 -0.826482  0.372745  \n",
       "2 -0.481413 -2.643973 -1.609518  1.309066  0.347099  2.086128  0.016007  \n",
       "3 -0.431049  0.078970  1.522601 -1.566592  1.674900  1.162287 -0.561633  \n",
       "4 -0.479481 -0.013970  1.275882 -0.620092  1.090635 -1.120287  0.964976  \n",
       "\n",
       "[5 rows x 169 columns]"
      ]
     },
     "execution_count": 24,
     "metadata": {},
     "output_type": "execute_result"
    }
   ],
   "source": [
    "df.head()"
   ]
  },
  {
   "cell_type": "code",
   "execution_count": 26,
   "metadata": {},
   "outputs": [
    {
     "data": {
      "text/plain": [
       "array([-1.22613186, -0.22511556,  1.53146291,  0.42058446, -1.6676114 ,\n",
       "       -0.67383766,  0.74486823,  1.45017987, -0.35377655,  0.25214842])"
      ]
     },
     "execution_count": 26,
     "metadata": {},
     "output_type": "execute_result"
    }
   ],
   "source": [
    "error"
   ]
  },
  {
   "cell_type": "code",
   "execution_count": 36,
   "metadata": {},
   "outputs": [],
   "source": [
    "Y = X[:, 0]"
   ]
  },
  {
   "cell_type": "code",
   "execution_count": 37,
   "metadata": {},
   "outputs": [],
   "source": [
    "for i in range(1, num_cols):\n",
    "    coef = np.random.normal()\n",
    "    Y = Y + coef * Y\n",
    "Y = Y + error  # Add a normal error term"
   ]
  },
  {
   "cell_type": "code",
   "execution_count": 39,
   "metadata": {},
   "outputs": [
    {
     "data": {
      "text/plain": [
       "(745,)"
      ]
     },
     "execution_count": 39,
     "metadata": {},
     "output_type": "execute_result"
    }
   ],
   "source": [
    "Y.shape"
   ]
  },
  {
   "cell_type": "code",
   "execution_count": null,
   "metadata": {
    "collapsed": true
   },
   "outputs": [],
   "source": []
  }
 ],
 "metadata": {
  "kernelspec": {
   "display_name": "Python 3",
   "language": "python",
   "name": "python3"
  },
  "language_info": {
   "codemirror_mode": {
    "name": "ipython",
    "version": 3
   },
   "file_extension": ".py",
   "mimetype": "text/x-python",
   "name": "python",
   "nbconvert_exporter": "python",
   "pygments_lexer": "ipython3",
   "version": "3.6.1"
  }
 },
 "nbformat": 4,
 "nbformat_minor": 2
}
